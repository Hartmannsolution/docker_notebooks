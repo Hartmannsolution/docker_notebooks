{
 "cells": [
  {
   "cell_type": "markdown",
   "metadata": {},
   "source": [
    "# Exam preparation\n",
    "The last 3 weeks of the semester each group work on an exam project. This project will is what we base the oral exam on. Each member of the group will be asked about different part of the solutions. Questions may also be asked about other parts of the semesters first 5 weeks material (the basics).\n",
    "\n",
    "### The project description\n",
    "A description of the project (a project proposal) must be finalized in the 7th week of the course. To get the project proposal aproved each group must present the proposal in class on the following week and send the proposal to tha@cphbusiness.dk the week before.  \n",
    "\n",
    "The proposal must contain the following **5 points:**\n",
    "0. Group name and group members.\n",
    "1. Description of the data (with a link to the data source)\n",
    "2. Description of the proplem (what questions to ask the data)\n",
    "3. What technologies (libraries) will be used\n",
    "4. What will be the main challenge(s) in the project\n",
    "\n",
    "### Requirements for the exam project\n",
    "Try to cover elements from most of these 5 areas:\n",
    "- Getting data\n",
    "  - Reading and writing with a variety of file formats and data stores.\n",
    "- Preparing data\n",
    "  - Cleaning, munging, combining, normalizing, reshaping, slicing and dicing, and transforming data for analysis.\n",
    "- Transformation\n",
    "  - Applying mathematical and statistical operations to groups of datasets to derive new datasets (e.g., aggregating a large table by group variables in numpy and/or pandas)\n",
    "- Modeling and computation\n",
    "  - Connecting your data to statistical models, machine learning algorithms, or other computational tools\n",
    "- Presentation\n",
    "  - Creating interactive or static graphical visualizations and/or textual summaries\n",
    "\n",
    "### Inspiration\n",
    "I link here to some examples of student exam [projects from 2019](Exam_proposals2019.md)\n",
    "\n",
    "### Exam question\n",
    "These are examples of general [exam questions ](exam_questions.md) from the curriculum, but mainly questions will be to the code you have developed (unless the project is very small)\n",
    "\n",
    "### Hand-in\n",
    "##### Wiseflow\n",
    "The project must be handed in on wiseflow.   \n",
    "Hand in on wiseflow must contain a single **.txt** file with the following:\n",
    "1. Group name\n",
    "2. Name and cphbusiness ID of each group member\n",
    "3. URl to github repo containing the project (remember to make the repo public before the deadline)\n",
    "\n",
    "##### Github\n",
    "The github repo must contain a README.md file with the following:\n",
    "1. Project name\n",
    "2. Short description\n",
    "3. List of used technologies\n",
    "4. Installation guide (if any libraries need to be installed)\n",
    "5. User guide (how to run the program)\n",
    "6. Status (What has been done (and if anything: what was not done))\n",
    "7. List of Challenges you have set up for your self (The things in your project you want to highlight)\n",
    "\n",
    "### Oral examination \n",
    "The examination is done in your group. Each group has 10 min for presentation plus 10 min. for each member of the group for questions. This means, that a group of 3 will have a total of 40 minuttes in which all members will be present. In this time the group will spent 10 min. presenting how the program solution works. Then I will ask questions to the code. It is a fast exam so it is important, that you think about how to showcase all the most important parts of the project in the code. "
   ]
  }
 ],
 "metadata": {
  "kernelspec": {
   "display_name": "Python 3 (ipykernel)",
   "language": "python",
   "name": "python3"
  },
  "language_info": {
   "codemirror_mode": {
    "name": "ipython",
    "version": 3
   },
   "file_extension": ".py",
   "mimetype": "text/x-python",
   "name": "python",
   "nbconvert_exporter": "python",
   "pygments_lexer": "ipython3",
   "version": "3.10.6"
  },
  "vscode": {
   "interpreter": {
    "hash": "aee8b7b246df8f9039afb4144a1f6fd8d2ca17a180786b69acc140d282b71a49"
   }
  }
 },
 "nbformat": 4,
 "nbformat_minor": 4
}
