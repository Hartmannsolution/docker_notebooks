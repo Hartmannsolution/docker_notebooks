{
 "cells": [
  {
   "cell_type": "markdown",
   "metadata": {
    "slideshow": {
     "slide_type": "slide"
    }
   },
   "source": [
    "# What do I need for this course?\n",
    "\n",
    "You will need:\n",
    "\n",
    "1. An installation of git.\n",
    "2. docker and docker compose (for windows and mac just install docker desktop) or\n",
    "   - A Python installation via the Anaconda distribution.\n",
    "3. The editor Visual Studio Code with some important extensions.\n",
    "4. Clone this repo (It contains the full dev environment with all libraries needed in a docker container\n",
    "5. Alternative instead of docker you can install python with ananconda (contains most of the needed dependencies)\n",
    " "
   ]
  },
  {
   "cell_type": "markdown",
   "metadata": {},
   "source": [
    "## Using python from a docker container (recommended)\n",
    "### Get docker desktop for windows and mac\n",
    "Goto: https://docs.docker.com/desktop/\n",
    "Install the application\n",
    "\n",
    "\n",
    "### Get the material\n",
    "This way is the easiest to ensure that all students are running on the exact same environment\n",
    "- Clone from github: `https://github.com/Hartmannsolution/docker_notebooks.git`\n",
    "- cd into `docker_notebooks`\n",
    "- from terminal run: `docker-compose up --build` (or on git bash from windows prefix the command with `winpty `)\n",
    "- click on the url:  \n",
    "\n",
    "![](images/notebookserver.png)\n",
    "- you can now run python code inside the jupyter notebook cells. Try opening this [notebook](../notebooks/01-0%20Test%20setup.ipynb) and run the cell by ctrl+enter when curser is inside the cell. It will run the code and show you that important libraries are installed on your system.\n"
   ]
  },
  {
   "cell_type": "markdown",
   "metadata": {},
   "source": [
    "## Thats it! You are now ready to begin the course.\n",
    "- Try to create a new folder inside the notebooks folder called: \"my_notebooks\". \n",
    "- Make this folder a git repository (from the terminal enter \"git init\" when in the root of this new folder. \n",
    "- In the .gitignore file of this parent repo, add the my_notebooks folder. \n",
    "- Finally create a new repo on github and link it to your new folder. This way you can create your own playground and back it up to github if you like."
   ]
  },
  {
   "cell_type": "markdown",
   "metadata": {},
   "source": [
    "Below are some more installation options but these are note required. \n",
    "There is a section though at the bottom of this page, called \"Running Python Code\" that you should take a look at. "
   ]
  },
  {
   "cell_type": "markdown",
   "metadata": {
    "slideshow": {
     "slide_type": "subslide"
    }
   },
   "source": [
    "### Alternative way to setup python environment (More work for you)\n",
    "\n",
    "If you dont want to use docker you can install python and some important libraries with the Anaconda package.\n",
    "\n",
    "Install the latest Python version corresponding to your machine and OS from https://www.anaconda.com/download.\n",
    "In case you need help read the installation instructions here: https://docs.anaconda.com/anaconda/install/\n",
    "\n",
    "**OBS:** This course will make use of Python 3.7. Many of the provided code examples will not work with Python 2! And if you use Anaconda rather than the docker setup I have made for you, you will have to install many libraries as we go and this might at times be a little challenging. So only do this if you want to put in some extra work :-)\n",
    "\n",
    "### Installing Anaconda on Windows.\n",
    "\n",
    "\n",
    "When starting the installation choose the settings as shown below.\n",
    "\n",
    "<img src=\"images/Ana_1.png\" width=\"60%\"/>\n",
    "    \n",
    "\n",
    "#### Adding the Anaconda Programs to your `PATH`\n",
    "\n",
    "In case you have to add the newly installed Anaconda programs to your Windows `PATH` variable do the following:\n",
    "\n",
    "* Open the `Komandoprompt` (`command prompt` on an English setup) as in the image below.\n",
    "<img src=\"images/komando.png\" width=\"30%\"/>\n",
    "* In the `Komandoprompt` window type the following:\n",
    "\n",
    "- **OBS**: Replace the `<your username>` in the pathes below with your username when typing in the command.\n",
    "\n",
    "```bash \n",
    "$ SETX PATH \"%PATH%;C:/Users/<your username>/Anaconda3/Scripts;C:/Users/<your username>/Anaconda3\"\n",
    "```\n",
    "    \n",
    "### Additional ressourcers:\n",
    "- [Using conda for virtual environments](https://towardsdatascience.com/getting-started-with-python-environments-using-conda-32e9f2779307)\n",
    "- [Notebook shortcuts](https://towardsdatascience.com/jypyter-notebook-shortcuts-bf0101a98330)\n",
    "\n",
    "## Some useful commands\n",
    "From the root of you project folder\n",
    "- `conda create -n <env name>` create a new virtual environment\n",
    "- `conda activate <env name>` activate the virtual environment where you have your dependencies.\n",
    "- `conda list` see all installed modules on the current virtual env\n",
    "- `conda info --envs` to see what virtual environments you have\n",
    "- `conda deactivate` stop using the environment\n",
    "- `conda remove --name <env name> --all` delete the environment permanently\n",
    "- `jupyter notebook` starting the notebook server and opening root in browser"
   ]
  },
  {
   "cell_type": "markdown",
   "metadata": {
    "slideshow": {
     "slide_type": "subslide"
    }
   },
   "source": [
    "### Testing your Python Installation\n",
    "\n",
    "On the terminal/GitBash try to check the version of Python, which should be something similar to:\n",
    "\n",
    "```bash\n",
    "$ python --version\n",
    "```\n",
    "\n"
   ]
  },
  {
   "cell_type": "markdown",
   "metadata": {
    "slideshow": {
     "slide_type": "subslide"
    }
   },
   "source": [
    "## 1- Git and a Github Account\n",
    "## SKIP this if you already have a github account!!!\n",
    "\n",
    "You will need to install Git to your local machine. Git installers can be found here: https://git-scm.com/downloads\n",
    "\n",
    "  * **OBS** If you are on Windows: Do not use your default Windows terminal. Use the Git Bash shell which comes with the installation.\n",
    "  * Please note: The installation is not successful before you can use Git in your console by writing `git`!\n",
    "  * Create a user on GitHub if you do not already have one.\n",
    "\n",
    "### Git on MacOS\n",
    "\n",
    "In case you do not have Git install already, navigate to the following page https://gist.github.com/derhuerst/1b15ff4652a867391f03#file-mac-md and follow the instructions for installing Git on MacOS via `homebrew`.\n",
    "\n",
    "In case you have `homebrew` already installed you can execute Step 2 of that guide directly.\n",
    "\n",
    "### Git with GitBash on Windows\n",
    "\n",
    "\n",
    "#### 1  - Install GitBash.\n",
    "\n",
    "Go to https://gitforwindows.org and download Git for Windows. After download completes, run the installer and choose the following settings\n",
    "\n",
    "![](images/1.png)\n",
    "\n",
    "![](images/2.png)\n",
    "\n",
    "![](images/3.png)\n",
    "\n",
    "![](images/4.png)\n",
    "\n",
    "\n",
    "\n",
    "\n",
    "#### Very important to choose the Nano as in the image below\n",
    "\n",
    "![](images/5.png)\n",
    "\n",
    "![](images/6.png)\n",
    "\n",
    "![](images/7.png)\n",
    "\n",
    "\n",
    "\n",
    "#### Very important to choose the setting shown below\n",
    "\n",
    "<img src=\"images/8.png\" width=\"500px\"/>\n",
    "\n",
    "The rest is just default settings."
   ]
  },
  {
   "cell_type": "markdown",
   "metadata": {
    "slideshow": {
     "slide_type": "subslide"
    }
   },
   "source": [
    "## 3 - Visual Studio Code \n",
    "\n",
    "\n",
    "### Installation on MacOS\n",
    "\n",
    "\n",
    "Navigate to https://code.visualstudio.com/ and download the installer by clicking the big green download button and install it by dragging the `Visual Studio Code.app` to the `Applications` folder.\n",
    "\n",
    "Launch VS Code using Spotlight, Launchpad or from the Dock.  \n",
    "\n",
    "On the 'Welcome' page find 'Tools and languages' to the right (under 'Customize'). Click 'Python'. Accept.  \n",
    "\n",
    "Next, open the Command Palette (Ctrl+Shift+P) and type 'shell command' to find and select `Shell Command: Install 'code' command in PATH`.\n",
    "\n",
    "![](images/shell-command.png)  \n",
    "\n",
    "Open the Command Palette again and type 'python: select' to find and select `Python: Select Interpreter`.  \n",
    "Select `Anaconda custom (xx-bit) Python 3.6.4`. \n",
    "\n",
    "![](images/code_select_interpreter.png)  \n",
    "\n",
    "If `Python` does not show up in the Command Palette then go back to the 'Welcome' page find 'Tools and languages' to the right (under 'Customize'). Click 'Python'. Accept.\n",
    "\n",
    "### Test  \n",
    "\n",
    "Close Visual Studio Code. Close the terminal window by typing `exit`. Open a new terminal window and type:\n",
    "\n",
    "```bash \n",
    "$ code\n",
    "```\n",
    "\n",
    "which should launch Visual Studio Code again. \n",
    "\n",
    "### Installation on Windows\n",
    "\n",
    "In case you are working from home and do not have access to one of the USB keys, navigate to https://code.visualstudio.com/ and download the installer by clicking the big green download button.\n",
    "\n",
    "The installation is straight forward, the only thing that is important is to check \"Add to Path\" as in the image below. \n",
    "\n",
    "\n",
    "<img src=\"images/vs_code_win.png\" width=\"60%\"/>\n",
    "\n",
    "When the installation is done open GitBash or restart it and type\n",
    "\n",
    "```bash \n",
    "$ code\n",
    "```\n",
    "\n",
    "This should launch Visual Studio Code.\n",
    "\n",
    "## Some helpfull extensions\n",
    "\n",
    "- Python\n",
    "- Python for VSCode\n",
    "- Docker\n",
    "- Remote Containers\n",
    "- (Material Icon Theme)\n",
    "- `ctrl + shift + p -> Remote-Containers: Open folder in container... -> choose the docker-compose.yml containing folder` or `attach to running container` if your container is already running.\n",
    "\n",
    "see also: https://code.visualstudio.com/docs/remote/containers#_creating-a-devcontainerjson-file\n",
    "Choose python interpreter (from the python installed in the container) at the status line left side\n",
    "\n"
   ]
  },
  {
   "cell_type": "markdown",
   "metadata": {
    "slideshow": {
     "slide_type": "slide"
    }
   },
   "source": [
    "---------------------\n",
    "# Running Python Code\n",
    "\n",
    "Basically, you have two possiblities to run Python code. Either you execute statements iteratively in the read-eval-print-loop (REPL) or you run self-contained programs.\n",
    "\n",
    "## The Python Interpreter\n",
    "\n",
    "Enter inside the docker container `docker exec -it -u 0 notebookserver bash`, you can run Python directly on the command line via the `python` command.\n",
    "\n",
    "```bash\n",
    "$ python\n",
    "Python 3.7.6 | packaged by conda-forge | (default, Jun  1 2020, 18:57:50) \n",
    "[GCC 7.5.0] on linux\n",
    "Type \"help\", \"copyright\", \"credits\" or \"license\" for more information.\n",
    ">>>\n",
    ">>> print('Hello world!')\n",
    "Hello world!\n",
    "```\n",
    "\n",
    "This brings you to the Python REPL and lets you execute your first statements and evaluate your first expressions, as seen above.\n",
    "\n",
    "\n",
    "### Running code in vs code\n",
    "If you have the \"Docker\" and the \"Remote Containers\" extensions installed in VS Code you can run your python code [from inside the container](https://code.visualstudio.com/docs/remote/attach-container)"
   ]
  },
  {
   "cell_type": "markdown",
   "metadata": {
    "slideshow": {
     "slide_type": "subslide"
    }
   },
   "source": [
    "## IPython\n",
    "\n",
    "Since the Python REPL might feel a bit \"nacked\" and bare metal you might want to use IPython (http://ipython.org), a bit more interactive coding environment. It provides you for example code completion via the *tab* key or direct help to functions. More to the use of IPython later.\n",
    "\n",
    "```bash\n",
    "$ ipython\n",
    "Python 3.6.3 |Anaconda custom (64-bit)| (default, Oct  6 2017, 12:04:38)\n",
    "Type 'copyright', 'credits' or 'license' for more information\n",
    "IPython 6.1.0 -- An enhanced Interactive Python. Type '?' for help.\n",
    "\n",
    "In [1]: print('Hello world!')\n",
    "Hello world!\n",
    "```"
   ]
  },
  {
   "cell_type": "markdown",
   "metadata": {
    "slideshow": {
     "slide_type": "subslide"
    }
   },
   "source": [
    "## Running Self-contained Python Programs\n",
    "\n",
    "To create a simple \"Hello World\" script copy and paste the following code to your command line (inside the docker container or on the laptop directly if anaconda (or similar setup) is installed:\n",
    "\n",
    "```bash\n",
    "$ cat <<EOF > hello.py\n",
    "print('Hello World!')\n",
    "EOF\n",
    "```\n",
    "\n",
    "That is, with subsequently runnning the program, you should see something like in the following.\n",
    "\n",
    "```bash\n",
    "$ cat hello.py\n",
    "print('Hello World!')\n",
    "$ python hello.py\n",
    "Hello World!\n",
    "```"
   ]
  },
  {
   "cell_type": "markdown",
   "metadata": {
    "slideshow": {
     "slide_type": "subslide"
    }
   },
   "source": [
    "## Jupyter Notebooks\n",
    "\n",
    "Jupyter notebooks by IPython provide you with an interactive coding environment, right in your browser. What you are currently looking at is such a notebook environment.\n",
    "\n",
    "You can start the notebook server in 2 ways:\n",
    "\n",
    "#### 1 via docker\n",
    "`docker-compose up` from inside the root folder of this repo\n",
    "\n",
    "#### 2 via commandline (if installed locally e.g. anaconda or otherwise:\n",
    "\n",
    "```bash\n",
    "$ cd path/to/notebooks/\n",
    "$ jupyter notebook\n",
    "```\n",
    "That should open your browser on http://127.0.0.1:8888 and you should see an environment similar to the one I am presenting."
   ]
  },
  {
   "cell_type": "markdown",
   "metadata": {
    "slideshow": {
     "slide_type": "slide"
    }
   },
   "source": [
    "--------\n",
    "\n",
    "# Working with the Lecture Notes\n",
    "Since the whole installation runs in a docker container and all our notebook files lives in a volume on the host machine you could clone this repo and create a folder inside the notebooks folder with your own work. Call this folder: \"my_notebooks\". Then it will not be registered by git when you pull changes from the teaching materials. Make this new folder a git repository on its own where you can push your work to github. This way you can run your own work in this same environment as the lecture notebooks."
   ]
  }
 ],
 "metadata": {
  "celltoolbar": "Slideshow",
  "kernelspec": {
   "display_name": "Python 3 (ipykernel)",
   "language": "python",
   "name": "python3"
  },
  "language_info": {
   "codemirror_mode": {
    "name": "ipython",
    "version": 3
   },
   "file_extension": ".py",
   "mimetype": "text/x-python",
   "name": "python",
   "nbconvert_exporter": "python",
   "pygments_lexer": "ipython3",
   "version": "3.10.6"
  },
  "vscode": {
   "interpreter": {
    "hash": "aee8b7b246df8f9039afb4144a1f6fd8d2ca17a180786b69acc140d282b71a49"
   }
  }
 },
 "nbformat": 4,
 "nbformat_minor": 2
}
