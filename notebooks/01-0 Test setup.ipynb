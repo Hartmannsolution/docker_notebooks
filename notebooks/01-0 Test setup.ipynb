{
 "cells": [
  {
   "cell_type": "code",
   "execution_count": 2,
   "metadata": {
    "scrolled": true
   },
   "outputs": [
    {
     "name": "stdout",
     "output_type": "stream",
     "text": [
      "scipy: 1.9.1\n",
      "numpy: 1.23.3\n",
      "matplotlib: 3.6.0\n",
      "pandas: 1.5.0\n",
      "statsmodels: 0.13.2\n",
      "sklearn: 1.1.2\n"
     ]
    }
   ],
   "source": [
    "# scipy\n",
    "import scipy\n",
    "print(f'scipy: {scipy.__version__}')\n",
    "# numpy\n",
    "import numpy\n",
    "print(f'numpy: {numpy.__version__}')\n",
    "# matplotlib\n",
    "import matplotlib\n",
    "print(f'matplotlib: {matplotlib.__version__}')\n",
    "# pandas\n",
    "import pandas\n",
    "print('pandas: %s' % pandas.__version__)\n",
    "# statsmodels\n",
    "import statsmodels\n",
    "print(f'statsmodels: {statsmodels.__version__}')\n",
    "# scikit-learn\n",
    "import sklearn\n",
    "print(f'sklearn: {sklearn.__version__}')"
   ]
  },
  {
   "cell_type": "markdown",
   "metadata": {},
   "source": [
    "## Install deep learning libs\n",
    "`conda install theano`  \n",
    "`conda install -c conda-forge tensorflow`  \n",
    "`conda install -c conda-forge keras `"
   ]
  },
  {
   "cell_type": "code",
   "execution_count": 3,
   "metadata": {},
   "outputs": [
    {
     "name": "stdout",
     "output_type": "stream",
     "text": [
      "deep learning libraries installed:\n",
      "\n",
      "theano: 1.0.5\n",
      "tensorflow: 2.11.0\n",
      "keras: 2.11.0\n",
      "scikit learn: 1.1.2\n"
     ]
    }
   ],
   "source": [
    "print(\"deep learning libraries installed:\\n\")\n",
    "# theano\n",
    "import theano\n",
    "print('theano: %s' % theano.__version__)\n",
    "# tensorflow\n",
    "import tensorflow\n",
    "print('tensorflow: %s' % tensorflow.__version__)\n",
    "# keras\n",
    "import keras\n",
    "print('keras: %s' % keras.__version__)\n",
    "# scikit learn\n",
    "import sklearn\n",
    "print(f'scikit learn: {sklearn.__version__}')"
   ]
  },
  {
   "cell_type": "code",
   "execution_count": null,
   "metadata": {},
   "outputs": [],
   "source": []
  }
 ],
 "metadata": {
  "kernelspec": {
   "display_name": "base",
   "language": "python",
   "name": "python3"
  },
  "language_info": {
   "codemirror_mode": {
    "name": "ipython",
    "version": 3
   },
   "file_extension": ".py",
   "mimetype": "text/x-python",
   "name": "python",
   "nbconvert_exporter": "python",
   "pygments_lexer": "ipython3",
   "version": "3.10.6"
  },
  "toc-autonumbering": true,
  "vscode": {
   "interpreter": {
    "hash": "d4d1e4263499bec80672ea0156c357c1ee493ec2b1c70f0acce89fc37c4a6abe"
   }
  }
 },
 "nbformat": 4,
 "nbformat_minor": 4
}
