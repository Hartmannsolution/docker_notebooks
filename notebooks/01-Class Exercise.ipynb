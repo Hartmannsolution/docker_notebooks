{
 "cells": [
  {
   "cell_type": "markdown",
   "id": "90304538",
   "metadata": {},
   "source": [
    "# Week 1: Sequence, Dict, Set\n",
    "1. Create a list of first names as strings (size 10)\n",
    "2. Print \"Hello \" + name for all 10 names\n",
    "3. With list comprehension add a last name to each name in the list and save in new variable\n",
    "4. Create 2 new lists of equal size to names containing lastnames and ages and zip names, lastnames and ages\n",
    "5. With a dictionary comprehension create a dict with an id as key and (firstname, lastname, age) as value (in a tuple)\n",
    "6. Loop over list of names and create a dictionary with {name:len(names)} (use the .setdefault method)\n",
    "7. Sort the dictionary by length of names\n",
    "8. Create a for loop that can populate a dictionary from 2 sets (student_name (key) and student_address (value))"
   ]
  },
  {
   "cell_type": "code",
   "execution_count": null,
   "id": "7f112a0c",
   "metadata": {},
   "outputs": [],
   "source": []
  }
 ],
 "metadata": {
  "kernelspec": {
   "display_name": "Python 3 (ipykernel)",
   "language": "python",
   "name": "python3"
  },
  "language_info": {
   "codemirror_mode": {
    "name": "ipython",
    "version": 3
   },
   "file_extension": ".py",
   "mimetype": "text/x-python",
   "name": "python",
   "nbconvert_exporter": "python",
   "pygments_lexer": "ipython3",
   "version": "3.10.6"
  }
 },
 "nbformat": 4,
 "nbformat_minor": 5
}
