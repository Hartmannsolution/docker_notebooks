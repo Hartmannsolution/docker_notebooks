{
 "cells": [
  {
   "cell_type": "markdown",
   "id": "dbc7c0f4",
   "metadata": {},
   "source": [
    "# Week 2: Functions, Modules, Files, Testing\n",
    "1. Create a function that can read csv file: data/employees.csv and return 2d array of employees\n",
    "2. Rewrite the function by adding a list comprehension, that can take the 2d array and return list of employee names\n",
    "3. Create a function to get details on employee when given an id as argument\n",
    "4. Create a function to cast hire dates to datetime objects (import datetime) and return a dictionary with hire date as key (HINT: `datetime.strptime(hire_date_txt, \"%Y-%m-%d %H:%M:%S.%f\")`)\n",
    "5. Sort the dictionary by hire dates inside the function before returning the result\n",
    "6. Create a .py module with the 3 functions and add an `if __name__ == '__main__':` part that prints the sorted dictionary\n",
    "7. Add a function to the module, so that the dictionary is written to a json file instead of being printed\n",
    "8. Add functionality to create CLI arguments like: `file` (Mandatory. Pointing to csv file), `empId` (Optional. To get details about an employee and `output` (Optional. To point to the output json file)\n",
    "9. Create a test to see that the 3 functions does what they are supposed to.\n",
    "10. Change the 3 functions to use type declaration with pydantic for both arguments and return types"
   ]
  },
  {
   "cell_type": "code",
   "execution_count": null,
   "id": "21989536",
   "metadata": {},
   "outputs": [],
   "source": []
  }
 ],
 "metadata": {
  "kernelspec": {
   "display_name": "Python 3 (ipykernel)",
   "language": "python",
   "name": "python3"
  },
  "language_info": {
   "codemirror_mode": {
    "name": "ipython",
    "version": 3
   },
   "file_extension": ".py",
   "mimetype": "text/x-python",
   "name": "python",
   "nbconvert_exporter": "python",
   "pygments_lexer": "ipython3",
   "version": "3.10.6"
  }
 },
 "nbformat": 4,
 "nbformat_minor": 5
}
