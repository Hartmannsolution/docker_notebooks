{
 "cells": [
  {
   "cell_type": "markdown",
   "metadata": {
    "slideshow": {
     "slide_type": "subslide"
    }
   },
   "source": [
    "# Object-oriented Programming\n",
    "\n",
    "Object-oriented programming is one of the most common ways to write and structure software. In object-oriented programming you write classes that represent real-world things and situations, and you create objects based on these classes. When you write a class, you define the general\n",
    "behavior that a whole category of objects can have. When you create individual objects from the class, each object is automatically equipped with the general behavior; you can then give each object whatever unique traits you desire. \n",
    "\n",
    "Making an object from a class is called *instantiation*, and you work with instances of a class. \n",
    "\n",
    "\n",
    "## Creating and Using a Class\n",
    "\n",
    "You can model almost anything using classes. Let’s start by writing a simple class, `Book`, that represents a book and its contents—not one book in particular, but any book. What do we know about most books? Well, they likely all have a *title* an *author*, and contain some *chapters*. We also know that you can *read* books and *open* them to inspect them further. Those two pieces of information (title and author) and those two behaviors (read and open) will be constituents of our Book class because they are common to most books. After our class is written, we will use it to create individual instances, each of which represents one specific book.\n",
    "\n",
    "### Creating the Book Class\n",
    "\n",
    "Each instance created from the Book class will store a `title` an `author`, and its `chapters`, and we will give each book the 'ability' to get `read()` and to get opened `open_book()`.\n",
    "\n",
    "#### The `__init__()` Method and other [Dunder](https://jackmckew.dev/dunders-in-python.html) methods\n",
    "\n",
    "A function that’s part of a class is a *method*. Everything you learned about functions applies to methods as well; the only practical difference for now is the way we will call methods. The `__init__()` method is a special method Python runs automatically whenever we create a new instance based on the `Book` class. This method has two leading underscores and two trailing underscores, a convention that helps prevent Python’s default method names from conflicting with your method names.\n",
    "\n",
    "We define the `__init__()` method to have four parameters: `self`, `title`, `author`, and `chapters=`. The `self` parameter is **required** in the method definition, and it must come **first** before the other parameters. It must be included in the definition because when Python calls this `__init__()` method later (to create an instance of `Book`), the method call will automatically pass the `self` argument. Every method call associated with a class automatically passes `self`, which\n",
    "is a reference to the instance itself; it gives the individual instance access to the attributes and methods in the class. When we make an instance of `Book`, Python will call the `__init__()` method from the `Book` class. We will pass `Book()` a `title`, an `author`, and `chapters=` as arguments; `self` is passed automatically, so we do not need to pass it. Whenever we want to make an instance from the`Book` class, we will provide values for only the last three parameters.\n",
    "\n",
    "The three variables defined each have the prefix `self`. Any variable prefixed with `self` is available to every method in the class, and we will also be able to access these variables through any instance created from the class. `self.title = title` takes the value stored in the parameter name and stores it in the variable name, which is then attached to the instance being created. Variables that are accessible through instances like this are called attributes.\n",
    "\n",
    "The `Book` class has two other methods: `read` and `open`. The instances we create later will have access to these methods."
   ]
  },
  {
   "cell_type": "code",
   "execution_count": 1,
   "metadata": {
    "slideshow": {
     "slide_type": "slide"
    }
   },
   "outputs": [],
   "source": [
    "class Chapter():\n",
    "\n",
    "    def __init__(self, number, title, paragraphs):\n",
    "        \"\"\"A chapter consists of multiple paragraphs.\"\"\"\n",
    "        self.number = number\n",
    "        self.title = title\n",
    "        self.paragraphs = []\n",
    "        for paragraph_lines in paragraphs:\n",
    "            new_pragraph = Paragraph(paragraph_lines)\n",
    "            self.paragraphs.append(new_pragraph)\n",
    "\n",
    "    def read(self, paragraph_idx=None):\n",
    "        \"\"\"A paragraph can be read.\"\"\" \n",
    "        if paragraph_idx:\n",
    "            self.paragraphs[paragraph_idx].read()\n",
    "        else:\n",
    "            for paragraph in self.paragraphs:\n",
    "                paragraph.read()"
   ]
  },
  {
   "cell_type": "code",
   "execution_count": 2,
   "metadata": {
    "slideshow": {
     "slide_type": "slide"
    }
   },
   "outputs": [],
   "source": [
    "class Book():\n",
    "    \"\"\"A simple book model consisting of chapters, which in \n",
    "    turn consist of paragraphs.\"\"\"\n",
    "\n",
    "    def __init__(self, title, author, chapters=[]):\n",
    "        \"\"\"Initialize title, the author, and the chapters.\"\"\"\n",
    "        self.title = title \n",
    "        self.author = author\n",
    "        self.chapters = chapters   \n",
    "        \n",
    "    def __repr__(self):\n",
    "        return 'Book(%r, %r, %r)' % (self.title, self.author, self.chapters)\n",
    "    \n",
    "    def __str__(self):\n",
    "        return '{name} by {by} has {nr_chap} chapters.'.format(\n",
    "            name=self.title, by=self.author, nr_chap=len(self.chapters))\n",
    "    \n",
    "    def read(self, chapter=1):\n",
    "        \"\"\"Simulate reading a chapter, by calling the reading \n",
    "        method of a chapter.\"\"\" \n",
    "        self.chapters[chapter - 1].read()\n",
    "        \n",
    "    def open_book(self, chapter=1) -> Chapter:\n",
    "        \"\"\"Simulate opening a book, which returns a chapter \n",
    "        object.\"\"\" \n",
    "        return self.chapters[chapter - 1]"
   ]
  },
  {
   "cell_type": "markdown",
   "metadata": {
    "slideshow": {
     "slide_type": "slide"
    }
   },
   "source": [
    "### Making an Instance from a Class\n",
    "\n",
    "Think of a class as a set of instructions for how to make an instance. The class `Book` is a set of instructions that tells Python how to make individual instances representing specific books.\n",
    "\n",
    "We tell Python to create a book whose title is `'The Book of Silence'` and whose author is `'Nobody'`. When Python reads the line, `silent_book = Book('The Book of Silence', 'Nobody')` it calls the `__init__()` method in `Book` with the arguments `'The Book of Silence'` and `'Nobody'`. The `__init__()` method creates an instance representing this particular book and sets the `author` and `title` attributes using the values we provided. The `__init__()` method has no explicit return statement, but Python automatically returns an instance representing this book. We store that instance in the variable `empty_book`. The *naming convention* is helpful here: we can usually assume that a capitalized name like `Book` refers to a class, and a lowercase name like `empty_book` refers to a single instance created from a class.\n",
    "\n",
    "#### Accessing Attributes\n",
    "\n",
    "To access the attributes of an instance, you use 'dot' notation. We access the value of `empty_book`’s attribute `author` by writing: `empty_book.author`."
   ]
  },
  {
   "cell_type": "code",
   "execution_count": 3,
   "metadata": {
    "slideshow": {
     "slide_type": "slide"
    }
   },
   "outputs": [
    {
     "name": "stdout",
     "output_type": "stream",
     "text": [
      "Author: Nobody\n",
      "Title: The book of silence\n",
      "Length of book: 0 chapters\n"
     ]
    }
   ],
   "source": [
    "empty_book = Book('The book of silence', 'Nobody',[])\n",
    "\n",
    "print('Author:',empty_book.author)\n",
    "print('Title:',empty_book.title)\n",
    "print('Length of book:',len(empty_book.chapters),'chapters')"
   ]
  },
  {
   "cell_type": "markdown",
   "metadata": {},
   "source": [
    "## Getting all data from an object"
   ]
  },
  {
   "cell_type": "code",
   "execution_count": 4,
   "metadata": {},
   "outputs": [
    {
     "name": "stdout",
     "output_type": "stream",
     "text": [
      "{'title': 'The book of silence', 'author': 'Nobody', 'chapters': []}\n"
     ]
    }
   ],
   "source": [
    "print(empty_book.__dict__)"
   ]
  },
  {
   "cell_type": "markdown",
   "metadata": {},
   "source": [
    "## Creating a clone of an object\n"
   ]
  },
  {
   "cell_type": "code",
   "execution_count": 5,
   "metadata": {},
   "outputs": [
    {
     "name": "stdout",
     "output_type": "stream",
     "text": [
      "{'title': 'The book of silence', 'author': 'Nobody', 'chapters': []}\n",
      "Is new_empty_book the same as empty_book: False\n"
     ]
    }
   ],
   "source": [
    "import copy\n",
    "new_empty_book = copy.deepcopy(empty_book)\n",
    "print(new_empty_book.__dict__)\n",
    "print(f'Is new_empty_book the same as empty_book: {new_empty_book == empty_book}')"
   ]
  },
  {
   "cell_type": "code",
   "execution_count": 6,
   "metadata": {},
   "outputs": [
    {
     "name": "stdout",
     "output_type": "stream",
     "text": [
      "The book of silence by Frans has 0 chapters.\n"
     ]
    }
   ],
   "source": [
    "empty_book.author = 'Frans'\n",
    "print(empty_book)"
   ]
  },
  {
   "cell_type": "code",
   "execution_count": 7,
   "metadata": {
    "slideshow": {
     "slide_type": "slide"
    }
   },
   "outputs": [],
   "source": [
    "class Paragraph():\n",
    "    \"\"\"A paragraph consists of a list of lines.\"\"\"\n",
    "\n",
    "    def __init__(self, lines):\n",
    "        \"\"\"Initialize the paragraph with its lines of text.\"\"\"\n",
    "        self.lines = lines\n",
    "\n",
    "    def read(self):\n",
    "        \"\"\"Simulate reading a paragraph by printing its contents.\"\"\" \n",
    "        for line in self.lines:\n",
    "            print(line)"
   ]
  },
  {
   "cell_type": "markdown",
   "metadata": {
    "slideshow": {
     "slide_type": "slide"
    }
   },
   "source": [
    "## Getting text into the book\n",
    "Now, we get some text from a real book to build an instance of it using the above clases."
   ]
  },
  {
   "cell_type": "code",
   "execution_count": 8,
   "metadata": {
    "slideshow": {
     "slide_type": "slide"
    }
   },
   "outputs": [],
   "source": [
    "import modules.webget as webget\n",
    "\n",
    "\n",
    "bones_in_london_url = 'http://www.gutenberg.org/cache/epub/27525/pg27525.txt'\n",
    "# download the book\n",
    "webget.download(bones_in_london_url,'bones_in_london.txt')\n",
    "# open it and read all lines in the text file\n",
    "with open('./data/bones_in_london.txt') as f:\n",
    "    bones_book = f.readlines()\n",
    "\n",
    "\n",
    "def get_text(txt, lower_bound, upper_bound):\n",
    "    \"\"\"A utility function which allow us to read slices of lines\"\"\"\n",
    "    chapter_content = []\n",
    "    paragraph = []\n",
    "    for line in txt[lower_bound:upper_bound]:\n",
    "        if line == '\\n':\n",
    "            chapter_content.append(paragraph)\n",
    "            paragraph = []\n",
    "        else:\n",
    "            paragraph.append(line.strip())\n",
    "\n",
    "    return chapter_content"
   ]
  },
  {
   "cell_type": "markdown",
   "metadata": {
    "slideshow": {
     "slide_type": "slide"
    }
   },
   "source": [
    "Now, that we can read some real text from a file, we can create instances of chapters and an instance of a book. For simplicity, our book consists only of the first two chapters."
   ]
  },
  {
   "cell_type": "code",
   "execution_count": 9,
   "metadata": {
    "slideshow": {
     "slide_type": "slide"
    }
   },
   "outputs": [],
   "source": [
    "chapter_1 = Chapter(1, 'Bones and Big Business', get_text(bones_book,82, 762))\n",
    "chapter_2 = Chapter(2, 'Hidden Treassure', get_text(bones_book,769, 1455))\n",
    "book = Book('Bones in London', 'Edgar Wallace', [chapter_1, chapter_2])"
   ]
  },
  {
   "cell_type": "code",
   "execution_count": 10,
   "metadata": {
    "slideshow": {
     "slide_type": "slide"
    }
   },
   "outputs": [
    {
     "name": "stdout",
     "output_type": "stream",
     "text": [
      "Edgar Wallace\n",
      "Bones in London\n",
      "2\n"
     ]
    }
   ],
   "source": [
    "print(book.author)\n",
    "print(book.title)\n",
    "print(len(book.chapters))"
   ]
  },
  {
   "cell_type": "markdown",
   "metadata": {
    "slideshow": {
     "slide_type": "slide"
    }
   },
   "source": [
    "### Calling Methods\n",
    "\n",
    "After we create an instance from the class `Book`, we can use 'dot' notation to call any method defined in `Book`. To call a method, give the name of the instance (in this case, `book`) and the method you want to call, separated by a dot. When Python reads `book.read(chapter=1)`, it looks for the method `read(chapter)` in the class `Book` and runs that code."
   ]
  },
  {
   "cell_type": "code",
   "execution_count": 11,
   "metadata": {
    "slideshow": {
     "slide_type": "slide"
    },
    "tags": []
   },
   "outputs": [
    {
     "name": "stdout",
     "output_type": "stream",
     "text": [
      "There was a slump in the shipping market, and men who were otherwise\n",
      "decent citizens wailed for one hour of glorious war, when Kenyon Line\n",
      "Deferred had stood at 88 1/2, and even so poor an organization as\n",
      "Siddons Steam Packets Line had been marketable at 3 3/8.\n",
      "Two bareheaded men came down the busy street, their hands thrust into\n",
      "their trousers pockets, their sleek, well-oiled heads bent in dejection.\n",
      "No word they spoke, keeping step with the stern precision of soldiers.\n",
      "Together they wheeled through the open doors of the Commercial Trust\n",
      "Building, together they left-turned into the elevator, and\n",
      "simultaneously raised their heads to examine its roof, as though in its\n",
      "panelled ceiling was concealed some Delphic oracle who would answer the\n",
      "riddle which circumstances had set them.\n",
      "They dropped their heads together and stood with sad eyes, regarding\n",
      "the attendant's leisurely unlatching of the gate.  They slipped forth\n",
      "and walked in single file to a suite of offices inscribed \"Pole\n",
      "Brothers, Brokers,\" and, beneath, \"The United Merchant Shippers'\n",
      "Corporation,\" and passed through a door which, in addition to this\n",
      "declaration, bore the footnote \"Private.\"\n",
      "Here the file divided, one going to one side of a vast pedestal desk\n",
      "and one to the other.  Still with their hands pushed deep into their\n",
      "pockets, they sank, almost as at a word of command, each into his\n",
      "cushioned chair, and stared at one another across the table.\n",
      "They were stout young men of the middle thirties, clean-shaven and\n",
      "ruddy.  They had served their country in the late War, and had made\n",
      "many sacrifices to the common cause.  One had worn uniform and one had\n",
      "not.  Joe had occupied some mysterious office which permitted and,\n",
      "indeed, enjoined upon him the wearing of the insignia of captain, but\n",
      "had forbidden him to leave his native land.  The other had earned a\n",
      "little decoration with a very big title as a buyer of boots for Allied\n",
      "nations.  Both had subscribed largely to War Stock, and a reminder of\n",
      "their devotion to the cause of liberty was placed to their credit every\n",
      "half-year.\n",
      "But for these, war, with its horrific incidents, its late hours, its\n",
      "midnight railway journeys by trains on which sleeping berths could not\n",
      "be had for love or money, its food cards and statements of excess\n",
      "profits, was past.  The present held its tragedy so poignant as to\n",
      "overshadow that breathless terrifying moment when peace had come and\n",
      "found the firm with the sale of the Fairy Line of cargo steamers\n",
      "uncompleted, contracts unsigned, and shipping stock which had lived\n",
      "light-headedly in the airy spaces, falling deflated on the floor of the\n",
      "house.\n",
      "The Fairy Line was not a large line.  It was, in truth, a small line.\n",
      "It might have been purchased for two hundred thousand pounds, and\n",
      "nearly was.  To-day it might be acquired for one hundred and fifty\n",
      "thousand pounds, and yet it wasn't.\n",
      "\"Joe,\" said the senior Mr. Pole, in a voice that came from his\n",
      "varnished boots, \"we've got to do something with Fairies.\"\n",
      "\"Curse this War!\" said Joe in cold-blooded even tones.  \"Curse the\n",
      "Kaiser!  A weak-kneed devil who might at least have stuck to it for\n",
      "another month!  Curse him for making America build ships, curse him\n",
      "for----\"\n",
      "\"Joe,\" said the stout young man on the other side of the table, shaking\n",
      "his head sadly, \"it is no use cursing, Joe.  We knew that they were\n",
      "building ships, but the business looked good to me.  If Turkey hadn't\n",
      "turned up her toes and released all that shipping----\"\n",
      "\"Curse Turkey!\" said the other, with great calmness.  \"Curse the Sultan\n",
      "and Enver and Taalat, curse Bulgaria and Ferdinand----\"\n",
      "\"Put in one for the Bolsheviks, Joe,\" said his brother urgently, \"and I\n",
      "reckon that gets the lot in trouble.  Don't start on Austria, or we'll\n",
      "find ourselves cursing the Jugo-Slavs.\"\n",
      "He sighed deeply, pursed his lips, and looked at his writing-pad\n",
      "intently.\n",
      "Joe and Fred Pole had many faults, which they freely admitted, such as\n",
      "their generosity, their reckless kindness of heart, their willingness\n",
      "to do their worst enemies a good turn, and the like.  They had others\n",
      "which they never admitted, but which were none the less patent to their\n",
      "prejudiced contemporaries.\n",
      "But they had virtues which were admirable.  They were, for example,\n",
      "absolutely loyal to one another, and were constant in their mutual\n",
      "admiration and help.  If Joe made a bad deal, Fred never rested until\n",
      "he had balanced things against the beneficiary.  If Fred in a weak\n",
      "moment paid a higher price to the vendor of a property than he, as\n",
      "promoter, could afford, it was Joe who took the smug vendor out to\n",
      "dinner and, by persuasion, argument, and the frank expression of his\n",
      "liking for the unfortunate man, tore away a portion of his ill-gotten\n",
      "gains.\n",
      "\"I suppose,\" said Joe, concluding his minatory exercises, and reaching\n",
      "for a cigar from the silver box which stood on the table midway between\n",
      "the two, \"I suppose we couldn't hold Billing to his contract.  Have you\n",
      "seen Cole about it, Fred?\"\n",
      "The other nodded slowly.\n",
      "\"Cole says that there is no contract.  Billing offered to buy the\n",
      "ships, and meant to buy them, undoubtedly; but Cole says that if you\n",
      "took Billing into court, the judge would chuck his pen in your eye.\"\n",
      "\"Would he now?\" said Joe, one of whose faults was that he took things\n",
      "literally.  \"But perhaps if you took Billing out to dinner, Fred----\"\n",
      "\"He's a vegetarian, Joe\"--he reached in his turn for a cigar, snipped\n",
      "the end and lit it--\"and he's deaf.  No, we've got to find a sucker,\n",
      "Joe.  I can sell the _Fairy May_ and the _Fairy Belle_: they're little\n",
      "boats, and are worth money in the open market.  I can sell the wharfage\n",
      "and offices and the goodwill----\"\n",
      "\"What's the goodwill worth, Fred?\"\n",
      "\"About fivepence net,\" said the gloomy Fred.  \"I can sell all these,\n",
      "but it is the _Fairy Mary_ and the _Fairy Tilda_ that's breaking my\n",
      "heart.  And yet, Joe, there ain't two ships of their tonnage to be\n",
      "bought on the market.  If you wanted two ships of the same size and\n",
      "weight, you couldn't buy 'em for a million--no, you couldn't.  I guess\n",
      "they must be bad ships, Joe.\"\n",
      "Joe had already guessed that.\n",
      "\"I offered 'em to Saddler, of the White Anchor,\" Fred went on, \"and he\n",
      "said that if he ever started collecting curios he'd remember me.  Then\n",
      "I tried to sell 'em to the Coastal Cargo Line--the very ships for the\n",
      "Newcastle and Thames river trade--and he said he couldn't think of it\n",
      "now that the submarine season was over.  Then I offered 'em to young\n",
      "Topping, who thinks of running a line to the West Coast, but he said\n",
      "that he didn't believe in Fairies or Santa Claus or any of that stuff.\"\n",
      "There was silence.\n",
      "\"Who named 'em _Fairy Mary_ and _Fairy Tilda_?\" asked Joe curiously.\n",
      "\"Don't let's speak ill of the dead,\" begged Fred; \"the man who had 'em\n",
      "built is no longer with us, Joe.  They say that joy doesn't kill, but\n",
      "that's a lie, Joe.  He died two days after we took 'em over, and left\n",
      "all his money--all our money--to a nephew.\"\n",
      "\"I didn't know that,\" said Joe, sitting up.\n",
      "\"I didn't know it myself till the other day, when I took the deed of\n",
      "sale down to Cole to see if there wasn't a flaw in it somewhere.  I've\n",
      "wired him.\"\n",
      "\"Who--Cole?\"\n",
      "\"No, the young nephew.  If we could only----\"\n",
      "He did not complete his sentence, but there was a common emotion and\n",
      "understanding in the two pairs of eyes that met.\n",
      "\"Who is he--anybody?\" asked Joe vaguely.\n",
      "Fred broke off the ash of his cigar and nodded.\n",
      "\"Anybody worth half a million is somebody, Joe,\" he said seriously.\n",
      "\"This young fellow was in the Army.  He's out of it now, running a\n",
      "business in the City--'Schemes, Ltd.,' he calls it.  Lots of people\n",
      "know him--shipping people on the Coast.  He's got a horrible nickname.\"\n",
      "\"What's that, Fred?\"\n",
      "\"Bones,\" said Fred, in tones sufficiently sepulchral to be appropriate,\n",
      "\"and, Joe, he's one of those bones I want to pick.\"\n",
      "There was another office in that great and sorrowful City.  It was\n",
      "perhaps less of an office than a boudoir, for it had been furnished on\n",
      "the higher plan by a celebrated firm of furnishers and decorators,\n",
      "whose advertisements in the more exclusive publications consisted of a\n",
      "set of royal arms, a photograph of a Queen Anne chair, and the bold\n",
      "surname of the firm.  It was furnished with such exquisite taste that\n",
      "you could neither blame nor praise the disposition of a couch or the\n",
      "set of a purple curtain.\n",
      "The oxydized silver grate, the Persian carpets, the rosewood desk, with\n",
      "its Venetian glass flower vase, were all in harmony with the panelled\n",
      "walls, the gentlemanly clock which ticked sedately on the Adam\n",
      "mantelpiece, the Sheraton chairs, the silver--or apparently so--wall\n",
      "sconces, the delicate electrolier with its ballet skirts of purple silk.\n",
      "All these things were evidence of the careful upbringing and artistic\n",
      "yearnings of the young man who \"blended\" for the eminent firm of\n",
      "Messrs. Worrows, By Appointment to the King of Smyrna, His Majesty the\n",
      "Emperor ---- (the blank stands for an exalted name which had been\n",
      "painted out by the patriotic management of Worrows), and divers other\n",
      "royalties.\n",
      "The young man who sat in the exquisite chair, with his boots elevated\n",
      "to and resting upon the olive-green leather of the rosewood\n",
      "writing-table, had long since grown familiar with the magnificence in\n",
      "which he moved and had his being.  He sat chewing an expensive\n",
      "paper-knife of ivory, not because he was hungry, but because he was\n",
      "bored.  He had entered into his kingdom brimful of confidence and with\n",
      "unimagined thousands of pounds to his credit in the coffers of the\n",
      "Midland and Somerset Bank.\n",
      "He had brought with him a bright blue book, stoutly covered and\n",
      "brassily locked, on which was inscribed the word \"Schemes.\"\n",
      "That book was filled with writing of a most private kind and of a\n",
      "frenzied calculation which sprawled diagonally over pages, as for\n",
      "example:\n",
      "Buy up old houses  . . . . . . . . . say  2,000 pounds.\n",
      "Pull them down . . . . . . . . . . . say    500 pounds.\n",
      "Erect erect 50 Grand Flats . . . . . say 10,000 pounds.\n",
      "Paper, pante, windows, etc.  . . . . say  1,000 pounds.\n",
      "------\n",
      "Total  . . . . . . . . . . . .     12,000 pounds.\n",
      "50 Flats let at 80 pounds per annum.        40,000 lbs.\n",
      "Net profit . . . . . . . . . . . . . say   50 per cent.\n",
      "NOTE.--For good middel class familys steady steady people.  By this\n",
      "means means doing good turn to working classes solving houseing problem\n",
      "and making money which can be distribbuted distribbutted to the poor.\n",
      "Mr. Augustus Tibbetts, late of H.M. Houssa Rifles, was, as his\n",
      "doorplate testified, the Managing Director of \"Schemes, Ltd.\"  He was a\n",
      "severe looking young man, who wore a gold-rimmed monocle on his grey\n",
      "check waistcoat and occasionally in his left eye.  His face was of that\n",
      "brick-red which spoke of a life spent under tropical suns, and when\n",
      "erect he conveyed a momentary impression of a departed militarism.\n",
      "He uncurled his feet from the table, and, picking up a letter, read it\n",
      "through aloud--that is to say, he read certain words, skipped others,\n",
      "and substituted private idioms for all he could not or would not\n",
      "trouble to pronounce.\n",
      "\"Dear Sir,\" (he mumbled), \"as old friends of your dear uncle, and so on\n",
      "and so forth, we are taking the first opportunity of making widdly\n",
      "widdly wee....  Our Mr. Fred Pole will call upon you and place himself\n",
      "widdly widdly wee--tum tiddly um tum.--Yours truly.\"\n",
      "Mr. Tibbetts frowned at the letter and struck a bell with unnecessary\n",
      "violence.  There appeared in the doorway a wonderful man in scarlet\n",
      "breeches and green zouave jacket.  On his head was a dull red tarbosh,\n",
      "on his feet scarlet slippers, and about his waist a sash of Oriental\n",
      "audacity.  His face, large and placid, was black, and, for all his\n",
      "suggestiveness of the brilliant East, he was undoubtedly negroid.\n",
      "The costume was one of Mr. Tibbetts's schemes.  It was faithfully\n",
      "copied from one worn by a gentleman of colour who serves the Turkish\n",
      "coffee at the Wistaria Restaurant.  It may be said that there was no\n",
      "special reason why an ordinary business man should possess a bodyguard\n",
      "at all, and less reason why he should affect one who had the appearance\n",
      "of a burlesque Othello, but Mr. Augustus Tibbetts, though a business\n",
      "man, was not ordinary.\n",
      "\"Bones\"--for such a name he bore without protest in the limited circles\n",
      "of his friendship--looked up severely.\n",
      "\"Ali,\" he demanded, \"have you posted the ledger?\"\n",
      "\"Sir,\" said Ali, with a profound obeisance, \"the article was too\n",
      "copious for insertion in aperture of collection box, so it was\n",
      "transferred to the female lady behind postal department counter.\"\n",
      "Bones leapt up, staring.\n",
      "\"Goodness gracious, Heavens alive, you silly old ass--you--you haven't\n",
      "posted it--in the post?\"\n",
      "\"Sir,\" said Ali reproachfully, \"you instructed posting volume in exact\n",
      "formula.  Therefore I engulfed it in wrappings and ligatures of string,\n",
      "and safely delivered it to posting authority.\"\n",
      "Bones sank back in his chair.\n",
      "\"It's no use--no use, Ali,\" he said sadly, \"my poor uncivilized savage,\n",
      "it's not your fault.  I shall never bring you up to date, my poor silly\n",
      "old josser.  When I say 'post' the ledger, I mean write down all the\n",
      "money you've spent on cabs in the stamp book.  Goodness gracious alive!\n",
      "You can't run a business without system, Ali!  Don't you know that, my\n",
      "dear old image?  How the dooce do you think the auditors are to know\n",
      "how I spend my jolly old uncle's money if you don't write it down, hey?\n",
      "Posting means writing.  Good Heavens\"--a horrid thought dawned on\n",
      "him--\"who did you post it to?\"\n",
      "\"Lord,\" said Ali calmly, \"destination of posted volume is your\n",
      "lordship's private residency.\"\n",
      "All's English education had been secured in the laboratory of an\n",
      "English scientist in Sierra Leone, and long association with that\n",
      "learned man had endowed him with a vocabulary at once impressive and\n",
      "recondite.\n",
      "Bones gave a resigned sigh.\n",
      "\"I'm expecting----\" he began, when a silvery bell tinkled.\n",
      "It was silvery because the bell was of silver.  Bones looked up, pulled\n",
      "down his waistcoat, smoothed back his hair, fixed his eye-glass, and\n",
      "took up a long quill pen with a vivid purple feather.\n",
      "\"Show them in,\" he said gruffly.\n",
      "\"Them\" was one well-dressed young man in a shiny silk hat, who, when\n",
      "admitted to the inner sanctum, came soberly across the room, balancing\n",
      "his hat.\n",
      "\"Ah, Mr. Pole--Mr. Fred Pole.\"  Bones read the visitor's card with the\n",
      "scowl which he adopted for business hours.  \"Yes, yes.  Be seated, Mr.\n",
      "Pole.  I shall not keep you a minute.\"\n",
      "He had been waiting all the morning for Mr. Pole.  He had been weaving\n",
      "dreams from the letter-heading above Mr. Pole's letter.\n",
      "Ships ... ships ... house-flags ... brass-buttoned owners....\n",
      "He waved Mr. Fred to a chair and wrote furiously.  This frantic\n",
      "pressure of work was a phenomenon which invariably coincided with the\n",
      "arrival of a visitor.  It was, I think, partly due to nervousness and\n",
      "partly to his dislike of strangers.  Presently he finished, blotted the\n",
      "paper, stuck it in an envelope, addressed it, and placed it in his\n",
      "drawer.  Then he took up the card.\n",
      "\"Mr. Pole?\" he said.\n",
      "\"Mr. Pole,\" repeated that gentleman.\n",
      "\"Mr. _Fred_ Pole?\" asked Bones, with an air of surprise.\n",
      "\"Mr. Fred Pole,\" admitted the other soberly.\n",
      "Bones looked from the card to the visitor as though he could not\n",
      "believe his eyes.\n",
      "\"We have a letter from you somewhere,\" he said, searching the desk.\n",
      "\"Ah, here it is!\"  (It was, in fact, the only document on the table.)\n",
      "\"Yes, yes, to be sure.  I'm very glad to meet you.\"\n",
      "He rose, solemnly shook hands, sat down again and coughed.  Then he\n",
      "took up the ivory paper-knife to chew, coughed again as he detected the\n",
      "lapse, and put it down with a bang.\n",
      "\"I thought I'd like to come along and see you, Mr. Tibbetts,\" said Fred\n",
      "in his gentle voice; \"we are so to speak, associated in business.\"\n",
      "\"Indeed?\" said Bones.  \"In-deed?\"\n",
      "\"You see, Mr. Tibbetts,\" Fred went on, with a sad smile, \"your lamented\n",
      "uncle, before he went out of business, sold us his ships.  He died a\n",
      "month later.\"\n",
      "He sighed and Bones sighed.\n",
      "\"Your uncle was a great man, Mr. Tibbetts,\" he said, \"one of the\n",
      "greatest business men in this little city.  What a man!\"\n",
      "\"Ah!\" said Bones, shaking his head mournfully.\n",
      "He had never met his uncle and had seldom heard of him.  Saul Tibbetts\n",
      "was reputedly a miser, and his language was of such violence that the\n",
      "infant Augustus was invariably hurried to the nursery on such rare\n",
      "occasions as old Saul paid a family visit.  His inheritance had come to\n",
      "Bones as in a dream, from the unreality of which he had not yet\n",
      "awakened.\n",
      "\"I must confess, Mr. Tibbetts,\" said Fred, \"that I have often had\n",
      "qualms of conscience about your uncle, and I have been on the point of\n",
      "coming round to see you several times.  This morning I said to my\n",
      "brother, 'Joe,' I said, 'I'm going round to see Tibbetts.'  Forgive the\n",
      "familiarity, but we talk of firms like the Rothschilds and the Morgans\n",
      "without any formality.\"\n",
      "\"Naturally, naturally, naturally,\" murmured Bones gruffly.\n",
      "\"I said: 'I'll go and see Tibbetts and get it off my chest.  If he\n",
      "wants those ships back at the price we paid for them, or even less, he\n",
      "shall have them.'  'Fred,' he said, 'you're too sensitive for\n",
      "business.'  'Joe,' I said, 'my conscience works even in business\n",
      "hours.'\"\n",
      "A light dawned on Bones and he brightened visibly.\n",
      "\"Ah, yes, my dear old Pole,\" he said almost cheerily, \"I understand.\n",
      "You diddled my dear old uncle--bless his heart--out of money, and you\n",
      "want to pay it back.  Fred\"--Bones rose and extended his knuckly\n",
      "hand--\"you're a jolly old sportsman, and you can put it there!\"\n",
      "\"What I was going to say----\" began Fred seriously agitated.\n",
      "\"Not a word.  We'll have a bottle on this.  What will you\n",
      "have--ginger-beer or cider?\"\n",
      "Mr. Fred suppressed a shudder with difficulty.\n",
      "\"Wait, wait, Mr. Tibbetts,\" he begged; \"I think I ought to explain.  We\n",
      "did not, of course, knowingly rob your uncle----\"\n",
      "\"No, no, naturally,\" said Bones, with a facial contortion which passed\n",
      "for a wink.  \"Certainly not.  We business men never rob anybody.  Ali,\n",
      "bring the drinks!\"\n",
      "\"We did not consciously rob him,\" continued Mr. Fred desperately, \"but\n",
      "what we did do---- ah, this is my confession!\"\n",
      "\"You borrowed a bit and didn't pay it back.  Ah, naughty!\" said Bones.\n",
      "\"Out with the corkscrew, Ali.  What shall it be--a cream soda or\n",
      "non-alcoholic ale?\"\n",
      "Mr. Fred looked long and earnestly at the young man.\n",
      "\"Mr. Tibbetts,\" he said, and suddenly grasped the hand of Bones, \"I\n",
      "hope we are going to be friends.  I like you.  That's my peculiarity--I\n",
      "like people or I dislike them.  Now that I've told you that we bought\n",
      "two ships from your uncle for one hundred and forty thousand pounds\n",
      "when we knew--yes, positively knew--they were worth at least twenty\n",
      "thousand pounds more--now I've told you this, I feel happier.\"\n",
      "\"Worth twenty thousand pounds more?\" said Bones thoughtfully.\n",
      "Providence was working overtime for him, he thought.\n",
      "\"Of anybody's money,\" said Fred stoutly.  \"I don't care where you go,\n",
      "my dear chap.  Ask Cole--he's the biggest shipping lawyer in this\n",
      "city--ask my brother, who, I suppose, is the greatest shipping\n",
      "authority in the world, or--what's the use of asking 'em?--ask\n",
      "yourself.  If you're not Saul Tibbetts all over again, if you haven't\n",
      "the instinct and the eye and the brain of a shipowner--why, I'm a\n",
      "Dutchman!  That's what I am--a Dutchman!\"\n",
      "He picked up his hat and his lips were pressed tight--a gesture and a\n",
      "grimace which stood for grim conviction.\n",
      "\"What are they worth to-day?\" asked Bones, after a pause.\n",
      "\"What are they worth to-day?\"  Mr. Fred frowned heavily at the ceiling.\n",
      "\"Now, what are they worth to-day?  I forget how much I've spent on\n",
      "'em--they're in dock now.\"\n",
      "Bones tightened _his_ lips, too.\n",
      "\"They're in dock now?\" he said.  He scratched his nose.  \"Dear old Fred\n",
      "Pole,\" he said, \"you're a jolly old soul.  By Jove that's not bad!\n",
      "'Pole' an' 'soul' rhyme--did you notice it?\"\n",
      "Fred had noticed it.\n",
      "\"It's rum,\" said Bones, shaking his head, \"it is rum how things get\n",
      "about.  How did you know, old fellow-citizen, that I was going in for\n",
      "shippin'?\"\n",
      "Mr. Fred Pole did not know that Bones was going in for shipping, but he\n",
      "smiled.\n",
      "\"There are few things that happen in the City that I _don't_ know,\" he\n",
      "admitted modestly.\n",
      "\"The Tibbetts Line,\" said Bones firmly, \"will fly a house-flag of\n",
      "purple and green diagonally--that is, from corner to corner.  There\n",
      "will be a yellow anchor in a blue wreath in one corner and a capital T\n",
      "in a red wreath in the other.\"\n",
      "\"Original, distinctly original,\" said Fred in wondering admiration.\n",
      "\"Wherever did you get that idea?\"\n",
      "\"I get ideas,\" confessed Bones, blushing, \"some times in the night,\n",
      "sometimes in the day.  The fleet\"--Bones liked the sound of the word\n",
      "and repeated it--\"the fleet will consist of the _Augustus_, the\n",
      "_Sanders_--a dear old friend of mine living at Hindhead--the\n",
      "_Patricia_--another dear old friend of mine living at Hindhead, too--in\n",
      "fact, in the same house.  To tell you the truth, dear old Fred Pole,\n",
      "she's married to the other ship.  And there'll be the _Hamilton_,\n",
      "another precious old soul, a very, very, very, very dear friend of mine\n",
      "who's comin' home shortly----\"\n",
      "\"Well, what shall we say, Mr. Tibbetts?\" said Fred, who had an early\n",
      "luncheon appointment.  \"Would you care to buy the two boats at the same\n",
      "price we gave your uncle for them?\"\n",
      "Bones rang his bell.\n",
      "\"I'm a business man, dear old Fred,\" said he soberly.  \"There's no time\n",
      "like the present, and I'll fix the matter--_now!_\"\n",
      "He said \"now\" with a ferociousness which was intended to emphasize his\n",
      "hard and inflexible business character.\n",
      "Fred came into the private office of Pole & Pole after lunch that day,\n",
      "and there was in his face a great light and a peace which was almost\n",
      "beautiful.\n",
      "But never beamed the face of Fred so radiantly as the countenance of\n",
      "the waiting Joe.  He lay back in his chair, his cigar pointing to the\n",
      "ceiling.\n",
      "\"Well, Fred?\"--there was an anthem in his voice.\n",
      "\"Very well, Joe.\"  Fred hung up his unnecessary umbrella.\n",
      "\"I've sold the _Fairies_!\"\n",
      "Joe said it and Fred said it.  They said it together.  There was the\n",
      "same lilt of triumph in each voice, and both smiles vanished at the\n",
      "identical instant.\n",
      "\"_You've_ sold the _Fairies_!\" they said.\n",
      "They might have been rehearsing this scene for months, so perfect was\n",
      "the chorus.\n",
      "\"Wait a bit, Joe,\" said Fred; \"let's get the hang of this.  I\n",
      "understand that you left the matter to me.\"\n",
      "\"I did; but, Fred, I was so keen on the idea I had that I had to nip in\n",
      "before you.  Of course, I didn't go to him as Pole & Pole----\"\n",
      "\"To him?  What him?\" asked Fred, breathing hard.\n",
      "\"To What's-his-name--Bones.\"\n",
      "Fred took his blue silk handkerchief from his pocket and dabbed his\n",
      "face.\n",
      "\"Go on, Joe,\" he said sadly\n",
      "\"I got him just before he went out to lunch.  I sent up the United\n",
      "Merchant Shippers' card--it's our company, anyway.  Not a word about\n",
      "Pole & Pole.\"\n",
      "\"Oh, no, of course not!\" said Fred.\n",
      "\"And, my boy,\"--this was evidently Joe's greatest achievement, for he\n",
      "described the fact with gusto--\"not a word about the names of the\n",
      "ships.  I just sold him two steamers, so and so tonnage, so and so\n",
      "classification----\"\n",
      "\"For how much?\"\n",
      "Fred was mildly curious.  It was the curiosity which led a certain\n",
      "political prisoner to feel the edge of the axe before it beheaded him.\n",
      "\"A hundred and twenty thousand!\" cried Joe joyously.  \"He's starting a\n",
      "fleet, he says.  He's calling it the Tibbetts Line, and bought a couple\n",
      "of ships only this morning.\"\n",
      "Fred examined the ceiling carefully before he spoke.\n",
      "\"Joe,\" he said, \"was it a firm deal?  Did you put pen to paper?\"\n",
      "\"You-bet-your-dear-sweet-life,\" said Joe, scornful at the suggestion\n",
      "that he had omitted such an indispensable part of the negotiation.\n",
      "\"So did I, Joe,\" said Fred.  \"Those two ships he bought were the two\n",
      "_Fairies_.\"\n",
      "There was a dead silence.\n",
      "\"Well,\" said Joe uneasily, after a while, \"we can get a couple of\n",
      "ships----\"\n",
      "\"Where, Joe?  You admitted yesterday there weren't two boats in the\n",
      "world on the market.\"\n",
      "Another long silence.\n",
      "\"I did it for the best, Fred.\"\n",
      "Fred nodded\n",
      "\"Something must be done.  We can't sell a man what we haven't got.\n",
      "Joe, couldn't you go and play golf this afternoon whilst I wangle this\n",
      "matter out?\"\n",
      "Joe nodded and rose solemnly.  He took down his umbrella from the peg\n",
      "and his shiny silk hat from another peg, and tiptoed from the room.\n",
      "From three o'clock to four Mr. Fred Pole sat immersed in thought, and\n",
      "at last, with a big, heavy sigh, he unlocked his safe, took out his\n",
      "cheque-book and pocketed it.\n",
      "Bones was on the point of departure, after a most satisfactory day's\n",
      "work, when Fred Pole was announced.\n",
      "Bones greeted him like unto a brother--caught him by the hand at the\n",
      "very entrance and, still holding him thus, conducted him to one of his\n",
      "beautiful chairs.\n",
      "\"By Jove, dear old Fred,\" he babbled, \"it's good of you, old\n",
      "fellow--really good of you!  Business, my jolly old shipowner, waits\n",
      "for no man.  Ali, my cheque-book!\"\n",
      "\"A moment--just a moment, dear Mr. Bones,\" begged Fred.  \"You don't\n",
      "mind my calling you by the name which is already famous in the City?\"\n",
      "Bones looked dubious.\n",
      "\"Personally, I prefer Tibbetts,\" said Fred.\n",
      "\"Personally, dear old Fred, so do I,\" admitted Bones.\n",
      "\"I've come on a curious errand,\" said Fred in such hollow tones that\n",
      "Bones started.  \"The fact is, old man, I'm----\"\n",
      "He hung his head, and Bones laid a sympathetic hand on his shoulder.\n",
      "\"Anybody is liable to get that way, my jolly old roysterer,\" he said.\n",
      "\"Speakin' for myself, drink has no effect upon me--due to my jolly old\n",
      "nerves of iron an' all that sort of thing.\"\n",
      "\"I'm ashamed of myself,\" said Fred.\n",
      "\"Nothing to be ashamed of, my poor old toper,\" said Bones honestly in\n",
      "error.  \"Why, I remember once----\"\n",
      "\"As a business man, Mr. Tibbetts,\" said Fred bravely, \"can you forgive\n",
      "sentiment?\"\n",
      "\"Sentiment!  Why, you silly old josser, I'm all sentiment, dear old\n",
      "thing!  Why, I simply cry myself to sleep over dear old Charles\n",
      "What's-his-name's books!\"\n",
      "\"It's sentiment,\" said Fred brokenly.  \"I just can't--I simply can't\n",
      "part with those two ships I sold you.\"\n",
      "\"Hey?\" said Bones.\n",
      "\"They were your uncle's, but they have an association for me and my\n",
      "brother which it would be--er--profane to mention.  Mr. Tibbetts, let\n",
      "us cry off our bargain.\"\n",
      "Bones sniffed and rubbed his nose.\n",
      "\"Business, dear old Fred,\" he said gently.  \"Bear up an' play the man,\n",
      "as dear old Francis Drake said when they stopped him playin' cricket.\n",
      "Business, old friend.  I'd like to oblige you, but----\"\n",
      "He shook his head rapidly\n",
      "Mr. Fred slowly produced his cheque-book and laid it on the desk with\n",
      "the sigh of one who was about to indite his last wishes.\n",
      "\"You shall not be the loser,\" he said, with a catch in his voice, for\n",
      "he was genuinely grieved.  \"I must pay for my weakness.  What is five\n",
      "hundred pounds?\"\n",
      "\"What is a thousand, if it comes to that, Freddy?\" said Bones.\n",
      "\"Gracious goodness, I shall be awfully disappointed if you back out--I\n",
      "shall be so vexed, really.\"\n",
      "\"Seven hundred and fifty?\" asked Fred, with pleading in his eye.\n",
      "\"Make it a thousand, dear old Fred,\" said Bones; \"I can't add up\n",
      "fifties.\"\n",
      "So \"in consideration\" (as Fred wrote rapidly and Bones signed more\n",
      "rapidly) \"of the sum of one thousand pounds (say £1,000), the contract\n",
      "as between &c., &c.,\" was cancelled, and Fred became again the\n",
      "practical man of affairs.\n",
      "\"Dear old Fred,\" said Bones, folding the cheque and sticking it in his\n",
      "pocket, \"I'm goin' to own up--frankness is a vice with me--that I don't\n",
      "understand much about the shippin' business.  But tell me, my jolly old\n",
      "merchant, why do fellers sell you ships in the mornin' an' buy 'em back\n",
      "in the afternoon?\"\n",
      "\"Business, Mr. Tibbetts,\" said Fred, smiling, \"just big business.\"\n",
      "Bones sucked an inky finger.\n",
      "\"Dinky business for me, dear old thing,\" he said.  \"I've got a thousand\n",
      "from you an' a thousand from the other Johnny who sold me two ships.\n",
      "Bless my life an' soul----\"\n",
      "\"The other fellow,\" said Fred faintly--\"a fellow from the United\n",
      "Merchant Shippers?\"\n",
      "\"That was the dear lad,\" said Bones.\n",
      "\"And has he cried off his bargain, too?\"\n",
      "\"Positively!\" said Bones.  \"A very, very nice, fellow.  He told me I\n",
      "could call him Joe--jolly old Joe!\"\n",
      "\"Jolly old Joe!\" repeated Fred mechanically, as he left the office, and\n",
      "all the way home he was saying \"Jolly old Joe!\"\n"
     ]
    }
   ],
   "source": [
    "book.read(chapter=1)"
   ]
  },
  {
   "cell_type": "code",
   "execution_count": 12,
   "metadata": {
    "slideshow": {
     "slide_type": "slide"
    }
   },
   "outputs": [
    {
     "name": "stdout",
     "output_type": "stream",
     "text": [
      "The strain and embarrassment of the new relationship with her master\n",
      "were intensified by the arrival of a daughter, and doubled when that\n",
      "daughter came to a knowledgeable age.  Marguerite Whitland had the\n",
      "inherent culture of her father and the grace and delicate beauty which\n",
      "had ever distinguished the women of the house of Bortledyne.\n"
     ]
    }
   ],
   "source": [
    "book.open_book(chapter=2).read(paragraph_idx=3)"
   ]
  },
  {
   "cell_type": "code",
   "execution_count": 13,
   "metadata": {
    "slideshow": {
     "slide_type": "slide"
    }
   },
   "outputs": [
    {
     "name": "stdout",
     "output_type": "stream",
     "text": [
      "The strain and embarrassment of the new relationship with her master\n",
      "were intensified by the arrival of a daughter, and doubled when that\n",
      "daughter came to a knowledgeable age.  Marguerite Whitland had the\n",
      "inherent culture of her father and the grace and delicate beauty which\n",
      "had ever distinguished the women of the house of Bortledyne.\n"
     ]
    }
   ],
   "source": [
    "book.open_book(chapter=2).read(3)"
   ]
  },
  {
   "cell_type": "markdown",
   "metadata": {
    "slideshow": {
     "slide_type": "slide"
    }
   },
   "source": [
    "### Creating Multiple Instances\n",
    "\n",
    "You can create as many instances from a class as you need. Even if we used the same `title`, `author`, and `chapters` for the second book, Python would still create a separate instance from the `Book` class. You can make as many instances from one class as you need, as long as you give each instance a unique variable name or it occupies a unique spot in a list or dictionary."
   ]
  },
  {
   "cell_type": "code",
   "execution_count": 14,
   "metadata": {
    "slideshow": {
     "slide_type": "slide"
    }
   },
   "outputs": [
    {
     "data": {
      "text/plain": "Book('Bones in London', 'Edgar Wallace', [<__main__.Chapter object at 0x107f0e4c0>, <__main__.Chapter object at 0x107f0eca0>])"
     },
     "execution_count": 14,
     "metadata": {},
     "output_type": "execute_result"
    }
   ],
   "source": [
    "chapter_1 = Chapter(1, 'Bones and Big Business', get_text(bones_book,82, 762))\n",
    "chapter_2 = Chapter(2, 'Hidden Treassure', get_text(bones_book,769, 1455))\n",
    "book = Book('Bones in London', 'Edgar Wallace', [chapter_1, chapter_2])\n",
    "\n",
    "book"
   ]
  },
  {
   "cell_type": "markdown",
   "metadata": {
    "slideshow": {
     "slide_type": "slide"
    }
   },
   "source": [
    "# Working with Classes and Instances\n",
    "\n",
    "You can use classes to represent many real-world situations. Once you write a class, you will spend most of your time working with instances created from that class. One of the first tasks you will want to do is modify the attributes associated with a particular instance. You can modify the attributes of an instance directly or write methods that update attributes in specific ways.\n",
    "\n",
    "\n",
    "## String representation\n",
    "\n",
    "**`__repr__()` vs `__str__()` methods**:\n",
    "\n",
    "\n",
    "`__repr__` is a special method, that is called by the `repr()` built-in python method, to get string representation of the object for inspection. If we did not implement `__repr__`, book instances would be shown in the console like `<Book at 0x7f43aea894a8>`.  \n",
    "The interactive console and debugger call `repr()` on the results of the expressions evaluated, \n",
    "\n",
    "Note that in our `__repr__` implementation we used the `%r`-placeholder to obtain the standard representation of the attributes to be displayed. This is good practice (since `%r` is using the objects __repr__ method, where `%s` is using its __str__ method).\n",
    "\n",
    "The string returned by `__repr__` should be unambiguous and, if possible, **match the source code necessary to recreate the object** being represented. That is why our chosen representation looks like calling the constructor of the class, e.g. `Book('The Book of Silence', 'Nobody', [])`.\n",
    "\n",
    "Contrast `__repr__` with `__str__`, which is called by the `str()` constructor and **implicitly used by the print function**. `__str__` should return **a string suitable for display to end-users**.\n",
    "\n",
    "\n",
    "If you only implement one of these special methods, choose `__repr__`, because when no custom `__str__` is available, Python will call `__repr__` as a fallback.\n",
    "\n",
    "Finally we have `__format__` and `__bytes__` which are also string functions, but are rarely used.\n"
   ]
  },
  {
   "cell_type": "code",
   "execution_count": 15,
   "metadata": {
    "slideshow": {
     "slide_type": "slide"
    }
   },
   "outputs": [
    {
     "data": {
      "text/plain": "'Bones in London by Edgar Wallace has 2 chapters.'"
     },
     "execution_count": 15,
     "metadata": {},
     "output_type": "execute_result"
    }
   ],
   "source": [
    "str(book)"
   ]
  },
  {
   "cell_type": "code",
   "execution_count": 16,
   "metadata": {
    "slideshow": {
     "slide_type": "slide"
    }
   },
   "outputs": [],
   "source": [
    "class Book():\n",
    "    \"\"\"A simple book model consisting of chapters, which in \n",
    "    turn consist of paragraphs.\"\"\"\n",
    "\n",
    "    def __init__(self, title, author, chapters=[]):\n",
    "        \"\"\"Initialize title, the author, and the chapters.\"\"\"\n",
    "        self.title = title \n",
    "        self.author = author\n",
    "        self.chapters = chapters        \n",
    "    \n",
    "    def __repr__(self):\n",
    "        return 'Book(%r, %r, %r)' % (self.title, self.author, self.chapters)\n",
    "    \n",
    "    def __str__(self):\n",
    "        return '{name} by {by} has {nr_chap} chapters.'.format(\n",
    "            name=self.title, by=self.author, nr_chap=len(self.chapters))\n",
    "    \n",
    "    \n",
    "    def read(self, chapter=1):\n",
    "        \"\"\"Simulate reading a chapter, by calling the reading \n",
    "        method of a chapter.\"\"\" \n",
    "        self.chapters[chapter - 1].read()\n",
    "        \n",
    "    def open_book(self, chapter=1):\n",
    "        \"\"\"Simulate opening a book, which returns a chapter \n",
    "        object.\"\"\" \n",
    "        return self.chapters[chapter - 1]\n",
    "    \n",
    "\n",
    "class Chapter():\n",
    "\n",
    "    def __init__(self, number, title, paragraphs):\n",
    "        \"\"\"A chapter consists of multiple paragraphs.\"\"\"\n",
    "        self.number = number\n",
    "        self.title = title\n",
    "        self.paragraphs = []\n",
    "        for paragraph_lines in paragraphs:\n",
    "            new_pragraph = Paragraph(paragraph_lines)\n",
    "            self.paragraphs.append(new_pragraph)\n",
    "\n",
    "    def __repr__(self):\n",
    "        return 'Chapter(%r, %r, %r)' % (self.number, self.title, \n",
    "                                        self.paragraphs)\n",
    "    \n",
    "    def read(self, paragraph_idx=None):\n",
    "        \"\"\"A paragraph can be read.\"\"\" \n",
    "        if paragraph_idx:\n",
    "            self.paragraphs[paragraph_idx].read()\n",
    "        else:\n",
    "            for paragraph in self.paragraphs:\n",
    "                paragraph.read()\n",
    "                \n",
    "class Paragraph():\n",
    "    \"\"\"A paragraph consists of a list of lines.\"\"\"\n",
    "\n",
    "    def __init__(self, lines):\n",
    "        \"\"\"Initialize the paragraph with its lines of text.\"\"\"\n",
    "        self.lines = lines\n",
    "        \n",
    "    def __repr__(self):\n",
    "        return 'Paragraph(%r)' % (self.lines)\n",
    "    \n",
    "    def __str__(self):\n",
    "        return '{}...'.format(self.lines[0][0:35])\n",
    "\n",
    "    def read(self):\n",
    "        \"\"\"Simulate reading a paragraph by printing its contents.\"\"\" \n",
    "        for line in self.lines:\n",
    "            print(line)"
   ]
  },
  {
   "cell_type": "code",
   "execution_count": 17,
   "metadata": {
    "slideshow": {
     "slide_type": "slide"
    }
   },
   "outputs": [
    {
     "name": "stdout",
     "output_type": "stream",
     "text": [
      "The Empty Book by Nobody has 0 chapters.\n",
      "Mrs. Staleyborn's first husband was...\n"
     ]
    },
    {
     "data": {
      "text/plain": "[Paragraph([\"Mrs. Staleyborn's first husband was a dreamy Fellow of a Learned\", 'University.']),\n Paragraph(['Her second husband had begun life at the bottom of the ladder as a', 'three-card trickster, and by strict attention to business and the', 'exercise of his natural genius, had attained to the proprietorship of a', 'bucket-shop.']),\n Paragraph(['When Mrs. Staleyborn was Miss Clara Smith, she had been housekeeper to', 'Professor Whitland, a biologist who discovered her indispensability,', 'and was only vaguely aware of the social gulf which yawned between the', 'youngest son of the late Lord Bortledyne and the only daughter of', 'Albert Edward Smith, mechanic.  To the Professor she was Miss _H.', 'Sapiens_--an agreeable, featherless plantigrade biped of the genus', '_Homo_.  She was also thoroughly domesticated and cooked like an angel,', 'a nice woman who apparently never knew that her husband had a Christian', 'name, for she called him \"Mr. Whitland\" to the day of his death.']),\n Paragraph(['The strain and embarrassment of the new relationship with her master', 'were intensified by the arrival of a daughter, and doubled when that', 'daughter came to a knowledgeable age.  Marguerite Whitland had the', 'inherent culture of her father and the grace and delicate beauty which', 'had ever distinguished the women of the house of Bortledyne.']),\n Paragraph(['When the Professor died, Mrs. Whitland mourned him in all sincerity.', 'She was also relieved.  One-half of the burden which lay upon her had', 'been lifted; the second half was wrestling with the binomial theorem at', 'Cheltenham College.']),\n Paragraph(['She had been a widow twelve months when she met Mr. Cresta Morris, and,', 'if the truth be told, Mr. Cresta Morris more fulfilled her conception', 'as to what a gentleman should look like than had the Professor.  Mr.', 'Cresta Morris wore white collars and beautiful ties, had a large gold', 'watch-chain over what the French call poetically a _gilet de fantasie_,', 'but which he, in his own homely fashion, described as a \"fancy weskit.\"', 'He smoked large cigars, was bluff and hearty, spoke to the widow--he', 'was staying at Harrogate at the time in a hydropathic establishment--in', 'a language which she could understand.  Dimly she began to realize that', 'the Professor had hardly spoken to her at all.']),\n Paragraph(['Mr. Cresta Morris was one of those individuals who employed a', 'vocabulary of a thousand words, with all of which Mrs. Whitland was', 'well acquainted; he was also a man of means and possessions, he', 'explained to her.  She, giving confidence for confidence, told of the', 'house at Cambridge, the furniture, the library, the annuity of three', \"hundred pounds, earmarked for his daughter's education, but mistakenly\", 'left to his wife for that purpose, also the four thousand three hundred', 'pounds invested in War Stock, which was wholly her own.']),\n Paragraph(['Mr. Cresta Morris became more agreeable than ever.  In three months', 'they were married, in six months the old house at Cambridge had been', 'disposed of, the library dispersed, as much of the furniture as Mr.', 'Morris regarded as old-fashioned sold, and the relict of Professor', 'Whitland was installed in a house in Brockley.']),\n Paragraph(['It was a nice house--in many ways nicer than the rambling old building', \"in Cambridge, from Mrs. Morris's point of view.  And she was happy in a\", 'tolerable, comfortable kind of fashion, and though she was wholly', 'ignorant as to the method by which her husband made his livelihood, she', 'managed to get along very well without enlightenment.']),\n Paragraph(['Marguerite was brought back from Cheltenham to grace the new', 'establishment and assist in its management.  She shared none of her', \"mother's illusions as to the character of Mr. Cresta Morris, as that\", 'gentleman explained to a very select audience one January night.']),\n Paragraph(['Mr. Morris and his two guests sat before a roaring fire in the', 'dining-room, drinking hot brandies-and-waters.  Mrs. Morris had gone to', 'bed; Marguerite was washing up, for Mrs. Morris had the \"servant\\'s', 'mind,\" which means that she could never keep a servant.']),\n Paragraph(['The sound of crashing plates had come to the dining-room and', 'interrupted Mr. Morris at a most important point of his narrative.  He', 'jerked his head round.']),\n Paragraph(['\"That\\'s the girl,\" he said; \"she\\'s going to be a handful.\"']),\n Paragraph(['\"Get her married,\" said Job Martin wisely.']),\n Paragraph(['He was a hatchet-faced man with a reputation for common-sense.  He had', 'another reputation which need not be particularized at the moment.']),\n Paragraph(['\"Married?\" scoffed Mr. Morris.  \"Not likely!\"']),\n Paragraph(['He puffed at his cigar thoughtfully for a moment, then:']),\n Paragraph(['\"She wouldn\\'t come in to dinner--did you notice that?  We are not good', \"enough for her.  She's fly!  Fly ain't the word for it.  We always find\", 'her nosing and sneaking around.\"']),\n Paragraph(['\"Send her back to school,\" said the third guest.']),\n Paragraph(['He was a man of fifty-five, broad-shouldered, clean-shaven, who had', 'literally played many parts, for he had been acting in a touring', 'company when Morris first met him--Mr. Timothy Webber, a man not', 'unknown to the Criminal Investigation Department.']),\n Paragraph(['\"She might have been useful,\" Mr. Morris went on regretfully, \"very', \"useful indeed.  She is as pretty as a picture, I'll give her that due.\", 'Now, suppose she----\"']),\n Paragraph(['Webber shook his head.']),\n Paragraph(['\"It\\'s my way or no way,\" he said decidedly.  \"I\\'ve been a month', 'studying this fellow, and I tell you I know him inside out.\"']),\n Paragraph(['\"Have you been to see him?\" asked the second man.']),\n Paragraph(['\"Am I a fool?\" replied the other roughly.  \"Of course I have not been', \"to see him.  But there are ways of finding out, aren't there?  He is\", \"not the kind of lad that you can work with a woman, not if she's as\", 'pretty as paint.\"']),\n Paragraph(['\"What do they call him?\" asked Morris.']),\n Paragraph(['\"Bones,\" said Webber, with a little grin.  \"At least, he has letters', \"which start 'Dear Bones,' so I suppose that's his nickname.  But he's\", 'got all the money in the world.  He is full of silly ass schemes, and', 'he\\'s romantic.\"']),\n Paragraph(['\"What\\'s that to do with it?\" asked Job Martin, and Webber turned with a', 'despairing shrug to Morris.']),\n Paragraph(['\"For a man who is supposed to have brains----\" he said, but Morris', 'stopped him with a gesture.']),\n Paragraph(['\"I see the idea--that\\'s enough.\"']),\n Paragraph(['He ruminated again, chewing at his cigar, then, with a shake of his', 'head----']),\n Paragraph(['\"I wish the girl was in it.\"']),\n Paragraph(['\"Why?\" asked Webber curiously.']),\n Paragraph(['\"Because she\\'s----\"  He hesitated.  \"I don\\'t know what she knows about', \"me.  I can guess what she guesses.  I'd like to get her into something\", 'like this, to--to----\"  He was at a loss for a word.']),\n Paragraph(['\"Compromise?\" suggested the more erudite Webber.']),\n Paragraph(['\"That\\'s the word.  I\\'d like to have her like that!\"  He put his thumb', 'down on the table in an expressive gesture.']),\n Paragraph(['Marguerite, standing outside, holding the door-handle hesitating as to', 'whether she should carry in the spirit kettle which Mr. Morris had', 'ordered, stood still and listened.']),\n Paragraph(['The houses in Oakleigh Grove were built in a hurry, and at best were', 'not particularly sound-proof.  She stood fully a quarter of an hour', 'whilst the three men talked in low tones, and any doubts she might have', \"had as to the nature of her step-father's business were dispelled.\"]),\n Paragraph(['Again there began within her the old fight between her loyalty to her', 'mother and loyalty to herself and her own ideals.  She had lived', 'through purgatory these past twelve months, and again and again she had', 'resolved to end it all, only to be held by pity for the helpless woman', 'she would be deserting.  She told herself a hundred times that her', 'mother was satisfied in her placid way with the life she was living,', 'and that her departure would be rather a relief than a cause for', 'uneasiness.  Now she hesitated no longer, and went back to the kitchen,', 'took off the apron she was wearing, passed along the side-passage, up', 'the stairs to her room, and began to pack her little bag.']),\n Paragraph(['Her mother was facing stark ruin.  This man had drawn into his hands', 'every penny she possessed, and was utilizing it for the furtherance of', 'his own nefarious business.  She had an idea--vague as yet, but later', 'taking definite shape--that if she might not save her mother from the', 'wreck which was inevitable, she might at least save something of her', 'little fortune.']),\n Paragraph(['She had \"nosed around\" to such purpose that she had discovered her', 'step-father was a man who for years had evaded the grip of an', 'exasperated constabulary.  Some day he would fall, and in his fall', 'bring down her mother.']),\n Paragraph(['Mr. Cresta Morris absorbed in the elaboration of the great plan, was', 'reminded, by the exhaustion of visible refreshment, that certain of his', 'instructions had not been carried out.']),\n Paragraph(['\"Wait a minute,\" he said.  \"I told that girl to bring in the kettle at', \"half-past nine.  I'll go out and get it.  Her royal highness wouldn't\", 'lower herself by bringing it in, I suppose!\"']),\n Paragraph(['He found the kettle on the kitchen table, but there was no sign of', 'Marguerite.  This was the culmination of a succession of \"slights\"', 'which she had put on him, and in a rage he walked along the passage,', 'and yelled up the stairs:']),\n Paragraph(['\"Marguerite!\"']),\n Paragraph(['There was no reply, and he raced up to her room.  It was empty, but', 'what was more significant, her dresses and the paraphernalia which', 'usually ornamented her dressing-table had disappeared.']),\n Paragraph(['He came down a very thoughtful man.']),\n Paragraph(['\"She\\'s hopped,\" he said laconically.  \"I was always afraid of that.\"']),\n Paragraph(['It was fully an hour before he recovered sufficiently to bring his mind', 'to a scheme of such fascinating possibilities that even his', \"step-daughter's flight was momentarily forgotten\"]),\n Paragraph(['*      *      *      *      *']),\n Paragraph(['On the following morning Mr. Tibbetts received a visitor.']),\n Paragraph(['That gentleman who was, according to the information supplied by Mr.', 'Webber, addressed in intimate correspondence as \"Dear Bones,\" was', 'sitting in his most gorgeous private office, wrestling with a letter to', 'the eminent firm of Timmins and Timmins, yacht agents, on a matter of a', 'luckless purchase of his.']),\n Paragraph([]),\n Paragraph(['\"DEAR SIRS GENENTLEMEN\" (ran the letter.  Bones wrote as he thought,', 'thought faster than he wrote, and never opened a dictionary save to', 'decide a bet)--\"I told you I have told you 100000 times that the yacht', '_Luana_ I bought from your cleint (a nice cleint I must say!!!) is a', 'frord fruad and a _swindel_.  It is much two too big.  2000 pounds was', \"a swindel outraygious!!  Well I've got it got it now so theres theirs\", 'no use crying over split milk.  But do like a golly old yaght-seller', 'get red of it rid of it.  Sell it to _anybody_ even for a 1000 pounds.', 'I must have been mad to buy it but he was such a plausuble chap....\"']),\n Paragraph([]),\n Paragraph(['This and more he wrote and was writing, when the silvery bell announced', 'a visitor.  It rang many times before he realized that he had sent his', 'factotum, Ali Mahomet, to the South Coast to recover from a', 'sniffle--the after-effects of a violent cold--which had been', 'particularly distressing to both.  Four times the bell rang, and four', 'times Bones raised his head and scowled at the door, muttering violent', 'criticisms of a man who at that moment was eighty-five miles away.']),\n Paragraph(['Then he remembered, leapt up, sprinted to the door, flung it open with', 'an annoyed:']),\n Paragraph(['\"Come in!  What the deuce are you standing out there for?\"']),\n Paragraph(['Then he stared at his visitor, choked, went very red, choked again, and', 'fixed his monocle.']),\n Paragraph(['\"Come in, young miss, come in,\" he said gruffly.  \"Jolly old bell\\'s out', \"of order.  Awfully sorry and all that sort of thing.  Sit down, won't\", 'you?\"']),\n Paragraph(['In the outer office there was no visible chair.  The excellent Ali', 'preferred sitting on the floor, and visitors were not encouraged.']),\n Paragraph(['\"Come into my office,\" said Bones, \"my private office.\"']),\n Paragraph(['The girl had taken him in with one comprehensive glance, and a little', 'smile trembled on the corner of her lips as she followed the harassed', 'financier into his \"holy of holies.\"']),\n Paragraph(['\"My little den,\" said Bones incoherently.  \"Sit down, jolly old--young', \"miss.  Take my chair--it's the best.  Mind how you step over that\", 'telephone wire.  Ah!\"']),\n Paragraph(['She did catch her feet in the flex, and he sprang to her assistance.']),\n Paragraph(['\"Upsy, daisy, dear old--young miss, I mean.\"']),\n Paragraph(['It was a breathless welcome.  She herself was startled by the warmth of', 'it; he, for his part, saw nothing but grey eyes and a perfect mouth,', 'sensed nothing but a delicate fragrance of a godlike presence.']),\n Paragraph(['\"I have come to see you----\" she began.']),\n Paragraph(['\"Jolly good of you,\" said Bones enthusiastically.  \"You\\'ve no idea how', \"fearsomely lonely I get sometimes.  I often say to people: 'Look me up,\", \"dear old thing, any time between ten and twelve or two and four; don't\", 'stand on ceremony----\\'\"']),\n Paragraph(['\"I\\'ve come to see you----\" she began again.']),\n Paragraph(['\"You\\'re a kind young miss,\" murmured Bones, and she laughed.']),\n Paragraph(['\"You\\'re not used to having girls in this office, are you?\"']),\n Paragraph(['\"You\\'re the first,\" said Bones, with a dramatic flourish, \"that ever', 'burst tiddly-um-te-um!\"']),\n Paragraph(['To be mistaken for a welcome visitor--she was that, did she but guess', 'it--added to her natural embarrassment.']),\n Paragraph(['\"Well,\" she said desperately, \"I\\'ve come for work.\"']),\n Paragraph(['He stared at her, refixing his monocle.']),\n Paragraph(['\"You\\'ve come for work my dear old--my jolly old--young miss?\"']),\n Paragraph(['\"I\\'ve come for work,\" she nodded.']),\n Paragraph([\"Bones's face was very grave.\"]),\n Paragraph(['\"You\\'ve come for work.\"  He thought a moment; then: \"What work?  Of', 'course,\" he added in a flurry, \"there\\'s plenty of work to do!  Believe', \"me, you don't know the amount I get through in this sanctum--that's\", \"Latin for 'private office'--and the wretched old place is never\", 'tidy--never!  I am seriously thinking\"--he frowned--\"yes, I am very', 'seriously thinking of sacking the lady who does the dusting.  Why, do', 'you know, this morning----\"']),\n Paragraph([\"Her eyes were smiling now, and she was to Bones's unsophisticated eyes,\", 'and, indeed, to eyes sophisticated, superhumanly lovely.']),\n Paragraph(['\"I haven\\'t come for a dusting job,\" she laughed.']),\n Paragraph(['\"Of course you haven\\'t,\" said Bones in a panic.  \"My dear old lady--my', \"precious--my young person, I should have said--of course you haven't!\", \"You've come for a job--you've come to work!  Well, you shall have it!\", 'Start right away!\"']),\n Paragraph(['She stared.']),\n Paragraph(['\"What shall I do?\" she asked.']),\n Paragraph(['\"What would I like you to do?\" said Bones slowly.  \"What about', 'scheming, getting out ideas, using brains, initiative, bright----\"  He', 'trailed off feebly as she shook her head.']),\n Paragraph(['\"Do you want a secretary?\" she asked, and Bones\\'s enthusiasm rose to', 'the squeaking point.']),\n Paragraph(['\"The very thing!  I advertised in this morning\\'s _Times_.  You saw the', 'advertisement?\"']),\n Paragraph(['\"You are not telling the truth,\" she said, looking at him with eyes', 'that danced.  \"I read all the advertisement columns in _The Times_ this', 'morning, and I am quite sure that you did not advertise.\"']),\n Paragraph(['\"I meant to advertise,\" said Bones gently.  \"I had the idea last night;', 'that\\'s the very piece of paper I was writing the advertisement on.\"']),\n Paragraph(['He pointed to a sheet upon the pad.']),\n Paragraph(['\"A secretary?  The very thing!  Let me think.\"']),\n Paragraph(['He supported his chin upon one hand, his elbow upon another.']),\n Paragraph(['\"You will want paper, pens, and ink--we have all those,\" he said.', '\"There is a large supply in that cupboard.  Also india-rubber.  I am', 'not sure if we have any india-rubber, but that can be procured.  And a', 'ruler,\" he said, \"for drawing straight lines and all that sort of', 'thing.\"']),\n Paragraph(['\"And a typewriter?\" she suggested.']),\n Paragraph(['Bones smacked his forehead with unnecessary violence.']),\n Paragraph(['\"A typewriter!  I knew this office wanted something.  I said to Ali', 'yesterday: \\'You silly old ass----\\'\"']),\n Paragraph(['\"Oh, you have a girl?\" she said disappointedly.']),\n Paragraph(['\"Ali,\" said Bones, \"is the name of a native man person who is devoted', 'to me, body and soul.  He has been, so to speak, in the family for', 'years,\" he explained.']),\n Paragraph(['\"Oh, it\\'s a man,\" she said.']),\n Paragraph(['Bones nodded.']),\n Paragraph(['\"Ali.  Spelt A-l-y; it\\'s Arabic.\"']),\n Paragraph(['\"A native?\"']),\n Paragraph(['Bones nodded.']),\n Paragraph(['\"Of course he will not be in your way,\" ha hastened to explain.  \"He is', 'in Bournemouth just now.  He had sniffles.\"  he explained rapidly, \"and', \"then he used to go to sleep, and snore.  I hate people who snore, don't\", 'you?\"']),\n Paragraph(['She laughed again.  This was the most amazing of all possible employers.']),\n Paragraph(['\"Of course,\" Bones went on, \"I snore a bit myself.  All thinkers do--I', 'mean all brainy people.  Not being a jolly old snorer yourself----\"']),\n Paragraph(['\"Thank you,\" said the girl.']),\n Paragraph(['Other tenants or the satellites of other tenants who occupied the', 'palatial buildings wherein the office of Bones was situated saw, some', 'few minutes later, a bare-headed young man dashing down the stairs', 'three at a time; met him, half an hour later, staggering up those same', 'stairs handicapped by a fifty-pound typewriter in one hand, and a chair', 'in the style of the late Louis Quinze in the other, and wondered at the', 'urgency of his movements.']),\n Paragraph(['\"I want to tell you,\" said the girl, \"that I know very little about', 'shorthand.\"']),\n Paragraph(['\"Shorthand is quite unnecessary, my dear--my jolly old stenographer,\"', 'said Bones firmly.  \"I object to shorthand on principle, and I shall', 'always object to it.  If people,\" he went on, \"were intended to write', 'shorthand, they would have been born without the alphabet.  Another', 'thing----\"']),\n Paragraph(['\"One moment, Mr. Tibbetts,\" she said.  \"I don\\'t know a great deal about', 'typewriting, either.\"']),\n Paragraph(['Bones beamed.']),\n Paragraph(['\"There I can help you,\" he said.  \"Of course it isn\\'t necessary that', 'you should know anything about typewriting.  But I can give you a few', 'hints,\" he said.  \"This thing, when you jiggle it up and down, makes', 'the thingummy-bob run along.  Every time you hit one of these', \"letters----  I'll show you....  Now, suppose I am writing 'Dear Sir,' I\", 'start with a \\'D.\\'  Now, where\\'s that jolly old \\'D\\'?\"  He scowled at the', 'keyboard, shook his head, and shrugged his shoulders.  \"I thought so,\"', 'he said; \"there ain\\'t a \\'D.\\'  I had an idea that that wicked old----\"']),\n Paragraph(['\"Here\\'s the \\'D,\\'\" she pointed out.']),\n Paragraph(['Bones spent a strenuous but wholly delightful morning and afternoon.', 'He was half-way home to his chambers in Curzon Street before he', 'realized that he had not fixed the rather important question of salary.', 'He looked forward to another pleasant morning making good that lapse.']),\n Paragraph(['It was his habit to remain late at his office at least three nights a', 'week, for Bones was absorbed in his new career.']),\n Paragraph(['\"Schemes Ltd.\" was no meaningless title.  Bones had schemes which', 'embraced every field of industrial, philanthropic, and social activity.', 'He had schemes for building houses, and schemes for planting rose trees', 'along all the railway tracks.  He had schemes for building motor-cars,', 'for founding labour colonies, for harnessing the rise and fall of the', 'tides, he had a scheme for building a theatre where the audience sat on', 'a huge turn-table, and, at the close of one act, could be twisted', 'round, with no inconvenience to themselves, to face a stage which has', 'been set behind them.  Piqued by a certain strike which had caused him', 'a great deal of inconvenience, he was engaged one night working out a', 'scheme for the provision of municipal taxicabs, and he was so absorbed', 'in his wholly erroneous calculations that for some time he did not hear', 'the angry voices raised outside the door of his private office.']),\n Paragraph(['Perhaps it was that that portion of his mind which had been left free', 'to receive impressions was wholly occupied with a scheme--which', 'appeared in no books or records--for raising the wages of his new', 'secretary.']),\n Paragraph(['But presently the noise penetrated even to him, and he looked up with a', 'touch of annoyance.']),\n Paragraph(['\"At this hour of the night! ...  Goodness gracious ... respectable', 'building!\"']),\n Paragraph(['His disjointed comments were interrupted by the sound of a scuffle, an', 'oath, a crash against his door and a groan, and Bones sprang to the', 'door and threw it open.']),\n Paragraph(['As he did so a man who was leaning against it fell in.']),\n Paragraph(['\"Shut the door, quick!\" he gasped, and Bones obeyed.']),\n Paragraph(['The visitor who had so rudely irrupted himself was a man of middle age,', 'wearing a coarse pea-jacket and blue jersey of a seaman, his peaked hat', 'covered with dust, as Bones perceived later, when the sound of', 'scurrying footsteps had died away.']),\n Paragraph(['The man was gripping his left arm as if in pain, and a thin trickle of', 'red was running down the back of his big hand.']),\n Paragraph(['\"Sit down, my jolly old mariner,\" said Bones anxiously.  \"What\\'s the', 'matter with you?  What\\'s the trouble, dear old sea-dog?\"']),\n Paragraph(['The man looked up at him with a grimace.']),\n Paragraph(['\"They nearly got it, the swine!\" he growled.']),\n Paragraph(['He rolled up his sleeve and, deftly tying a handkerchief around a red', 'patch, chuckled:']),\n Paragraph(['\"It is only a scratch,\" he said.  \"They\\'ve been after me for two days,', \"Harry Weatherall and Jim Curtis.  But right's right all the world over.\", \"I've suffered enough to get what I've got--starved on the high seas,\", \"and starved on Lomo Island.  Is it likely that I'm going to let them\", 'share?\"']),\n Paragraph(['Bones shook his head.']),\n Paragraph(['\"You sit down, my dear old fellow,\" he said sympathetically.']),\n Paragraph(['The man thrust his hands laboriously into his inside pocket and pulled', 'out a flat oilskin case.  From this he extracted a folded and faded', 'chart.']),\n Paragraph(['\"I was coming up to see a gentleman in these buildings,\" he said, \"a', 'gentleman named Tibbetts.\"']),\n Paragraph(['Bones opened his mouth to speak, but stopped himself.']),\n Paragraph(['\"Me and Jim Curtis and young Harry, we were together in the _Serpent', \"Queen_--my name's Dibbs.  That's where we got hold of the yarn about\", \"Lomo Island, though we didn't believe there was anything in it.  But\", 'when this Dago died----\"']),\n Paragraph(['\"Which Dago?\" asked Bones.']),\n Paragraph(['\"The Dago that knew all about it,\" said Mr. Dibbs impatiently, \"and we', 'come to split up his kit in his mess-bag, I found this.\"  He shook the', 'oilskin case in Bones\\'s face.  \"Well, the first thing I did, when I got', 'to Sydney, was to desert, and I got a chap from Wellington to put up', 'the money to hire a boat to take me to Lomo.  We were wrecked on Lomo.\"']),\n Paragraph(['\"So you got there?\" said Bones sympathetically.']),\n Paragraph(['\"Six weeks I was on Lomo.  Ate nothing but crabs, drank nothing but', 'rain-water.  But the stuff was there all right, only\"--he was very', 'emphatic, was this simple old sea-dog--\"it wasn\\'t under the third tree,', 'but the fourth tree.  I got down to the first of the boxes, and it was', \"as much as I could do to lift it out.  I couldn't trust any of the\", 'Kanaka boys who were with me.\"']),\n Paragraph(['\"Naturally,\" said Bones.  \"An\\' I\\'ll bet they didn\\'t trust you, the', 'naughty old Kanakas.\"']),\n Paragraph(['\"Look here,\" said Mr. Dibbs, and he pulled out of his pocket a handful', 'of gold coins which bore busts of a foreign-looking lady and gentleman.', '\"Spanish gold, that is,\" he said.  \"There was four thousand in the', \"little box.  I filled both my pockets, and took 'em back to Sydney when\", \"we were picked up.  I didn't dare try in Australia.  'That gold will\", \"keep,' I says to myself.  'I'll get back to England and find a man who\", 'will put up the money for an expedition\\'--a gentleman, you understand?\"']),\n Paragraph(['\"I quite understand,\" said Bones, all a-quiver with excitement.']),\n Paragraph(['\"And then I met Harry and Jim.  They said they\\'d got somebody who would', 'put the money up, an American fellow, Rockefeller.  Have you ever heard', 'of him?\"']),\n Paragraph(['\"I\\'ve heard of him,\" said Bones; \"he\\'s got a paraffin mine.\"']),\n Paragraph(['\"It may be he has, it may be he hasn\\'t,\" said Mr. Dibbs and rose.', '\"Well, sir, I\\'m very much obliged to you for your kindness.  If you\\'ll', 'direct me to Mr. Tibbetts\\'s office----\"']),\n Paragraph(['It was a dramatic moment.']),\n Paragraph(['\"I am Mr. Tibbetts,\" said Bones simply.']),\n Paragraph(['Blank incredulity was on the face of Mr. Dibbs.']),\n Paragraph(['\"You?\" he said.  \"But I thought Mr. Tibbetts was an older gentleman?\"']),\n Paragraph(['\"Dear old treasure-finder,\" said Bones, \"be assured I am Mr. Tibbetts.', 'This is my office, and this is my desk.  People think I am older', 'because----\"  He smiled a little sadly, then: \"Sit down!\" he thundered.', '\"Let us go into this.\"']),\n Paragraph(['He went into the matter, and the City clocks were booming one when he', 'led his mariner friend into the street.']),\n Paragraph(['He was late at the office the next morning, because he was young and', 'healthy and required nine hours of the deepest slumber that Morpheus', 'kept in stock.']),\n Paragraph(['The grey-eyed girl was typing at a very respectable speed the notes', 'Bones had given her the evening before.  There was a telegram awaiting', 'him, which he read with satisfaction.  Then:']),\n Paragraph(['\"Leave your work, my young typewriter,\" said Bones imperiously.  \"I', 'have a matter of the greatest importance to discuss with you!  See that', 'all the doors are closed,\" he whispered; \"lock \\'em if necessary.\"']),\n Paragraph(['\"I hardly think that\\'s necessary,\" said the girl.  \"You see, if anybody', 'came and found all the doors locked----\"']),\n Paragraph(['\"Idiot!\" said Bones, very red.']),\n Paragraph(['\"I beg your pardon,\" said the startled girl.']),\n Paragraph(['\"I was speaking to me,\" said Bones rapidly.  \"This is a matter of the', 'greatest confidence, my jolly old Marguerite \"--he paused, shaking at', 'his temerity, for it was only on the previous day that he had', 'discovered her name--\"a matter which requires tact and discretion,', 'young Marguerite----\"']),\n Paragraph(['\"You needn\\'t say it twice,\" she said.']),\n Paragraph(['\"Well once,\" said Bones, brightening up.  \"That\\'s a bargain--I\\'ll call', 'you Marguerite once a day.  Now, dear old Marguerite, listen to this.\"']),\n Paragraph(['She listened with the greatest interest, jotting down the preliminary', 'expenses.  Purchase of steamer, five thousand pounds; provisioning of', 'same, three thousand pounds, etc., etc.  She even undertook to make a', 'copy of the plan which Mr. Dibbs had given into his charge, and which', 'Bones told her had not left him day nor night.']),\n Paragraph(['\"I put it in my pyjama pocket when I went to bed,\" he explained', 'unnecessarily, \"and----\"  He began to pat himself all over,', 'consternation in his face.']),\n Paragraph(['\"And you left it in your pyjama pocket,\" said the girl quietly.  \"I\\'ll', 'telephone to your house for it.\"']),\n Paragraph(['\"Phew!\" said Bones.  \"It seems incredible.  I must have been robbed.\"']),\n Paragraph(['\"I don\\'t think so,\" said the girl; \"it is probably under your pillow.', 'Do you keep your pyjamas under your pillow?\"']),\n Paragraph(['\"That,\" said Bones, \"is a matter which I never discuss in public.  I', 'hate to disappoint you, dear old Marguerite----\"']),\n Paragraph(['\"I\\'m sorry,\" said the girl, with such a simulation of regret that Bones', 'dissolved into a splutter of contrition.']),\n Paragraph(['A commissionaire and a taxicab brought the plan, which was discovered', 'where the girl in her wisdom had suggested.']),\n Paragraph(['\"I\\'m not so sure how much money I\\'m going to make out of this,\" said', 'Bones off-handedly, after a thorough and searching examination of the', 'project.  \"It is certain to be about three thousand pounds--it may be a', 'million or two million.  It\\'ll be good for you, dear old stenographer.\"']),\n Paragraph(['She looked at him.']),\n Paragraph(['\"I have decided,\" said Bones, playing with his paper-knife, \"to allow', 'you a commission of seven and a half per cent. on all profits.  Seven', 'and a half per cent. on two million is, roughly, fifty thousand', 'pounds----\"']),\n Paragraph(['She laughed her refusal.']),\n Paragraph(['\"I like to be fair,\" said Bones.']),\n Paragraph(['\"You like to be generous,\" she corrected him, \"and because I am a girl,', 'and pretty----\"']),\n Paragraph(['\"Oh, I say,\" protested Bones feebly--\"oh, really you are not pretty at', 'all.  I am not influenced by your perfectly horrible young face,', \"believe me, dear old Miss Marguerite.  Now, I've a sense of fairness, a\", 'sense of justice----\"']),\n Paragraph(['\"Now, listen to me, Mr. Tibbetts.\"  She swung her chair round to face', 'him squarely.  \"I\\'ve got to tell you a little story.\"']),\n Paragraph(['Bones listened to that story with compressed lips and folded arms.  He', 'was neither shocked nor amazed, and the girl was surprised.']),\n Paragraph(['\"Hold hard, young miss,\" he said soberly.  \"If this is a jolly old', 'swindle, and if the naughty mariner----\"']),\n Paragraph(['\"His name is Webber, and he is an actor,\" she interrupted.']),\n Paragraph(['\"And dooced well he acted,\" admitted Bones.  \"Well, if this is so, what', \"about the other johnny who's putting up ten thousand to my fifteen\", 'thousand?\"']),\n Paragraph(['This was a facer for the girl, and Bones glared his triumph.']),\n Paragraph(['\"That is what the wicked old ship-sailer said.  Showed me the money,', \"an' I sent him straight off on the job.  He said he'd got a Stock\", 'Exchange person named Morris----\"']),\n Paragraph(['\"Morris!\" gasped the girl.  \"That is my step-father!\"']),\n Paragraph(['Bones jumped up, a man inspired.']),\n Paragraph(['\"The naughty old One, who married your sainted mother?\" he gurgled.', '\"My miss!  My young an\\' jolly old Marguerite!\"']),\n Paragraph(['He sat down at his desk, yanked open the drawer, and slapped down his', 'cheque-book.']),\n Paragraph(['\"Three thousand pounds,\" he babbled, writing rapidly.  \"You\\'d better', 'keep it for her, dear old friend of Faust.\"']),\n Paragraph(['\"But I don\\'t understand,\" she said, bewildered.']),\n Paragraph(['\"Telegram,\" said Bones briefly.  \"Read it.\"']),\n Paragraph(['She picked up the buff form and read.  It was postmarked from Cowes,', 'and ran:']),\n Paragraph([]),\n Paragraph(['\"In accordance your telegraphed instructions, have sold your', 'schooner-yacht to Mr. Dibbs, who paid cash.  Did not give name of', 'owner.  Dibbs did not ask to see boat.  All he wanted was receipt for', 'money.\"']),\n Paragraph([]),\n Paragraph(['\"They are calling this afternoon for my fifteen thousand,\" said Bones,', 'cackling light-headedly.  \"Ring up jolly old Scotland Yard, and ask \\'em', 'to send me all the police they\\'ve got in stock!\"'])]"
     },
     "execution_count": 17,
     "metadata": {},
     "output_type": "execute_result"
    }
   ],
   "source": [
    "chapter_1 = Chapter(1, 'Bones and Big Business', get_text(bones_book,82, 762))\n",
    "chapter_2 = Chapter(2, 'Hidden Treassure', get_text(bones_book,769, 1455))\n",
    "book = Book('Bones in London', 'Edgar Wallace', [chapter_1, chapter_2])\n",
    "\n",
    "empty_book = Book('The Empty Book', 'Nobody')\n",
    "\n",
    "print(empty_book)\n",
    "print(book.chapters[1].paragraphs[0])\n",
    "\n",
    "book.chapters[1].paragraphs"
   ]
  },
  {
   "cell_type": "markdown",
   "metadata": {},
   "source": [
    "## Setting a Default Value for an Attribute\n",
    "\n",
    "Every attribute in a class needs an initial value, even if that value is 0 or an empty string. In some cases, such as when setting a default value, it makes sense to specify this initial value in the body of the `__init__()` method; if you do this for an attribute, you do not have to include a parameter for that attribute.\n",
    "\n",
    "Let’s add an attribute called `reading_position` that always starts with a value of `0`. We’ll also add a method `get_reading_position()` that returns a reader's current position in the text."
   ]
  },
  {
   "cell_type": "code",
   "execution_count": 18,
   "metadata": {
    "slideshow": {
     "slide_type": "slide"
    }
   },
   "outputs": [],
   "source": [
    "class Paragraph():\n",
    "    \"\"\"A paragraph consists of a list of lines.\"\"\"\n",
    "\n",
    "    def __init__(self, lines):\n",
    "        \"\"\"Initialize name and age attributes.\"\"\"\n",
    "        self.lines = lines\n",
    "        self.reading_position = 0\n",
    "        \n",
    "    def read(self):\n",
    "        \"\"\"Simulate reading a paragraph by printing its contents.\"\"\" \n",
    "        # for line in self.lines:\n",
    "        #     print(line)\n",
    "        print(self.lines[self.reading_position])\n",
    "            \n",
    "    def get_reading_position(self):\n",
    "        return self.reading_position"
   ]
  },
  {
   "cell_type": "code",
   "execution_count": 19,
   "metadata": {
    "slideshow": {
     "slide_type": "slide"
    }
   },
   "outputs": [
    {
     "data": {
      "text/plain": "0"
     },
     "execution_count": 19,
     "metadata": {},
     "output_type": "execute_result"
    }
   ],
   "source": [
    "paragraph = Paragraph([])\n",
    "paragraph.reading_position"
   ]
  },
  {
   "cell_type": "code",
   "execution_count": 20,
   "metadata": {
    "slideshow": {
     "slide_type": "slide"
    }
   },
   "outputs": [],
   "source": [
    "class Paragraph():\n",
    "    \"\"\"A paragraph consists of a list of lines.\"\"\"\n",
    "\n",
    "    def __init__(self, lines):\n",
    "        \"\"\"Initialize name and age attributes.\"\"\"\n",
    "        self.lines = lines\n",
    "        self.reading_position = 0\n",
    "        \n",
    "    def read(self):\n",
    "        \"\"\"Simulate reading a paragraph by printing its contents.\"\"\" \n",
    "        # for line in self.lines:\n",
    "        #     print(line)\n",
    "        print(self.lines[self.reading_position])\n",
    "\n",
    "    def get_reading_position(self):\n",
    "        return self.reading_position"
   ]
  },
  {
   "cell_type": "code",
   "execution_count": 21,
   "metadata": {
    "slideshow": {
     "slide_type": "slide"
    }
   },
   "outputs": [
    {
     "data": {
      "text/plain": "[]"
     },
     "execution_count": 21,
     "metadata": {},
     "output_type": "execute_result"
    }
   ],
   "source": [
    "paragraph = Paragraph([])\n",
    "paragraph.lines"
   ]
  },
  {
   "cell_type": "code",
   "execution_count": 22,
   "metadata": {
    "slideshow": {
     "slide_type": "slide"
    }
   },
   "outputs": [
    {
     "name": "stdout",
     "output_type": "stream",
     "text": [
      "Her second husband had begun life at the bottom of the ladder as a\n"
     ]
    }
   ],
   "source": [
    "fst_paragraph = Paragraph([\n",
    "    \"Mrs. Staleyborn's first husband was a dreamy Fellow of a Learned\", \n",
    "    'University.']),\n",
    "snd_paragraph = Paragraph([\n",
    "    'Her second husband had begun life at the bottom of the ladder as a', \n",
    "    'three-card trickster, and by strict attention to business and the', \n",
    "    'exercise of his natural genius, had attained to the proprietorship of a', \n",
    "    'bucket-shop.'])\n",
    "snd_paragraph.read()"
   ]
  },
  {
   "cell_type": "markdown",
   "metadata": {
    "slideshow": {
     "slide_type": "slide"
    }
   },
   "source": [
    "## Modifying Attribute Values\n",
    "\n",
    "You can change an attribute’s value in three ways: \n",
    "\n",
    "  * you can change the value directly through an instance, \n",
    "  * set the value through a method, \n",
    "  * or increment the value (add a certain amount to it) through a method. \n",
    " \n",
    "Let’s look at each of these approaches.\n",
    "\n",
    "### Modifying an Attribute’s Value Directly\n",
    "\n",
    "The simplest way to modify the value of an attribute is to access the attribute directly through an instance. Here we set the `reading_position` to `3` directly."
   ]
  },
  {
   "cell_type": "code",
   "execution_count": 23,
   "metadata": {
    "slideshow": {
     "slide_type": "slide"
    }
   },
   "outputs": [
    {
     "data": {
      "text/plain": "3"
     },
     "execution_count": 23,
     "metadata": {},
     "output_type": "execute_result"
    }
   ],
   "source": [
    "snd_paragraph.reading_position = 3\n",
    "snd_paragraph.get_reading_position()"
   ]
  },
  {
   "cell_type": "markdown",
   "metadata": {
    "slideshow": {
     "slide_type": "slide"
    }
   },
   "source": [
    "### Modifying an Attribute’s Value Through a Method\n",
    "\n",
    "It can be helpful to have methods that update certain attributes for you. Instead of accessing the attribute directly, you pass the new value to a method that handles the updating internally.\n",
    "\n",
    "We can extend the method `update_reading_position(self, new_position)` to do additional work every time the reading position is modified. Let’s add a little logic to make sure no one tries to set the reading position beyond a paragraph's limit."
   ]
  },
  {
   "cell_type": "code",
   "execution_count": 24,
   "metadata": {
    "slideshow": {
     "slide_type": "slide"
    }
   },
   "outputs": [],
   "source": [
    "class Paragraph():\n",
    "    \"\"\"A paragraph consists of a list of lines.\"\"\"\n",
    "\n",
    "    def __init__(self, lines):\n",
    "        \"\"\"Initialize name and age attributes.\"\"\"\n",
    "        self.lines = lines\n",
    "        self.reading_position = 0\n",
    "        \n",
    "    def read(self):\n",
    "        \"\"\"Simulate reading a paragraph by printing its contents.\"\"\" \n",
    "        # for line in self.lines:\n",
    "        #     print(line)\n",
    "        print(self.lines[self.reading_position])\n",
    "\n",
    "    def get_reading_position(self):\n",
    "        return self.reading_position\n",
    "    \n",
    "    def update_reading_position(self, new_position):\n",
    "        if new_position <= len(self.lines) - 1:\n",
    "            self.reading_position = new_position\n",
    "    \n",
    "    \n",
    "snd_paragraph = Paragraph([\n",
    "    'Her second husband had begun life at the bottom of the ladder as a', \n",
    "    'three-card trickster, and by strict attention to business and the', \n",
    "    'exercise of his natural genius, had attained to the proprietorship of a', \n",
    "    'bucket-shop.'])"
   ]
  },
  {
   "cell_type": "code",
   "execution_count": 25,
   "metadata": {
    "slideshow": {
     "slide_type": "slide"
    }
   },
   "outputs": [
    {
     "name": "stdout",
     "output_type": "stream",
     "text": [
      "0\n",
      "3\n",
      "bucket-shop.\n"
     ]
    }
   ],
   "source": [
    "print(snd_paragraph.get_reading_position())\n",
    "\n",
    "snd_paragraph.update_reading_position(3)\n",
    "\n",
    "print(snd_paragraph.get_reading_position())\n",
    "\n",
    "snd_paragraph.read()"
   ]
  },
  {
   "cell_type": "markdown",
   "metadata": {
    "slideshow": {
     "slide_type": "slide"
    }
   },
   "source": [
    "### Incrementing an Attribute’s Value Through a Method\n",
    "\n",
    "Sometimes you may want to increment an attribute’s value by a certain amount rather than set an entirely new value. Say we want to scroll through a paragraph, where a method allows us to pass to incrementally modify the reading position."
   ]
  },
  {
   "cell_type": "code",
   "execution_count": 26,
   "metadata": {
    "slideshow": {
     "slide_type": "slide"
    }
   },
   "outputs": [],
   "source": [
    "class Paragraph():\n",
    "    \"\"\"A paragraph consists of a list of lines.\"\"\"\n",
    "\n",
    "    def __init__(self, lines):\n",
    "        \"\"\"Initialize name and age attributes.\"\"\"\n",
    "        self.lines = lines\n",
    "        self.reading_position = 0\n",
    "        \n",
    "    def read(self):\n",
    "        \"\"\"Simulate reading a paragraph by printing its contents.\"\"\" \n",
    "        # for line in self.lines:\n",
    "        #     print(line)\n",
    "        print(self.lines[self.reading_position])\n",
    "\n",
    "    def get_reading_position(self):\n",
    "        return self.reading_position\n",
    "    \n",
    "    def update_reading_position(self, new_position):\n",
    "        if new_position <= len(self.lines) - 1:\n",
    "            self.reading_position = new_position\n",
    "            \n",
    "    def scroll_down(self):\n",
    "        if self.reading_position < len(self.lines) - 1:\n",
    "            self.reading_position += 1\n",
    "        else:\n",
    "            self.reading_position = 0\n",
    "            \n",
    "    def scroll_up(self):\n",
    "        if self.reading_position >= 1:\n",
    "            self.reading_position -= 1\n",
    "        else:\n",
    "            self.reading_position = len(self.lines) - 1\n",
    "    \n",
    "snd_paragraph = Paragraph([\n",
    "    'Her second husband had begun life at the bottom of the ladder as a', \n",
    "    'three-card trickster, and by strict attention to business and the', \n",
    "    'exercise of his natural genius, had attained to the proprietorship of a', \n",
    "    'bucket-shop.'])"
   ]
  },
  {
   "cell_type": "code",
   "execution_count": 27,
   "metadata": {
    "slideshow": {
     "slide_type": "slide"
    }
   },
   "outputs": [
    {
     "name": "stdout",
     "output_type": "stream",
     "text": [
      "Her second husband had begun life at the bottom of the ladder as a\n",
      "three-card trickster, and by strict attention to business and the\n",
      "exercise of his natural genius, had attained to the proprietorship of a\n",
      "bucket-shop.\n",
      "Her second husband had begun life at the bottom of the ladder as a\n"
     ]
    }
   ],
   "source": [
    "snd_paragraph.read()\n",
    "\n",
    "snd_paragraph.scroll_down()\n",
    "snd_paragraph.read()\n",
    "\n",
    "snd_paragraph.scroll_down()\n",
    "snd_paragraph.read()\n",
    "\n",
    "snd_paragraph.scroll_down()\n",
    "snd_paragraph.read()\n",
    "\n",
    "snd_paragraph.scroll_down()\n",
    "snd_paragraph.read()"
   ]
  },
  {
   "cell_type": "code",
   "execution_count": 28,
   "metadata": {
    "slideshow": {
     "slide_type": "slide"
    }
   },
   "outputs": [
    {
     "name": "stdout",
     "output_type": "stream",
     "text": [
      "Her second husband had begun life at the bottom of the ladder as a\n",
      "bucket-shop.\n",
      "exercise of his natural genius, had attained to the proprietorship of a\n",
      "three-card trickster, and by strict attention to business and the\n"
     ]
    }
   ],
   "source": [
    "snd_paragraph.read()\n",
    "\n",
    "snd_paragraph.scroll_up()\n",
    "snd_paragraph.read()\n",
    "\n",
    "snd_paragraph.scroll_up()\n",
    "snd_paragraph.read()\n",
    "\n",
    "snd_paragraph.scroll_up()\n",
    "snd_paragraph.read()"
   ]
  },
  {
   "cell_type": "markdown",
   "metadata": {
    "slideshow": {
     "slide_type": "slide"
    }
   },
   "source": [
    "### Private Attributes???\n",
    "\n",
    "You can use methods as shown above to control how users of your program update values, such as the reading position, but anyone with access to the program can set any attribute to any value by accessing it directly.\n",
    "\n",
    "In Python, there is no concept of private fields. That is, the interpreter will not stop you from modifying whatever you are 'touching'.\n",
    "\n",
    "A good practice is to *mark* your attributes and methodss as private by a leading underscore. However, this is only a visual marker for others using your code that you do not intend them to access the corresponding fields."
   ]
  },
  {
   "cell_type": "code",
   "execution_count": 29,
   "metadata": {
    "slideshow": {
     "slide_type": "slide"
    }
   },
   "outputs": [],
   "source": [
    "class Paragraph():\n",
    "    \"\"\"A paragraph consists of a list of lines.\"\"\"\n",
    "\n",
    "    def __init__(self, lines):\n",
    "        \"\"\"Initialize name and age attributes.\"\"\"\n",
    "        self.lines = lines\n",
    "        self._reading_position = 0\n",
    "        \n",
    "    def read(self):\n",
    "        \"\"\"Simulate reading a paragraph by printing its contents.\"\"\" \n",
    "        print(self.lines[self._reading_position])\n",
    "\n",
    "    def get_reading_position(self):\n",
    "        return self._reading_position\n",
    "    \n",
    "    def _update_reading_position(self, new_position):\n",
    "        if new_position <= len(self.lines) - 1:\n",
    "            self._reading_position = new_position\n",
    "            \n",
    "    def scroll_down(self):\n",
    "        if self._reading_position < len(self.lines) - 1:\n",
    "            self._reading_position += 1\n",
    "        else:\n",
    "            self._reading_position = 0\n",
    "            \n",
    "    def scroll_up(self):\n",
    "        if self._reading_position >= 1:\n",
    "            self._reading_position -= 1\n",
    "        else:\n",
    "            self._reading_position = len(self.lines) - 1\n",
    "    \n",
    "snd_paragraph = Paragraph([\n",
    "    'Her second husband had begun life at the bottom of the ladder as a', \n",
    "    'three-card trickster, and by strict attention to business and the', \n",
    "    'exercise of his natural genius, had attained to the proprietorship of a', \n",
    "    'bucket-shop.'])"
   ]
  },
  {
   "cell_type": "code",
   "execution_count": 30,
   "metadata": {
    "slideshow": {
     "slide_type": "slide"
    }
   },
   "outputs": [
    {
     "name": "stdout",
     "output_type": "stream",
     "text": [
      "0\n",
      "0\n",
      "3\n",
      "bucket-shop.\n"
     ]
    }
   ],
   "source": [
    "# This is now discouraged!\n",
    "print(snd_paragraph._reading_position)\n",
    "\n",
    "# Better use the 'public' methods\n",
    "print(snd_paragraph.get_reading_position())\n",
    "\n",
    "# discouraged too, but possible\n",
    "snd_paragraph._update_reading_position(3)\n",
    "\n",
    "print(snd_paragraph.get_reading_position())\n",
    "\n",
    "snd_paragraph.read()"
   ]
  },
  {
   "cell_type": "markdown",
   "metadata": {},
   "source": [
    "## Property\n",
    "Python @property decorator; a pythonic way to use getters and setters in object-oriented programming.  \n",
    "@property decorator which makes usage of getter and setters much easier in Object-Oriented Programming.  \n",
    "[Read more about it here](https://www.programiz.com/python-programming/property)  \n",
    "\n",
    "The @property annotation makes it easy to private fields with setters and getters  \n",
    "The build-in python method: `property(fget=None, fset=None, fdel=None, doc=None)` creates a new property where\n",
    "- fget is function to get value of the attribute\n",
    "- fset is function to set value of the attribute\n",
    "- fdel is function to delete the attribute\n",
    "- doc is a string (like a comment)\n"
   ]
  },
  {
   "cell_type": "code",
   "execution_count": 31,
   "metadata": {},
   "outputs": [
    {
     "name": "stdout",
     "output_type": "stream",
     "text": [
      "Getting value...\n",
      "37\n",
      "98.60000000000001\n"
     ]
    }
   ],
   "source": [
    "class Celsius:\n",
    "    def __init__(self, temperature=0):\n",
    "        self._temperature = temperature # the setter method is called\n",
    "\n",
    "    def to_fahrenheit(self):\n",
    "        return (self._temperature * 1.8) + 32\n",
    "\n",
    "    @property\n",
    "    def temperature(self):\n",
    "        print(\"Getting value...\")\n",
    "        return self._temperature\n",
    "\n",
    "    @temperature.setter\n",
    "    def temperature(self, value):\n",
    "        print(\"Setting value...\")\n",
    "        if value < -273.15:\n",
    "            raise ValueError(\"Temperature below -273 is not possible\")\n",
    "        self._temperature = value\n",
    "\n",
    "\n",
    "# create an object\n",
    "human = Celsius(37)\n",
    "\n",
    "print(human.temperature)\n",
    "\n",
    "print(human.to_fahrenheit())\n",
    "\n",
    "try:\n",
    "    coldest_thing = Celsius(-300) # throws ValueError\n",
    "except ValueError as ve:\n",
    "    print(type(ve),ve)"
   ]
  },
  {
   "cell_type": "code",
   "execution_count": 32,
   "metadata": {},
   "outputs": [
    {
     "name": "stdout",
     "output_type": "stream",
     "text": [
      "can't set attribute the property needs a setter method\n"
     ]
    }
   ],
   "source": [
    "class Book():\n",
    "    \n",
    "    def __init__(self, title=None, author=None, chapters=[]):\n",
    "        \"\"\"Initialize title, the author, and the chapters.\"\"\"\n",
    "        self.title = title # will cause an Atrribute error \n",
    "        self.author = author\n",
    "        self.chapters = chapters        \n",
    "    \n",
    "    @property\n",
    "    def title(self):\n",
    "        print('I am returning the title')\n",
    "        if title:\n",
    "            return self._title\n",
    "        else:\n",
    "            raise Exception('No title was set yet')\n",
    "\n",
    "try:\n",
    "    b = Book()\n",
    "except AttributeError as ae:\n",
    "    print(ae, 'the property needs a setter method')"
   ]
  },
  {
   "cell_type": "markdown",
   "metadata": {},
   "source": [
    "## Static and Class methods\n",
    "https://www.geeksforgeeks.org/class-method-vs-static-method-python/\n",
    "2 other annotations are:\n",
    "1. `@classmethod` can be envoked both on the class and on an object of the class. It can alter the state of the class and thereby effect all instances of the class. Only a class method can alter the state of a class variable\n",
    "2. `@staticmethod` can be envoked both on the class and on an object of the class but CANNOT alter the state of the object."
   ]
  },
  {
   "cell_type": "code",
   "execution_count": 33,
   "metadata": {},
   "outputs": [
    {
     "name": "stdout",
     "output_type": "stream",
     "text": [
      "1\n",
      "before 1\n",
      "11\n",
      "before 13\n",
      "Object has id: 13 and name Petersen\n",
      "Object has id: 14 and name Pallesen\n",
      "Object has id: 202 and name Pil\n"
     ]
    }
   ],
   "source": [
    "class My_class:\n",
    "    \"\"\"Show example of a class method\"\"\"\n",
    "    my_class_variable = 1; # a class variable\n",
    "    \n",
    "    def __init__(self, id, name):\n",
    "        \"start new objects with a instance variable id\"\n",
    "        self.id = self.my_class_variable + 1\n",
    "        self.name = name\n",
    "    \n",
    "    @classmethod\n",
    "    def change_class_variable(the_class, new_value): # first argument is a reference to the class itself\n",
    "        \"\"\"Shows the use of a classmethod even though it is mostly used for factory method to produce objects of particular state\"\"\"\n",
    "        print('before',the_class.my_class_variable)\n",
    "        the_class.my_class_variable = new_value\n",
    "    \n",
    "    @classmethod # factory method\n",
    "    def create_obj(cls, name):\n",
    "        cls.my_class_variable = cls.my_class_variable + 1\n",
    "        return cls(cls.my_class_variable, name)\n",
    "    \n",
    "    def __str__(self):\n",
    "        return f'Object has id: {self.id} and name {self.name}'\n",
    "    \n",
    "\n",
    "print(My_class.my_class_variable)\n",
    "My_class.change_class_variable(11)\n",
    "print(My_class.my_class_variable)\n",
    "\n",
    "# create an object\n",
    "my_obj1 = My_class.create_obj('Petersen')\n",
    "my_obj2 = My_class.create_obj('Pallesen')\n",
    "My_class.change_class_variable(200)\n",
    "my_obj3 = My_class.create_obj('Pil')\n",
    "\n",
    "print(my_obj1)\n",
    "print(my_obj2)\n",
    "print(my_obj3)"
   ]
  },
  {
   "cell_type": "markdown",
   "metadata": {},
   "source": [
    "## Static methods\n",
    "We generally use static methods to create utility functions. No state can be manipulated."
   ]
  },
  {
   "cell_type": "code",
   "execution_count": 34,
   "metadata": {},
   "outputs": [
    {
     "name": "stdout",
     "output_type": "stream",
     "text": [
      "Product: 125\n",
      "25\n"
     ]
    }
   ],
   "source": [
    "class Calculator:\n",
    "    \"\"\"Show example of a static method\"\"\"\n",
    "\n",
    "    # create addNumbers static method. Static method has no reference to the class itself\n",
    "    @staticmethod\n",
    "    def addNumbers(x, y):\n",
    "        return x + y\n",
    "\n",
    "print('Product:', Calculator.addNumbers(15, 110))\n",
    "print(Calculator().addNumbers(12,13))"
   ]
  },
  {
   "cell_type": "markdown",
   "metadata": {
    "slideshow": {
     "slide_type": "slide"
    }
   },
   "source": [
    "# Inheritance\n",
    "\n",
    "You do not always have to start from scratch when writing a class. If the class you are writing is a specialized version of another -readily available- class, you can use inheritance to implement your extensions. \n",
    "\n",
    "When one class inherits from another, it automatically takes on all the attributes and methods of the first class. The original class is called the *parent class*, and the new class is the *child class*. The child class inherits every attribute and method from its parent class but is also free to define new attributes and methods of its own.\n",
    "\n",
    "\n",
    "## The __init__() Method for a Child Class\n",
    "\n",
    "The first task Python has when creating an instance from a child class is to assign values to all attributes in the parent class. To do this, the `__init__()` method for a child class needs help from its parent class.\n",
    "\n",
    "As an example, let’s model a comic book. A comic book is just a specific kind of book, with less text and more images :). Consequently, we can base our new `ComicBook` class on the `Book` class we wrote earlier. Then we’ll only have to write code for the attributes and behavior specific to comic books.\n",
    "\n",
    "When you create a child class, the parent class **must be part of the current file and must appear before the child class in the file**. The name of the parent class must be included in parentheses in the definition of the child class. The `__init__()` method takes the information required to make a `ComicBook` instance.\n",
    "\n",
    "The `super()` function is a special function that helps Python make connections between the parent and child class. It tells Python to call the `__init__()` method from `ComicBook`’s parent class, which gives a `ComicBook` instance all the attributes of its parent class. The name super comes from a convention of calling the parent class a **superclass** and the child class a **subclass**."
   ]
  },
  {
   "cell_type": "code",
   "execution_count": 35,
   "metadata": {
    "slideshow": {
     "slide_type": "slide"
    }
   },
   "outputs": [],
   "source": [
    "class Book():\n",
    "    \"\"\"A simple book model consisting of chapters, which in \n",
    "    turn consist of paragraphs.\"\"\"\n",
    "\n",
    "    def __init__(self, title, author, chapters=[]):\n",
    "        \"\"\"Initialize title, the author, and the chapters.\"\"\"\n",
    "        self.title = title \n",
    "        self.author = author\n",
    "        self.chapters = chapters        \n",
    "    \n",
    "    def __repr__(self):\n",
    "        return 'Book(%r, %r, %r)' % (self.title, self.author, \n",
    "                                     self.chapters)\n",
    "    \n",
    "    def __str__(self):\n",
    "        return '{name} by {by} has {nr_chap} chapters.'.format(\n",
    "            name=self.title, by=self.author, nr_chap=len(self.chapters))\n",
    "    \n",
    "    \n",
    "    def read(self, chapter=1):\n",
    "        \"\"\"Simulate reading a chapter, by calling the reading \n",
    "        method of a chapter.\"\"\" \n",
    "        self.chapters[chapter - 1].read()\n",
    "        \n",
    "    def open_book(self, chapter=1):\n",
    "        \"\"\"Simulate opening a book, which returns a chapter \n",
    "        object.\"\"\" \n",
    "        return self.chapters[chapter - 1]\n",
    "    \n",
    "    \n",
    "class ComicBook(Book):\n",
    "    def __init__(self, title, author, illustrator, chapters=[]):\n",
    "        \"\"\"Initialize attributes of the parent class.\"\"\"\n",
    "        super().__init__(title, author, chapters=chapters)\n",
    "        self.illustrator = illustrator\n",
    "        # add comicbook specific fields"
   ]
  },
  {
   "cell_type": "code",
   "execution_count": 36,
   "metadata": {
    "slideshow": {
     "slide_type": "slide"
    }
   },
   "outputs": [
    {
     "data": {
      "text/plain": "'Le Grand Mort'"
     },
     "execution_count": 36,
     "metadata": {},
     "output_type": "execute_result"
    }
   ],
   "source": [
    "comic = ComicBook('Le Grand Mort', 'Ivan','Loisel')\n",
    "comic.title"
   ]
  },
  {
   "cell_type": "markdown",
   "metadata": {
    "slideshow": {
     "slide_type": "slide"
    }
   },
   "source": [
    "## Defining Attributes and Methods for the Child Class\n",
    "\n",
    "Once you have a child class that inherits from a parent class, you can add any new attributes and methods necessary to differentiate the child class from the parent class.\n",
    "\n",
    "Let’s add an attribute that is specific to comic books, such as, images, and a method to report on this attribute."
   ]
  },
  {
   "cell_type": "code",
   "execution_count": 37,
   "metadata": {
    "slideshow": {
     "slide_type": "slide"
    }
   },
   "outputs": [],
   "source": [
    "class ComicBook(Book):\n",
    "    def __init__(self, title, author, chapters=[]):\n",
    "        \"\"\"Initialize attributes of the parent class.\"\"\"\n",
    "        super().__init__(title, author, chapters=chapters)\n",
    "        self._images = []\n",
    "        \n",
    "    def get_images(self):\n",
    "        return self._images"
   ]
  },
  {
   "cell_type": "markdown",
   "metadata": {
    "slideshow": {
     "slide_type": "slide"
    }
   },
   "source": [
    "There is no limit to how much you can specialize the `ComicBook` class. You can add as many attributes and methods as you need to model acomic book to whatever degree of accuracy you need. An attribute or method that could belong to any book, rather than one that is specific to a comic book, should be added to the `Book` class instead of the `ComicBook` class. Then anyone who uses the `Book` class will have that functionality available as well, and the `ComicBook` class will only contain code for the information and behavior specific to comic books.\n",
    "\n",
    "## Overriding Methods from the Parent Class\n",
    "\n",
    "You can override any method from the parent class that does not fit what you are trying to model with the child class. To do this, you define a method in the child class with **the same name as the method you want to override in the parent class**. Python will disregard the parent class method and only pay attention to the method you define in the child class.\n",
    "\n",
    "In the above example, we have to override the method `__repr__` to get the correct representation of a comic book.\n",
    "\n",
    "Now if someone inspects or tries to call `__repr__()` with on a comic book, Python will ignore the method `__repr__()` in `Book` and run this code instead. When you use inheritance, you can make your child classes retain what you need and override anything you do not need from the parent class."
   ]
  },
  {
   "cell_type": "code",
   "execution_count": 38,
   "metadata": {
    "slideshow": {
     "slide_type": "slide"
    }
   },
   "outputs": [
    {
     "data": {
      "text/plain": "Book('Le Grand Mort', 'Loisel', [])"
     },
     "execution_count": 38,
     "metadata": {},
     "output_type": "execute_result"
    }
   ],
   "source": [
    "comic = ComicBook('Le Grand Mort', 'Loisel')\n",
    "comic"
   ]
  },
  {
   "cell_type": "code",
   "execution_count": 39,
   "metadata": {
    "slideshow": {
     "slide_type": "slide"
    }
   },
   "outputs": [],
   "source": [
    "class ComicBook(Book):\n",
    "    def __init__(self, title, author, chapters=[]):\n",
    "        \"\"\"Initialize attributes of the parent class.\"\"\"\n",
    "        super().__init__(title, author, chapters=chapters)\n",
    "        self.images = []\n",
    "        \n",
    "    def get_images(self):\n",
    "        return self.images\n",
    "    \n",
    "    def __repr__(self):\n",
    "        return 'ComicBook(%r, %r, %r)' % (self.title, self.author, \n",
    "                                     self.chapters)"
   ]
  },
  {
   "cell_type": "code",
   "execution_count": 40,
   "metadata": {
    "slideshow": {
     "slide_type": "slide"
    }
   },
   "outputs": [
    {
     "data": {
      "text/plain": "ComicBook('Le Grand Mort', 'Loisel', [])"
     },
     "execution_count": 40,
     "metadata": {},
     "output_type": "execute_result"
    }
   ],
   "source": [
    "comic = ComicBook('Le Grand Mort', 'Loisel')\n",
    "comic"
   ]
  },
  {
   "cell_type": "markdown",
   "metadata": {
    "slideshow": {
     "slide_type": "slide"
    }
   },
   "source": [
    "## Checking *instance of* Relationships\n",
    "\n",
    "Sometimes, during development, you would like to know of which class a certain variable is instance of. You can do so with the built-in method `isinstance()` as illustrated in the following. However, usually you will not need this function in your programs as Python supports *duck-typing*. "
   ]
  },
  {
   "cell_type": "code",
   "execution_count": 41,
   "metadata": {
    "slideshow": {
     "slide_type": "slide"
    }
   },
   "outputs": [
    {
     "data": {
      "text/plain": "True"
     },
     "execution_count": 41,
     "metadata": {},
     "output_type": "execute_result"
    }
   ],
   "source": [
    "isinstance(ComicBook('Le Grand Mort', 'Ivan','Loisel'), ComicBook)"
   ]
  },
  {
   "cell_type": "code",
   "execution_count": 42,
   "metadata": {
    "slideshow": {
     "slide_type": "slide"
    }
   },
   "outputs": [
    {
     "data": {
      "text/plain": "True"
     },
     "execution_count": 42,
     "metadata": {},
     "output_type": "execute_result"
    }
   ],
   "source": [
    "isinstance(ComicBook('Le Grand Mort','Ivan', 'Loisel'), Book)"
   ]
  },
  {
   "cell_type": "markdown",
   "metadata": {},
   "source": [
    "## Inheritance vs Composition\n",
    "[Read up on your own here](https://realpython.com/inheritance-composition-python/)"
   ]
  },
  {
   "cell_type": "markdown",
   "metadata": {
    "slideshow": {
     "slide_type": "slide"
    }
   },
   "source": [
    "# Importing Classes\n",
    "\n",
    "As you add more functionality to your classes, your files can get long, even when you use inheritance properly. In keeping with the overall philosophy of Python, you will want to keep your files as uncluttered as possible. To help, Python lets you store classes in modules and then import the classes you need into your main program.\n",
    "\n",
    "You can store as many classes as you need in a single module, although each class in a module should be related somehow.\n",
    "\n",
    "## Importing a Single Class or Multiple Classes\n",
    "\n",
    "We include a module-level docstring that briefly describes the contents of this module. You should write a docstring for each module you create.\n",
    "\n",
    "Now we make a separate file called `book.py`. From this file will import the `Book` class and then create an instance from that class.\n",
    "\n",
    "You can import as many classes as you need into a program file. If we want to make a regular car and an electric car in the same file, we need to import both classes, Car and ElectricCar\n",
    "\n",
    "\n"
   ]
  },
  {
   "cell_type": "code",
   "execution_count": 43,
   "metadata": {
    "slideshow": {
     "slide_type": "slide"
    }
   },
   "outputs": [],
   "source": [
    "%load_ext autoreload\n",
    "# reloads modules automatically before entering the execution of code typed at the IPython prompt"
   ]
  },
  {
   "cell_type": "code",
   "execution_count": 44,
   "metadata": {
    "slideshow": {
     "slide_type": "slide"
    }
   },
   "outputs": [],
   "source": [
    "#%autoreload 2 # %autoreload 2 - Reload all modules (except those excluded by %aimport) every time before executing the Python code typed.\n",
    "\n",
    "from modules.book import Book, Chapter\n"
   ]
  },
  {
   "cell_type": "code",
   "execution_count": 45,
   "metadata": {
    "slideshow": {
     "slide_type": "slide"
    }
   },
   "outputs": [],
   "source": [
    "Book?"
   ]
  },
  {
   "cell_type": "code",
   "execution_count": 46,
   "metadata": {
    "slideshow": {
     "slide_type": "slide"
    }
   },
   "outputs": [
    {
     "data": {
      "text/plain": "Book('Bones in London', 'Edgar Wallace', [Chapter(1, 'Bones and Big Business', [<modules.book.Paragraph object at 0x1100d8f40>, <modules.book.Paragraph object at 0x1100d8bb0>, <modules.book.Paragraph object at 0x1100d8730>, <modules.book.Paragraph object at 0x1100d8a00>, <modules.book.Paragraph object at 0x1100d8ca0>, <modules.book.Paragraph object at 0x1100d8c10>, <modules.book.Paragraph object at 0x1100d89a0>, <modules.book.Paragraph object at 0x110025100>, <modules.book.Paragraph object at 0x1100259d0>, <modules.book.Paragraph object at 0x1100259a0>, <modules.book.Paragraph object at 0x110025df0>, <modules.book.Paragraph object at 0x110025670>, <modules.book.Paragraph object at 0x110025730>, <modules.book.Paragraph object at 0x110025d30>, <modules.book.Paragraph object at 0x110025130>, <modules.book.Paragraph object at 0x110025850>, <modules.book.Paragraph object at 0x110025d00>, <modules.book.Paragraph object at 0x110025520>, <modules.book.Paragraph object at 0x110025910>, <modules.book.Paragraph object at 0x1100255e0>, <modules.book.Paragraph object at 0x1100a3940>, <modules.book.Paragraph object at 0x1100a3b80>, <modules.book.Paragraph object at 0x1100a3250>, <modules.book.Paragraph object at 0x1100a33a0>, <modules.book.Paragraph object at 0x1100a3a60>, <modules.book.Paragraph object at 0x1100a3c40>, <modules.book.Paragraph object at 0x1100a38e0>, <modules.book.Paragraph object at 0x1100a32e0>, <modules.book.Paragraph object at 0x1100a32b0>, <modules.book.Paragraph object at 0x1100a3fa0>, <modules.book.Paragraph object at 0x1100a37c0>, <modules.book.Paragraph object at 0x1100a3820>, <modules.book.Paragraph object at 0x1100a3fd0>, <modules.book.Paragraph object at 0x1100a3880>, <modules.book.Paragraph object at 0x1100a36a0>, <modules.book.Paragraph object at 0x1100a3730>, <modules.book.Paragraph object at 0x1100a37f0>, <modules.book.Paragraph object at 0x1100a39d0>, <modules.book.Paragraph object at 0x1100a3df0>, <modules.book.Paragraph object at 0x1100a3670>, <modules.book.Paragraph object at 0x1100a3bb0>, <modules.book.Paragraph object at 0x1100a3280>, <modules.book.Paragraph object at 0x1100d7880>, <modules.book.Paragraph object at 0x1100d7c40>, <modules.book.Paragraph object at 0x1100d7fa0>, <modules.book.Paragraph object at 0x1100d7610>, <modules.book.Paragraph object at 0x1100954c0>, <modules.book.Paragraph object at 0x110095f40>, <modules.book.Paragraph object at 0x110095b80>, <modules.book.Paragraph object at 0x110095250>, <modules.book.Paragraph object at 0x110095460>, <modules.book.Paragraph object at 0x110095dc0>, <modules.book.Paragraph object at 0x110095e50>, <modules.book.Paragraph object at 0x110095c10>, <modules.book.Paragraph object at 0x110095940>, <modules.book.Paragraph object at 0x110095730>, <modules.book.Paragraph object at 0x110095670>, <modules.book.Paragraph object at 0x110095610>, <modules.book.Paragraph object at 0x110095f10>, <modules.book.Paragraph object at 0x110095c40>, <modules.book.Paragraph object at 0x110095a30>, <modules.book.Paragraph object at 0x110095640>, <modules.book.Paragraph object at 0x110095fa0>, <modules.book.Paragraph object at 0x110095190>, <modules.book.Paragraph object at 0x110095760>, <modules.book.Paragraph object at 0x1100956a0>, <modules.book.Paragraph object at 0x110095850>, <modules.book.Paragraph object at 0x1100b1310>, <modules.book.Paragraph object at 0x1100b1be0>, <modules.book.Paragraph object at 0x1100b1760>, <modules.book.Paragraph object at 0x1100b1580>, <modules.book.Paragraph object at 0x1100b1670>, <modules.book.Paragraph object at 0x1100b19d0>, <modules.book.Paragraph object at 0x1100b1550>, <modules.book.Paragraph object at 0x1100b1d90>, <modules.book.Paragraph object at 0x1100b1ca0>, <modules.book.Paragraph object at 0x1100b1f40>, <modules.book.Paragraph object at 0x1100b1f70>, <modules.book.Paragraph object at 0x1100b1bb0>, <modules.book.Paragraph object at 0x1100b1df0>, <modules.book.Paragraph object at 0x1100b1e20>, <modules.book.Paragraph object at 0x1100b17f0>, <modules.book.Paragraph object at 0x1100b11f0>, <modules.book.Paragraph object at 0x1100b1910>, <modules.book.Paragraph object at 0x1100b1220>, <modules.book.Paragraph object at 0x1100b1340>, <modules.book.Paragraph object at 0x1100b1280>, <modules.book.Paragraph object at 0x1100b1a00>, <modules.book.Paragraph object at 0x1100b10a0>, <modules.book.Paragraph object at 0x1100b1eb0>, <modules.book.Paragraph object at 0x1100b1f10>, <modules.book.Paragraph object at 0x1100b1d30>, <modules.book.Paragraph object at 0x1100b1100>, <modules.book.Paragraph object at 0x1100b1160>, <modules.book.Paragraph object at 0x1100b1b50>, <modules.book.Paragraph object at 0x1100b1d00>, <modules.book.Paragraph object at 0x1100b14c0>, <modules.book.Paragraph object at 0x1100b1370>, <modules.book.Paragraph object at 0x1100b14f0>, <modules.book.Paragraph object at 0x1100b1880>, <modules.book.Paragraph object at 0x1100b1850>, <modules.book.Paragraph object at 0x1100b1ac0>, <modules.book.Paragraph object at 0x1100b1a30>, <modules.book.Paragraph object at 0x1100b1730>, <modules.book.Paragraph object at 0x1100b18e0>, <modules.book.Paragraph object at 0x1100b1040>, <modules.book.Paragraph object at 0x1100b1790>, <modules.book.Paragraph object at 0x1100f3490>, <modules.book.Paragraph object at 0x1100f3c70>, <modules.book.Paragraph object at 0x1100f3be0>, <modules.book.Paragraph object at 0x1100f3f10>, <modules.book.Paragraph object at 0x1100f32e0>, <modules.book.Paragraph object at 0x1100f33d0>, <modules.book.Paragraph object at 0x1100f3220>, <modules.book.Paragraph object at 0x1100f3130>, <modules.book.Paragraph object at 0x1100f30d0>, <modules.book.Paragraph object at 0x1100f3280>, <modules.book.Paragraph object at 0x1100f3460>, <modules.book.Paragraph object at 0x1100f3f40>, <modules.book.Paragraph object at 0x1100f3040>, <modules.book.Paragraph object at 0x1100f3f70>, <modules.book.Paragraph object at 0x1100f3df0>, <modules.book.Paragraph object at 0x1100f3d90>, <modules.book.Paragraph object at 0x1100f3dc0>, <modules.book.Paragraph object at 0x1100f3cd0>, <modules.book.Paragraph object at 0x1100f3e80>, <modules.book.Paragraph object at 0x1100f3fd0>, <modules.book.Paragraph object at 0x1100f3d30>, <modules.book.Paragraph object at 0x1100f3a90>, <modules.book.Paragraph object at 0x1100a10a0>, <modules.book.Paragraph object at 0x1100a1940>, <modules.book.Paragraph object at 0x1100a1cd0>, <modules.book.Paragraph object at 0x1100a1be0>, <modules.book.Paragraph object at 0x1100a1eb0>, <modules.book.Paragraph object at 0x1100a1df0>, <modules.book.Paragraph object at 0x1100a1490>, <modules.book.Paragraph object at 0x1100a11c0>, <modules.book.Paragraph object at 0x1100a1dc0>, <modules.book.Paragraph object at 0x1100a13d0>, <modules.book.Paragraph object at 0x1100a1e50>, <modules.book.Paragraph object at 0x1100a19a0>, <modules.book.Paragraph object at 0x1100a1c70>, <modules.book.Paragraph object at 0x1100a1070>, <modules.book.Paragraph object at 0x1100a1190>, <modules.book.Paragraph object at 0x1100a15b0>, <modules.book.Paragraph object at 0x1100a1f40>, <modules.book.Paragraph object at 0x1100a16a0>, <modules.book.Paragraph object at 0x1100a10d0>, <modules.book.Paragraph object at 0x1100a1fa0>, <modules.book.Paragraph object at 0x1100a1f10>, <modules.book.Paragraph object at 0x1100a1d90>, <modules.book.Paragraph object at 0x1100a1280>, <modules.book.Paragraph object at 0x1100a1fd0>, <modules.book.Paragraph object at 0x1100a1370>, <modules.book.Paragraph object at 0x1100a1100>, <modules.book.Paragraph object at 0x1100a1ee0>, <modules.book.Paragraph object at 0x107f108e0>, <modules.book.Paragraph object at 0x110326040>, <modules.book.Paragraph object at 0x1103260a0>, <modules.book.Paragraph object at 0x110326100>, <modules.book.Paragraph object at 0x110326160>, <modules.book.Paragraph object at 0x1103261c0>, <modules.book.Paragraph object at 0x110326220>, <modules.book.Paragraph object at 0x110326280>, <modules.book.Paragraph object at 0x1103262e0>, <modules.book.Paragraph object at 0x110326340>, <modules.book.Paragraph object at 0x1103263a0>, <modules.book.Paragraph object at 0x110326400>, <modules.book.Paragraph object at 0x110326460>, <modules.book.Paragraph object at 0x1103264c0>, <modules.book.Paragraph object at 0x110326520>, <modules.book.Paragraph object at 0x110326580>, <modules.book.Paragraph object at 0x1103265e0>, <modules.book.Paragraph object at 0x110326640>, <modules.book.Paragraph object at 0x1103266a0>, <modules.book.Paragraph object at 0x110326700>, <modules.book.Paragraph object at 0x110326760>, <modules.book.Paragraph object at 0x1103267c0>, <modules.book.Paragraph object at 0x110326820>, <modules.book.Paragraph object at 0x110326880>, <modules.book.Paragraph object at 0x1103268e0>, <modules.book.Paragraph object at 0x110326940>, <modules.book.Paragraph object at 0x1103269a0>, <modules.book.Paragraph object at 0x110326a00>, <modules.book.Paragraph object at 0x110326a60>]), Chapter(2, 'Hidden Treassure', [<modules.book.Paragraph object at 0x110326b20>, <modules.book.Paragraph object at 0x110326b80>, <modules.book.Paragraph object at 0x110326be0>, <modules.book.Paragraph object at 0x110326c40>, <modules.book.Paragraph object at 0x110326ca0>, <modules.book.Paragraph object at 0x110326d00>, <modules.book.Paragraph object at 0x110326d60>, <modules.book.Paragraph object at 0x110326dc0>, <modules.book.Paragraph object at 0x110326e20>, <modules.book.Paragraph object at 0x110326e80>, <modules.book.Paragraph object at 0x110326ee0>, <modules.book.Paragraph object at 0x110326f40>, <modules.book.Paragraph object at 0x110326fa0>, <modules.book.Paragraph object at 0x11030e040>, <modules.book.Paragraph object at 0x11030e0a0>, <modules.book.Paragraph object at 0x11030e100>, <modules.book.Paragraph object at 0x11030e160>, <modules.book.Paragraph object at 0x11030e1c0>, <modules.book.Paragraph object at 0x11030e220>, <modules.book.Paragraph object at 0x11030e280>, <modules.book.Paragraph object at 0x11030e2e0>, <modules.book.Paragraph object at 0x11030e340>, <modules.book.Paragraph object at 0x11030e3a0>, <modules.book.Paragraph object at 0x11030e400>, <modules.book.Paragraph object at 0x11030e460>, <modules.book.Paragraph object at 0x11030e4c0>, <modules.book.Paragraph object at 0x11030e520>, <modules.book.Paragraph object at 0x11030e580>, <modules.book.Paragraph object at 0x11030e5e0>, <modules.book.Paragraph object at 0x11030e640>, <modules.book.Paragraph object at 0x11030e6a0>, <modules.book.Paragraph object at 0x11030e700>, <modules.book.Paragraph object at 0x11030e760>, <modules.book.Paragraph object at 0x11030e7c0>, <modules.book.Paragraph object at 0x11030e820>, <modules.book.Paragraph object at 0x11030e880>, <modules.book.Paragraph object at 0x11030e8e0>, <modules.book.Paragraph object at 0x11030e940>, <modules.book.Paragraph object at 0x11030e9a0>, <modules.book.Paragraph object at 0x11030ea00>, <modules.book.Paragraph object at 0x11030ea60>, <modules.book.Paragraph object at 0x11030eac0>, <modules.book.Paragraph object at 0x11030eb20>, <modules.book.Paragraph object at 0x11030eb80>, <modules.book.Paragraph object at 0x11030ebe0>, <modules.book.Paragraph object at 0x11030ec40>, <modules.book.Paragraph object at 0x11030eca0>, <modules.book.Paragraph object at 0x11030ed00>, <modules.book.Paragraph object at 0x11030ed60>, <modules.book.Paragraph object at 0x11030edc0>, <modules.book.Paragraph object at 0x11030ee20>, <modules.book.Paragraph object at 0x11030ee80>, <modules.book.Paragraph object at 0x11030eee0>, <modules.book.Paragraph object at 0x11030ef40>, <modules.book.Paragraph object at 0x11030efa0>, <modules.book.Paragraph object at 0x110307040>, <modules.book.Paragraph object at 0x1103070a0>, <modules.book.Paragraph object at 0x110307100>, <modules.book.Paragraph object at 0x110307160>, <modules.book.Paragraph object at 0x1103071c0>, <modules.book.Paragraph object at 0x110307220>, <modules.book.Paragraph object at 0x110307280>, <modules.book.Paragraph object at 0x1103072e0>, <modules.book.Paragraph object at 0x110307340>, <modules.book.Paragraph object at 0x1103073a0>, <modules.book.Paragraph object at 0x110307400>, <modules.book.Paragraph object at 0x110307460>, <modules.book.Paragraph object at 0x1103074c0>, <modules.book.Paragraph object at 0x110307520>, <modules.book.Paragraph object at 0x110307580>, <modules.book.Paragraph object at 0x1103075e0>, <modules.book.Paragraph object at 0x110307640>, <modules.book.Paragraph object at 0x1103076a0>, <modules.book.Paragraph object at 0x110307700>, <modules.book.Paragraph object at 0x110307760>, <modules.book.Paragraph object at 0x1103077c0>, <modules.book.Paragraph object at 0x110307820>, <modules.book.Paragraph object at 0x110307880>, <modules.book.Paragraph object at 0x1103078e0>, <modules.book.Paragraph object at 0x110307940>, <modules.book.Paragraph object at 0x1103079a0>, <modules.book.Paragraph object at 0x110307a00>, <modules.book.Paragraph object at 0x110307a60>, <modules.book.Paragraph object at 0x110307ac0>, <modules.book.Paragraph object at 0x110307b20>, <modules.book.Paragraph object at 0x110307b80>, <modules.book.Paragraph object at 0x110307be0>, <modules.book.Paragraph object at 0x110307c40>, <modules.book.Paragraph object at 0x110307ca0>, <modules.book.Paragraph object at 0x110307d00>, <modules.book.Paragraph object at 0x110307d60>, <modules.book.Paragraph object at 0x110307dc0>, <modules.book.Paragraph object at 0x110307e20>, <modules.book.Paragraph object at 0x110307e80>, <modules.book.Paragraph object at 0x110307ee0>, <modules.book.Paragraph object at 0x110307f40>, <modules.book.Paragraph object at 0x110307fa0>, <modules.book.Paragraph object at 0x11030d040>, <modules.book.Paragraph object at 0x11030d0a0>, <modules.book.Paragraph object at 0x11030d100>, <modules.book.Paragraph object at 0x11030d160>, <modules.book.Paragraph object at 0x11030d1c0>, <modules.book.Paragraph object at 0x11030d220>, <modules.book.Paragraph object at 0x11030d280>, <modules.book.Paragraph object at 0x11030d2e0>, <modules.book.Paragraph object at 0x11030d340>, <modules.book.Paragraph object at 0x11030d3a0>, <modules.book.Paragraph object at 0x11030d400>, <modules.book.Paragraph object at 0x11030d460>, <modules.book.Paragraph object at 0x11030d4c0>, <modules.book.Paragraph object at 0x11030d520>, <modules.book.Paragraph object at 0x11030d580>, <modules.book.Paragraph object at 0x11030d5e0>, <modules.book.Paragraph object at 0x11030d640>, <modules.book.Paragraph object at 0x11030d6a0>, <modules.book.Paragraph object at 0x11030d700>, <modules.book.Paragraph object at 0x11030d760>, <modules.book.Paragraph object at 0x11030d7c0>, <modules.book.Paragraph object at 0x11030d820>, <modules.book.Paragraph object at 0x11030d880>, <modules.book.Paragraph object at 0x11030d8e0>, <modules.book.Paragraph object at 0x11030d940>, <modules.book.Paragraph object at 0x11030d9a0>, <modules.book.Paragraph object at 0x11030da00>, <modules.book.Paragraph object at 0x11030da60>, <modules.book.Paragraph object at 0x11030dac0>, <modules.book.Paragraph object at 0x11030db20>, <modules.book.Paragraph object at 0x11030db80>, <modules.book.Paragraph object at 0x11030dbe0>, <modules.book.Paragraph object at 0x11030dc40>, <modules.book.Paragraph object at 0x11030dca0>, <modules.book.Paragraph object at 0x11030dd00>, <modules.book.Paragraph object at 0x11030dd60>, <modules.book.Paragraph object at 0x11030ddc0>, <modules.book.Paragraph object at 0x11030de20>, <modules.book.Paragraph object at 0x11030de80>, <modules.book.Paragraph object at 0x11030dee0>, <modules.book.Paragraph object at 0x11030df40>, <modules.book.Paragraph object at 0x11030dfa0>, <modules.book.Paragraph object at 0x110330040>, <modules.book.Paragraph object at 0x1103300a0>, <modules.book.Paragraph object at 0x110330100>, <modules.book.Paragraph object at 0x110330160>, <modules.book.Paragraph object at 0x1103301c0>, <modules.book.Paragraph object at 0x110330220>, <modules.book.Paragraph object at 0x110330280>, <modules.book.Paragraph object at 0x1103302e0>, <modules.book.Paragraph object at 0x110330340>, <modules.book.Paragraph object at 0x1103303a0>, <modules.book.Paragraph object at 0x110330400>, <modules.book.Paragraph object at 0x110330460>, <modules.book.Paragraph object at 0x1103304c0>, <modules.book.Paragraph object at 0x110330520>, <modules.book.Paragraph object at 0x110330580>, <modules.book.Paragraph object at 0x1103305e0>, <modules.book.Paragraph object at 0x110330640>, <modules.book.Paragraph object at 0x1103306a0>, <modules.book.Paragraph object at 0x110330700>, <modules.book.Paragraph object at 0x110330760>, <modules.book.Paragraph object at 0x1103307c0>, <modules.book.Paragraph object at 0x110330820>, <modules.book.Paragraph object at 0x110330880>, <modules.book.Paragraph object at 0x1103308e0>, <modules.book.Paragraph object at 0x110330940>, <modules.book.Paragraph object at 0x1103309a0>, <modules.book.Paragraph object at 0x110330a00>, <modules.book.Paragraph object at 0x110330a60>, <modules.book.Paragraph object at 0x110330ac0>, <modules.book.Paragraph object at 0x110330b20>, <modules.book.Paragraph object at 0x110330b80>, <modules.book.Paragraph object at 0x110330be0>, <modules.book.Paragraph object at 0x110330c40>, <modules.book.Paragraph object at 0x110330ca0>, <modules.book.Paragraph object at 0x110330d00>, <modules.book.Paragraph object at 0x110330d60>, <modules.book.Paragraph object at 0x110330dc0>, <modules.book.Paragraph object at 0x110330e20>, <modules.book.Paragraph object at 0x110330e80>, <modules.book.Paragraph object at 0x110330ee0>, <modules.book.Paragraph object at 0x110330f40>, <modules.book.Paragraph object at 0x110330fa0>, <modules.book.Paragraph object at 0x110331040>, <modules.book.Paragraph object at 0x1103310a0>, <modules.book.Paragraph object at 0x110331100>, <modules.book.Paragraph object at 0x110331160>, <modules.book.Paragraph object at 0x1103311c0>, <modules.book.Paragraph object at 0x110331220>, <modules.book.Paragraph object at 0x110331280>, <modules.book.Paragraph object at 0x1103312e0>, <modules.book.Paragraph object at 0x110331340>, <modules.book.Paragraph object at 0x1103313a0>, <modules.book.Paragraph object at 0x110331400>, <modules.book.Paragraph object at 0x110331460>, <modules.book.Paragraph object at 0x1103314c0>, <modules.book.Paragraph object at 0x110331520>, <modules.book.Paragraph object at 0x110331580>])])"
     },
     "execution_count": 46,
     "metadata": {},
     "output_type": "execute_result"
    }
   ],
   "source": [
    "# import Book, Chapter and Paragraph from module: book\n",
    "from modules.book import Book, Chapter, Paragraph\n",
    "\n",
    "chapter_1 = Chapter(1, 'Bones and Big Business', get_text(bones_book, 82, 762))\n",
    "chapter_2 = Chapter(2, 'Hidden Treassure', get_text(bones_book, 769, 1455))\n",
    "book = Book('Bones in London', 'Edgar Wallace', [chapter_1, chapter_2])\n",
    "\n",
    "book"
   ]
  },
  {
   "cell_type": "markdown",
   "metadata": {},
   "source": [
    "# Alternative ways to create data classes\n",
    "Purpose: To minimize the [Dunder](https://jackmckew.dev/dunders-in-python.html) methods\n",
    "Data classes are classes that primarily are concerned with representing data, and less about providing functionlity in methods\n",
    "### Dataclasses by default automatically initialise a bunch of dunder methods for us in a class such as:\n",
    "- `__init__` The initialisation method for the class\n",
    "- `__repr__` How the class is represented with print() is calle\n",
    "- `__str__` How the class is represented as a string (called with __repr__)\n",
    "- `__eq__` Used when equality operators are used (eg, ==)\n",
    "- `__hash__` The hash for the class (called with __eq__)\n"
   ]
  },
  {
   "cell_type": "code",
   "execution_count": 47,
   "metadata": {},
   "outputs": [
    {
     "name": "stdout",
     "output_type": "stream",
     "text": [
      "\n",
      "TESTING: PYDANTIC\n",
      "Repr/str dunder method representation: Data(x=None, y=None, kwargs=None)\n",
      "Equality dunder method (using ==) (should be True if implemented): True\n",
      "\\TESTING PYDANTIC BASEMODEL:\n",
      "text='Wassup?' class_name='classA' is_positive=True uuid='HKJHFSDLfKJDFLKJDFDSKLfJSDLSJFLDSKFJLKJSDFLSAKDJDLFKJASDDF' id=1 count=None\n",
      "with count:  text='Wassup?' class_name='classA' is_positive=True uuid='HKJHFSDLfKJDFLKJDFDSKLfJSDLSJFLDSKFJLKJSDFLSAKDJDLFKJASDDF' id=1 count=445\n",
      "\n",
      "VALIDATION ERRORS:  2 validation errors for Answer\n",
      "class_name\n",
      "  field required (type=value_error.missing)\n",
      "is_positive\n",
      "  field required (type=value_error.missing)\n"
     ]
    }
   ],
   "source": [
    "import typing\n",
    "\n",
    "def class_tester(class_constructor):\n",
    "    test_class_1 = class_constructor()\n",
    "    test_class_2 = class_constructor()\n",
    "    print(f\"Repr/str dunder method representation: {test_class_1}\")\n",
    "    print(f\"Equality dunder method (using ==) (should be True if implemented): {test_class_1 == test_class_2}\")\n",
    "\n",
    "# Pydantic\n",
    "from pydantic.dataclasses import dataclass, ValidationError\n",
    "\n",
    "@dataclass\n",
    "class Data:\n",
    "    x: float = None\n",
    "    y: float = None\n",
    "    kwargs: typing.Dict = None\n",
    "\n",
    "print(\"\\nTESTING: PYDANTIC\")\n",
    "class_tester(Data)\n",
    "\n",
    "from typing import  Optional\n",
    "from pydantic import BaseModel\n",
    "\n",
    "class AnswerBase(BaseModel):\n",
    "    text: str\n",
    "    class_name: str\n",
    "    is_positive: bool\n",
    "    uuid: str\n",
    "\n",
    "class Answer(AnswerBase):\n",
    "    id: int\n",
    "    count: Optional[int]\n",
    "    def __repr__(self):\n",
    "        return 'answer: '+id\n",
    "    \n",
    "print(\"\\TESTING PYDANTIC BASEMODEL:\")\n",
    "answer = Answer(id=1, text=\"Wassup?\", class_name=\"classA\", is_positive=True, uuid=\"HKJHFSDLfKJDFLKJDFDSKLfJSDLSJFLDSKFJLKJSDFLSAKDJDLFKJASDDF\")\n",
    "print(answer)\n",
    "answer = Answer(id=1, count=445, text=\"Wassup?\", class_name=\"classA\", is_positive=True, uuid=\"HKJHFSDLfKJDFLKJDFDSKLfJSDLSJFLDSKFJLKJSDFLSAKDJDLFKJASDDF\")\n",
    "print(\"with count: \", answer)\n",
    "try:\n",
    "    answer = Answer(id=1, text=\"Wassup?\", uuid=\"HKJHFSDLfKJDFLKJDFDSKLfJSDLSJFLDSKFJLKJSDFLSAKDJDLFKJASDDF\")\n",
    "    print(\"without required fields: \",answers)\n",
    "except ValidationError as ve:\n",
    "    print(\"\\nVALIDATION ERRORS: \",ve)"
   ]
  },
  {
   "cell_type": "markdown",
   "metadata": {
    "slideshow": {
     "slide_type": "slide"
    }
   },
   "source": [
    "# Exercises\n",
    "\n",
    "  1. Create a Python module, which consists of a class TextContainer. The class must have a constructor which allow objects to be initialized with a text ala: `tc = TextContainer(my_text)`. The class must implement the following methods for computing statistics on texts.\n",
    "    * Counting the amount of words used in a text.\n",
    "    * Counting the amount of chars used in a text.\n",
    "    * Counting the amount of letters, where letters are all ASCII letter characters, see \n",
    "    ```python\n",
    "    import string\n",
    "    string.ascii_letters  # returns 'abcdefghijklmnopqrstuvwxyzABCDEFGHIJKLMNOPQRSTUVWXYZ'\n",
    "    ```\n",
    "    * Remove all punctuation characters, see\n",
    "    ```python\n",
    "    import string\n",
    "    string.punctuation  # returns '!\"#$%&\\'()*+,-./:;<=>?@[\\\\]^_`{|}~'\n",
    "    ```"
   ]
  },
  {
   "cell_type": "code",
   "execution_count": 48,
   "metadata": {},
   "outputs": [
    {
     "name": "stdout",
     "output_type": "stream",
     "text": [
      "John Doe computer lab 1000\n",
      "['__class__', '__delattr__', '__dict__', '__dir__', '__doc__', '__eq__', '__format__', '__ge__', '__getattribute__', '__gt__', '__hash__', '__init__', '__init_subclass__', '__le__', '__lt__', '__module__', '__ne__', '__new__', '__reduce__', '__reduce_ex__', '__repr__', '__setattr__', '__sizeof__', '__str__', '__subclasshook__', '__weakref__', 'dept', 'name', 'salary']\n",
      "Error: attribute error\n"
     ]
    }
   ],
   "source": [
    "# Objects can be made even of classes with no content\n",
    "class Employee:\n",
    "    pass\n",
    "\n",
    "john = Employee()  # Create an empty employee record\n",
    "\n",
    "# Fill the fields of the record\n",
    "john.name = 'John Doe'\n",
    "john.dept = 'computer lab'\n",
    "john.salary = 1000\n",
    "\n",
    "print(john.name, john.dept, john.salary)\n",
    "print(dir(john))\n",
    "\n",
    "hanne = Employee()\n",
    "try:\n",
    "    print(hanne.name)\n",
    "except AttributeError:\n",
    "    print('Error: attribute error')"
   ]
  },
  {
   "cell_type": "markdown",
   "metadata": {},
   "source": [
    "## Enums\n",
    "Enums are made by creating a new class the inherits from the Enum class."
   ]
  },
  {
   "cell_type": "code",
   "execution_count": 49,
   "metadata": {},
   "outputs": [
    {
     "name": "stdout",
     "output_type": "stream",
     "text": [
      "Fruit.APPLE\n",
      "<enum 'Fruit'>\n",
      "<Fruit.CITRUS: 3>\n",
      "5\n"
     ]
    }
   ],
   "source": [
    "# example using enums\n",
    "from enum import Enum, auto\n",
    "class Fruit(Enum):\n",
    "    APPLE = 1\n",
    "    BANANA = 2\n",
    "    CITRUS = 3\n",
    "    DADES = 4\n",
    "    EGGPLANTS = auto() # auto create number\n",
    "    \n",
    "\n",
    "print(Fruit.APPLE)\n",
    "print(type(Fruit.BANANA))\n",
    "print(repr(Fruit.CITRUS))\n",
    "print(Fruit.EGGPLANTS.value)"
   ]
  },
  {
   "cell_type": "markdown",
   "metadata": {},
   "source": [
    "## Home study\n",
    "Create a Mine Sweeper game with GUI using tkinter:\n",
    "\n",
    "#### Steps\n",
    "1. Import tkinter with `from tkinter import *`\n",
    "2. create a settings module (settings.py) with 2 properties: WIDTH=1440 and HEIGHT=760\n",
    "3. create a main.py file and create a new gui:\n",
    "```python\n",
    "root = Tk()\n",
    "root.configure(bg='black')\n",
    "root.geometry(f'{settings.WIDTH}x{settings.HEIGHT}')\n",
    "root.title('Minesweeper game')\n",
    "root.resizable(False,False)\n",
    "root.mainloop() # This runs the window.\n",
    "```\n",
    "4. create 3 frames to have a top bar, left pane and main/center pane:\n",
    "```python\n",
    "top_frame = Frame(\n",
    "    root,\n",
    "    bg='red',\n",
    "    width=utils.get_width(100),\n",
    "    height=utils.get_height(25)\n",
    ")\n",
    "top_frame.place(x=0, y=0)\n",
    "\n",
    "left_frame = Frame(\n",
    "    root, \n",
    "    bg='orange',\n",
    "    width=utils.get_width(25),\n",
    "    height=utils.get_height(75)\n",
    ")\n",
    "left_frame.place(x=0,y=utils.get_height(25))\n",
    "center_frame = Frame(\n",
    "    root, \n",
    "    bg='grey',\n",
    "    width=utils.get_width(75),\n",
    "    height=utils.get_height(75)\n",
    ")\n",
    "center_frame.place(x=utils.get_width(25),y=utils.get_height(25))\n",
    "```\n",
    "5. Create a utils module with 2 methods: get_width and get_height (to return pixelvalues based on percentage of whole).\n",
    "6. Create a tkinter button:\n",
    "```python \n",
    "btn1 = Button(\n",
    "    center_frame,\n",
    "    bg='purple',\n",
    "    text='My Button'    \n",
    ")\n",
    "btn1.place(x=10, y=10)\n",
    "```\n",
    "7. Create a cell.py module and inside a Cell class with constructor like:\n",
    "```python\n",
    "from tkinter import Button\n",
    "class Cell():\n",
    "    def __init__(self, is_bomb=False):\n",
    "       self.is_bomb = is_bomb\n",
    "       self.cell_button_obj = None\n",
    "\n",
    "    def create_btn_obj(self, location):\n",
    "        self.location = location\n",
    "        btn = Button(\n",
    "            location,\n",
    "            text='Text'\n",
    "        )\n",
    "        self.cell_button_obj = btn\n",
    "```\n",
    "8. Insert a Cell in the gui:\n",
    "```python\n",
    "c1 = Cell()\n",
    "c1.create_btn_obj(center_frame)\n",
    "c1.cell_button_obj.place(x=0, y=0)\n",
    "```\n",
    "9. Change to grid:\n",
    "```python\n",
    "c1 = Cell()\n",
    "c1.create_btn_obj(center_frame)\n",
    "# c1.cell_button_obj.place(x=0, y=0)\n",
    "c1.cell_button_obj.grid(\n",
    "    column=0, \n",
    "    row=0\n",
    ")\n",
    "c2 = Cell()\n",
    "c2.create_btn_obj(center_frame)\n",
    "# c1.cell_button_obj.place(x=0, y=0)\n",
    "c2.cell_button_obj.grid(\n",
    "    column=1, \n",
    "    row=0\n",
    ")\n",
    "```\n",
    "10. Autofill the grid with buttons:\n",
    "```python\n",
    "for x in range(settings.GRIDWIDTH):\n",
    "    for y in range(settings.GRIDHEIGHT):\n",
    "        c = Cell()\n",
    "        c.create_btn_obj(center_frame)\n",
    "        # c1.cell_button_obj.place(x=0, y=0)\n",
    "        c.cell_button_obj.grid(\n",
    "            column=x, \n",
    "            row=y\n",
    "        )\n",
    "```\n",
    "11. Assign eventhandlers to buttons:\n",
    "```python\n",
    "        ...\n",
    "        btn.bind('<Button-1>',self.handle_left_click) # button 1 means left-click\n",
    "        btn.bind('<Button-3>',self.handle_right_click) # button 3 means right-click\n",
    "    \n",
    "    def handle_right_click(self, event): # event is not needed, but tkinter needs it\n",
    "        print(event)\n",
    "        print(f'Right clicked: ({self.x},{self.y})')\n",
    "\n",
    "```\n",
    "12. Change button text according to position\n",
    "13. Add a static field to Cell: all=[]\n",
    "14. Add a static method with annotation: `@staticmethod` called randomly_mine that uses random module to sample 25% of total cells and arm them.\n",
    "15. Test functionality by printing all cells is_bomb attributes from main and see that 25% are True.\n",
    "16. Create method to return all neighbours of the current cell\n",
    "17. Create method to count how many mines are in the list of neighbour cells\n",
    "18. On right-click mark the cell with a yellow background colour (or the default grey if it was allready yellow)\n",
    "19. On left-click mark the cell with red background if its a mine or with neighbour mine count if it is not\n",
    "20. Test that it is working.\n",
    "21. Now inside the Cell class create a static var: label (that can hold information about how many cells were revealed out of total)\n",
    "22. Update the label whenever a new cell is revealed\n",
    "23. If a mine was hit, show a messagebox telling that the game was lost, and exit the game with `sys.exit()`.\n",
    "[Source](https://www.youtube.com/watch?v=OqbGRZx4xUc&t=7025s&ab_channel=freeCodeCamp.org)"
   ]
  }
 ],
 "metadata": {
  "celltoolbar": "Slideshow",
  "kernelspec": {
   "display_name": "Python 3 (ipykernel)",
   "language": "python",
   "name": "python3"
  },
  "language_info": {
   "codemirror_mode": {
    "name": "ipython",
    "version": 3
   },
   "file_extension": ".py",
   "mimetype": "text/x-python",
   "name": "python",
   "nbconvert_exporter": "python",
   "pygments_lexer": "ipython3",
   "version": "3.9.12"
  },
  "varInspector": {
   "cols": {
    "lenName": 16,
    "lenType": 16,
    "lenVar": 40
   },
   "kernels_config": {
    "python": {
     "delete_cmd_postfix": "",
     "delete_cmd_prefix": "del ",
     "library": "var_list.py",
     "varRefreshCmd": "print(var_dic_list())"
    },
    "r": {
     "delete_cmd_postfix": ") ",
     "delete_cmd_prefix": "rm(",
     "library": "var_list.r",
     "varRefreshCmd": "cat(var_dic_list()) "
    }
   },
   "types_to_exclude": [
    "module",
    "function",
    "builtin_function_or_method",
    "instance",
    "_Feature"
   ],
   "window_display": false
  }
 },
 "nbformat": 4,
 "nbformat_minor": 4
}
