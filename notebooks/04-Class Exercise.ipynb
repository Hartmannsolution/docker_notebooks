{
 "cells": [
  {
   "cell_type": "markdown",
   "id": "d5521d7b",
   "metadata": {},
   "source": [
    "## Exercise numpy and csv\n",
    "5 mins added for presentation after each exercise part\n",
    "\n",
    "1. **Part 1 (20 min)**\n",
    "    1. load the csv file: befkbhalderstatkode.csv into a numpy ndarray\n",
    "    2. How many german children of 0 years were there in Copenhagen in 2015?\n",
    "2. **Part 2 (15 min)**\n",
    "    3. create a function that can take the 4 parameters:AAR,BYDEL,ALDER,STATKODE and return population data.\n",
    "3. **Part 3 (15 min)**\n",
    "    4. create a new function like previous so that it can sum values for all ages if age is not provided to the function\n",
    "### Pause\n",
    "4. **Part 4 (20 min)**\n",
    "    5. further add functionality to sum values if citizenship or area was not provided to function.\n",
    "    6. create a new function that can also give average values for each year if year whas not provided.\n",
    "5. **Part 5 (20 min)**\n",
    "    7. create a function, that given year and nationality can return which area had the most of these nationals by that year. Test it by finding out which area had the most Moroccan people in both 1992 and 2015\n",
    "6. **Part 6 (20 min)**\n",
    "    8. Find the Area(s) where most foreingers lived in Copenhagen in 1992 and 2015 respectively\n",
    "    9. Find out what age most French people have in 2015\n",
    "### Pause\n",
    "\n",
    "## Total: 2:20 \n"
   ]
  },
  {
   "cell_type": "code",
   "execution_count": null,
   "id": "d1aa6c13",
   "metadata": {},
   "outputs": [],
   "source": []
  }
 ],
 "metadata": {
  "kernelspec": {
   "display_name": "Python 3 (ipykernel)",
   "language": "python",
   "name": "python3"
  },
  "language_info": {
   "codemirror_mode": {
    "name": "ipython",
    "version": 3
   },
   "file_extension": ".py",
   "mimetype": "text/x-python",
   "name": "python",
   "nbconvert_exporter": "python",
   "pygments_lexer": "ipython3",
   "version": "3.10.6"
  }
 },
 "nbformat": 4,
 "nbformat_minor": 5
}
