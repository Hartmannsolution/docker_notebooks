{
 "cells": [
  {
   "cell_type": "markdown",
   "id": "11721769",
   "metadata": {},
   "source": [
    "## Class Exercise: Read Titanic dataset and do some munging\n",
    "1. **Part 1 (25 min)** (plus presentation: 5 min).\n",
    "    1. read titanic data from the data/titanic_train.csv file into a pandas dataframe\n",
    "    2. set index of the dataframe to passenger id\n",
    "    3. sort the dataframe by 'fare' (price of ticket)\n",
    "2. **Part 2 (30 min (str.find() / df.apply()))** plus 5 min.\n",
    "    4. write a function to reformat a name to only contain \"firstname lastname\" (look for current format in the name column)\n",
    "    5. use df.apply() to Change all names to the \"firstname lastname\" format\n",
    "### Pause 10 min\n",
    "3. **Pat 3 (10 min(df.str.split()))** plus 5 min.\n",
    "    6. Get only last name by the use of str method split() on comma. https://pandas.pydata.org/docs/user_guide/text.html#splitting-and-replacing-strings\n",
    "4. **Part 4 (20 min (df.isin() / .notna()))** plus 5 min.\n",
    "    7. Get only those passengers that had one of these ticket numbers: `[350406,248706,382652,244373,345763,2649,239865]`\n",
    "    8. Remove all rows without an age\n",
    "4. **Part 5: (20 min (df.astype('int'))** plus 5 min.\n",
    "    9. Convert age values to integer\n",
    "    10. get only the children from the dataset\n",
    "### Pause 10 min\n",
    "5. **Part 6: 20 (.notna() / .replace(current,new))** plus 5 min.\n",
    "    11. Filter to get only passengers with a valid cabin\n",
    "    12. Change Embarked to full name of port: C = Cherbourg; Q = Queenstown; S = Southampton\n",
    "6. **Part 7: 30 min (.groupby)** plus 5 min.\n",
    "    13. create new column: 'relations' that adds sibling/spouse value with parent/child values\n",
    "    14. Is there a relationship between how many relations and chances of survival?\n",
    "## Total: 3 timer, 30 min"
   ]
  }
 ],
 "metadata": {
  "kernelspec": {
   "display_name": "Python 3 (ipykernel)",
   "language": "python",
   "name": "python3"
  },
  "language_info": {
   "codemirror_mode": {
    "name": "ipython",
    "version": 3
   },
   "file_extension": ".py",
   "mimetype": "text/x-python",
   "name": "python",
   "nbconvert_exporter": "python",
   "pygments_lexer": "ipython3",
   "version": "3.10.6"
  }
 },
 "nbformat": 4,
 "nbformat_minor": 5
}
