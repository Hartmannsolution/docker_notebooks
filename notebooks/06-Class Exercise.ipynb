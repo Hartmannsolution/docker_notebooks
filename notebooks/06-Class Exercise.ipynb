{
 "cells": [
  {
   "cell_type": "markdown",
   "id": "90304538",
   "metadata": {},
   "source": [
    "# Week 6: Iterators, Request and Concurrency\n",
    "1. Create a generator function that given a location can yield name of files in that location\n",
    "2. Create a class that is an iterator. It should have a list of authorIds that can be retrieved with the next() function (author ids: ['OL23919A','OL24461A','OL26320A','OL1435217A','])\n",
    "3. Give the class a method: get_author_data(author_id) that can return a dictionary with 3 properties: name, bio, birth data and death date (HINT: use url format: `https://openlibrary.org/authors/AUTHOR_ID.json`)\n",
    "4. Give the class a method get_books_from_author(author_id) (HINT: use url format: `https://openlibrary.org/authors/AUTHOR_ID/works.json`). The method should return a list of Book entities with properties: title, description and author_key, and subjects (look at the response from the url request to see what you get)\n",
    "5. Modify the iterator class so that it returns book titles rather than the author ids (for each iteration over the author ids)\n",
    "6. Change your code to a CLI program that can be given arguments as list of author ids and write json to a file containing Each authors name and list of book titles\n",
    "7. Change the module to run each request in a seperate thread upon initialization of the iterator (HINT: craete constructor ala: def `__init__(lst_of_author_ids):`\n",
    "8. Update CLI module with a method to search for authors and get aurthor id (url format: `https://openlibrary.org/search/authors.json?q=Trenton Stewart`) printed to the console. (HINT: use url parameters like this: http://localhost:8888/notebooks/06-2%20Requests.ipynb#Passing-Parameters-In-URLs"
   ]
  }
 ],
 "metadata": {
  "kernelspec": {
   "display_name": "Python 3 (ipykernel)",
   "language": "python",
   "name": "python3"
  },
  "language_info": {
   "codemirror_mode": {
    "name": "ipython",
    "version": 3
   },
   "file_extension": ".py",
   "mimetype": "text/x-python",
   "name": "python",
   "nbconvert_exporter": "python",
   "pygments_lexer": "ipython3",
   "version": "3.10.6"
  }
 },
 "nbformat": 4,
 "nbformat_minor": 5
}
