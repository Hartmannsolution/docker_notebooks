{
 "cells": [
  {
   "cell_type": "code",
   "execution_count": 10,
   "metadata": {},
   "outputs": [
    {
     "name": "stdout",
     "output_type": "stream",
     "text": [
      "4.5.0\n"
     ]
    }
   ],
   "source": [
    "import selenium\n",
    "print(selenium.__version__)"
   ]
  },
  {
   "cell_type": "markdown",
   "metadata": {
    "slideshow": {
     "slide_type": "slide"
    }
   },
   "source": [
    "# Selenium\n",
    "When a web application is using javascript to load content, we need more than just the page source to get the data. Then Beautifulsoup is not enough to get us what we need. We need a framework that can interact with the application by:\n",
    "1. finding buttons\n",
    "2. clicking buttons\n",
    "3. fill out and submit forms\n",
    "4. extract lists of images/links/divs etc.\n",
    "\n",
    "### What is Selenium?\n",
    "\n",
    "> Selenium automates browsers. That's it! What you do with that power is entirely up to you. Primarily, it is for automating web applications for testing purposes, but is certainly not limited to just that. Boring web-based administration tasks can (and should!) also be automated as well.\n",
    "http://docs.seleniumhq.org\n",
    "\n"
   ]
  },
  {
   "cell_type": "markdown",
   "metadata": {
    "slideshow": {
     "slide_type": "slide"
    }
   },
   "source": [
    "## Controlling the Browser with the `selenium` Module\n",
    "\n",
    "The `selenium` module lets Python directly control the browser by programatically clicking links and filling in login information, almost as though there is a human user interacting with the page. Selenium allows you to interact with web pages in a much more advanced way than Requests and Beautiful Soup; but because it launches a web browser, it is a bit slower and hard to run in the background if, say, you just need to download some files from the Web.\n"
   ]
  },
  {
   "cell_type": "markdown",
   "metadata": {
    "slideshow": {
     "slide_type": "slide"
    }
   },
   "source": [
    "### Starting a Selenium-Controlled Browser\n",
    "\n",
    "```python\n",
    "from selenium import webdriver\n",
    "\n",
    "browser = webdriver.Firefox()\n",
    "browser.get('http://www.krak.dk')\n",
    "```"
   ]
  },
  {
   "cell_type": "markdown",
   "metadata": {},
   "source": [
    "### Update selenium to version 4\n",
    "`pip install -U selenium` (may be necessary to do it as root): `docker exec -it -u 0 notebookserver bash`"
   ]
  },
  {
   "cell_type": "code",
   "execution_count": 11,
   "metadata": {},
   "outputs": [],
   "source": [
    "# Example: goto www.cphbusiness.dk and find all the \"Erhvervsakademiuddannelser\" that are available.\n",
    "\n",
    "from selenium import webdriver\n",
    "from selenium.webdriver.common.keys import Keys\n",
    "from selenium.webdriver.firefox.options import Options\n",
    "from selenium.webdriver.firefox.service import Service\n",
    "from webdriver_manager.firefox import GeckoDriverManager\n",
    "from selenium.webdriver.common.by import By\n",
    "\n",
    "\n",
    "import bs4\n",
    "import json\n",
    "\n",
    "url = 'https://www.cphbusiness.dk'\n",
    "def cphbusiness_interaction():\n",
    "    #profile = webdriver.FirefoxProfile()\n",
    "    #profile.set_preference(\"general.useragent.override\", \"Mozilla/5.0 (X11; Ubuntu; Linux x86_64; rv:81.0) Gecko/20100101 Firefox/81.0\")\n",
    "    \n",
    "    # headless is needed here because we do not have a GUI version of firefox\n",
    "    options = Options()\n",
    "    options.headless = True\n",
    "    #browser = webdriver.Firefox(options=options)\n",
    "    browser = webdriver.Firefox(service=Service(GeckoDriverManager().install()), options=options)\n",
    "    \n",
    "    browser.get(url)\n",
    "    browser.implicitly_wait(2)\n",
    "    button = browser.find_element(By.ID,'declineButton')\n",
    "    button.click()\n",
    "    \n",
    "    button = browser.find_element(By.XPATH,'/html/body/header/div[3]/div[4]/div/nav/ul/li[1]/a')\n",
    "    button.click()\n",
    "    \n",
    "    button = browser.find_element('xpath','/html/body/main/div[1]/div/div[1]/div/a') # using xpath string\n",
    "    button.click()\n",
    "    \n",
    "    edu_buttons = browser.find_elements('css selector','div.tile.tile--small.small-12.medium-12.large-6.columns')\n",
    "    edu_buttons = browser.find_elements('css selector','p.tile__link.tile__link--small a.icon-arrow-after')\n",
    "    educations = [b.text for b in edu_buttons]\n",
    "    return educations, browser.page_source\n",
    "    \n",
    "def find_elements(page, selector):\n",
    "    soup = bs4.BeautifulSoup(page, 'html.parser')\n",
    "    event_cells = soup.select(selector)\n",
    "    return event_cells\n",
    "\n",
    "def print_page(page,file):\n",
    "    with open(file,'w') as file:\n",
    "        file.write(json.dumps(page))\n",
    "\n",
    "        "
   ]
  },
  {
   "cell_type": "code",
   "execution_count": 12,
   "metadata": {
    "scrolled": true
   },
   "outputs": [
    {
     "name": "stderr",
     "output_type": "stream",
     "text": [
      "[WDM] - Downloading: 16.2kB [00:00, 10.5MB/s]                   \n"
     ]
    },
    {
     "ename": "SessionNotCreatedException",
     "evalue": "Message: Expected browser binary location, but unable to find binary in default location, no 'moz:firefoxOptions.binary' capability provided, and no binary flag set on the command line\n",
     "output_type": "error",
     "traceback": [
      "\u001b[0;31m---------------------------------------------------------------------------\u001b[0m",
      "\u001b[0;31mSessionNotCreatedException\u001b[0m                Traceback (most recent call last)",
      "\u001b[1;32m/Users/weinell/Documents/Dev/CPH Business/4. Semester/Python/docker_notebooks/notebooks/07-3 selenium.ipynb Cell 7\u001b[0m in \u001b[0;36m<cell line: 1>\u001b[0;34m()\u001b[0m\n\u001b[0;32m----> <a href='vscode-notebook-cell:/Users/weinell/Documents/Dev/CPH%20Business/4.%20Semester/Python/docker_notebooks/notebooks/07-3%20selenium.ipynb#Y103sZmlsZQ%3D%3D?line=0'>1</a>\u001b[0m educations,source \u001b[39m=\u001b[39m cphbusiness_interaction()\n\u001b[1;32m      <a href='vscode-notebook-cell:/Users/weinell/Documents/Dev/CPH%20Business/4.%20Semester/Python/docker_notebooks/notebooks/07-3%20selenium.ipynb#Y103sZmlsZQ%3D%3D?line=1'>2</a>\u001b[0m \u001b[39mprint\u001b[39m(educations)\n",
      "\u001b[1;32m/Users/weinell/Documents/Dev/CPH Business/4. Semester/Python/docker_notebooks/notebooks/07-3 selenium.ipynb Cell 7\u001b[0m in \u001b[0;36mcphbusiness_interaction\u001b[0;34m()\u001b[0m\n\u001b[1;32m     <a href='vscode-notebook-cell:/Users/weinell/Documents/Dev/CPH%20Business/4.%20Semester/Python/docker_notebooks/notebooks/07-3%20selenium.ipynb#Y103sZmlsZQ%3D%3D?line=20'>21</a>\u001b[0m options\u001b[39m.\u001b[39mheadless \u001b[39m=\u001b[39m \u001b[39mTrue\u001b[39;00m\n\u001b[1;32m     <a href='vscode-notebook-cell:/Users/weinell/Documents/Dev/CPH%20Business/4.%20Semester/Python/docker_notebooks/notebooks/07-3%20selenium.ipynb#Y103sZmlsZQ%3D%3D?line=21'>22</a>\u001b[0m \u001b[39m#browser = webdriver.Firefox(options=options)\u001b[39;00m\n\u001b[0;32m---> <a href='vscode-notebook-cell:/Users/weinell/Documents/Dev/CPH%20Business/4.%20Semester/Python/docker_notebooks/notebooks/07-3%20selenium.ipynb#Y103sZmlsZQ%3D%3D?line=22'>23</a>\u001b[0m browser \u001b[39m=\u001b[39m webdriver\u001b[39m.\u001b[39;49mFirefox(service\u001b[39m=\u001b[39;49mService(GeckoDriverManager()\u001b[39m.\u001b[39;49minstall()), options\u001b[39m=\u001b[39;49moptions)\n\u001b[1;32m     <a href='vscode-notebook-cell:/Users/weinell/Documents/Dev/CPH%20Business/4.%20Semester/Python/docker_notebooks/notebooks/07-3%20selenium.ipynb#Y103sZmlsZQ%3D%3D?line=24'>25</a>\u001b[0m browser\u001b[39m.\u001b[39mget(url)\n\u001b[1;32m     <a href='vscode-notebook-cell:/Users/weinell/Documents/Dev/CPH%20Business/4.%20Semester/Python/docker_notebooks/notebooks/07-3%20selenium.ipynb#Y103sZmlsZQ%3D%3D?line=25'>26</a>\u001b[0m browser\u001b[39m.\u001b[39mimplicitly_wait(\u001b[39m2\u001b[39m)\n",
      "File \u001b[0;32m/opt/homebrew/lib/python3.9/site-packages/selenium/webdriver/firefox/webdriver.py:177\u001b[0m, in \u001b[0;36mWebDriver.__init__\u001b[0;34m(self, firefox_profile, firefox_binary, capabilities, proxy, executable_path, options, service_log_path, service_args, service, desired_capabilities, log_path, keep_alive)\u001b[0m\n\u001b[1;32m    172\u001b[0m \u001b[39mself\u001b[39m\u001b[39m.\u001b[39mservice\u001b[39m.\u001b[39mstart()\n\u001b[1;32m    174\u001b[0m executor \u001b[39m=\u001b[39m FirefoxRemoteConnection(\n\u001b[1;32m    175\u001b[0m     remote_server_addr\u001b[39m=\u001b[39m\u001b[39mself\u001b[39m\u001b[39m.\u001b[39mservice\u001b[39m.\u001b[39mservice_url,\n\u001b[1;32m    176\u001b[0m     ignore_proxy\u001b[39m=\u001b[39moptions\u001b[39m.\u001b[39m_ignore_local_proxy)\n\u001b[0;32m--> 177\u001b[0m \u001b[39msuper\u001b[39;49m()\u001b[39m.\u001b[39;49m\u001b[39m__init__\u001b[39;49m(\n\u001b[1;32m    178\u001b[0m     command_executor\u001b[39m=\u001b[39;49mexecutor,\n\u001b[1;32m    179\u001b[0m     options\u001b[39m=\u001b[39;49moptions,\n\u001b[1;32m    180\u001b[0m     keep_alive\u001b[39m=\u001b[39;49m\u001b[39mTrue\u001b[39;49;00m)\n\u001b[1;32m    182\u001b[0m \u001b[39mself\u001b[39m\u001b[39m.\u001b[39m_is_remote \u001b[39m=\u001b[39m \u001b[39mFalse\u001b[39;00m\n",
      "File \u001b[0;32m/opt/homebrew/lib/python3.9/site-packages/selenium/webdriver/remote/webdriver.py:272\u001b[0m, in \u001b[0;36mWebDriver.__init__\u001b[0;34m(self, command_executor, desired_capabilities, browser_profile, proxy, keep_alive, file_detector, options)\u001b[0m\n\u001b[1;32m    270\u001b[0m \u001b[39mself\u001b[39m\u001b[39m.\u001b[39m_authenticator_id \u001b[39m=\u001b[39m \u001b[39mNone\u001b[39;00m\n\u001b[1;32m    271\u001b[0m \u001b[39mself\u001b[39m\u001b[39m.\u001b[39mstart_client()\n\u001b[0;32m--> 272\u001b[0m \u001b[39mself\u001b[39;49m\u001b[39m.\u001b[39;49mstart_session(capabilities, browser_profile)\n",
      "File \u001b[0;32m/opt/homebrew/lib/python3.9/site-packages/selenium/webdriver/remote/webdriver.py:364\u001b[0m, in \u001b[0;36mWebDriver.start_session\u001b[0;34m(self, capabilities, browser_profile)\u001b[0m\n\u001b[1;32m    362\u001b[0m w3c_caps \u001b[39m=\u001b[39m _make_w3c_caps(capabilities)\n\u001b[1;32m    363\u001b[0m parameters \u001b[39m=\u001b[39m {\u001b[39m\"\u001b[39m\u001b[39mcapabilities\u001b[39m\u001b[39m\"\u001b[39m: w3c_caps}\n\u001b[0;32m--> 364\u001b[0m response \u001b[39m=\u001b[39m \u001b[39mself\u001b[39;49m\u001b[39m.\u001b[39;49mexecute(Command\u001b[39m.\u001b[39;49mNEW_SESSION, parameters)\n\u001b[1;32m    365\u001b[0m \u001b[39mif\u001b[39;00m \u001b[39m'\u001b[39m\u001b[39msessionId\u001b[39m\u001b[39m'\u001b[39m \u001b[39mnot\u001b[39;00m \u001b[39min\u001b[39;00m response:\n\u001b[1;32m    366\u001b[0m     response \u001b[39m=\u001b[39m response[\u001b[39m'\u001b[39m\u001b[39mvalue\u001b[39m\u001b[39m'\u001b[39m]\n",
      "File \u001b[0;32m/opt/homebrew/lib/python3.9/site-packages/selenium/webdriver/remote/webdriver.py:429\u001b[0m, in \u001b[0;36mWebDriver.execute\u001b[0;34m(self, driver_command, params)\u001b[0m\n\u001b[1;32m    427\u001b[0m response \u001b[39m=\u001b[39m \u001b[39mself\u001b[39m\u001b[39m.\u001b[39mcommand_executor\u001b[39m.\u001b[39mexecute(driver_command, params)\n\u001b[1;32m    428\u001b[0m \u001b[39mif\u001b[39;00m response:\n\u001b[0;32m--> 429\u001b[0m     \u001b[39mself\u001b[39;49m\u001b[39m.\u001b[39;49merror_handler\u001b[39m.\u001b[39;49mcheck_response(response)\n\u001b[1;32m    430\u001b[0m     response[\u001b[39m'\u001b[39m\u001b[39mvalue\u001b[39m\u001b[39m'\u001b[39m] \u001b[39m=\u001b[39m \u001b[39mself\u001b[39m\u001b[39m.\u001b[39m_unwrap_value(\n\u001b[1;32m    431\u001b[0m         response\u001b[39m.\u001b[39mget(\u001b[39m'\u001b[39m\u001b[39mvalue\u001b[39m\u001b[39m'\u001b[39m, \u001b[39mNone\u001b[39;00m))\n\u001b[1;32m    432\u001b[0m     \u001b[39mreturn\u001b[39;00m response\n",
      "File \u001b[0;32m/opt/homebrew/lib/python3.9/site-packages/selenium/webdriver/remote/errorhandler.py:243\u001b[0m, in \u001b[0;36mErrorHandler.check_response\u001b[0;34m(self, response)\u001b[0m\n\u001b[1;32m    241\u001b[0m         alert_text \u001b[39m=\u001b[39m value[\u001b[39m'\u001b[39m\u001b[39malert\u001b[39m\u001b[39m'\u001b[39m]\u001b[39m.\u001b[39mget(\u001b[39m'\u001b[39m\u001b[39mtext\u001b[39m\u001b[39m'\u001b[39m)\n\u001b[1;32m    242\u001b[0m     \u001b[39mraise\u001b[39;00m exception_class(message, screen, stacktrace, alert_text)  \u001b[39m# type: ignore[call-arg]  # mypy is not smart enough here\u001b[39;00m\n\u001b[0;32m--> 243\u001b[0m \u001b[39mraise\u001b[39;00m exception_class(message, screen, stacktrace)\n",
      "\u001b[0;31mSessionNotCreatedException\u001b[0m: Message: Expected browser binary location, but unable to find binary in default location, no 'moz:firefoxOptions.binary' capability provided, and no binary flag set on the command line\n"
     ]
    }
   ],
   "source": [
    "educations,source = cphbusiness_interaction()\n",
    "print(educations)\n"
   ]
  },
  {
   "cell_type": "code",
   "execution_count": null,
   "metadata": {},
   "outputs": [],
   "source": [
    "elements = find_elements(source,'a')\n",
    "print(len(elements))\n",
    "print(elements[:2])"
   ]
  },
  {
   "cell_type": "markdown",
   "metadata": {
    "slideshow": {
     "slide_type": "slide"
    }
   },
   "source": [
    "### Finding Elements on the Page\n",
    "\n",
    "WebDriver objects have quite a few methods for finding elements on a page. They are divided into the `find_element_*` and `find_elements_*` methods. The `find_element_*` methods return a single `WebElement` object, representing the first element on the page that matches your query. The `find_elements_*` methods return a list of `WebElement_*` objects for every matching element on the page. \n",
    "\n",
    "### See **[docs](https://selenium-python.readthedocs.io/locating-elements.html)** for more details\n"
   ]
  },
  {
   "cell_type": "markdown",
   "metadata": {
    "slideshow": {
     "slide_type": "slide"
    }
   },
   "source": [
    "### Clicking the Page\n",
    "\n",
    "`WebElement` objects returned from the `find_element_*` and `find_elements_*` methods have a `click()` method that simulates a mouse click on that element. This method can be used to follow a link, make a selection on a radio button, click a Submit button, or trigger whatever else might happen when the element is clicked by the mouse.\n",
    "\n",
    "```python\n",
    "    base_url = 'http://www.krak.dk'\n",
    "    browser = webdriver.Firefox() \n",
    "    browser.get(base_url)\n",
    "    browser.implicitly_wait(3)\n",
    "\n",
    "    link_to_persons = browser.find_elements(By.LINK_TEXT,'Personer') # returns a list\n",
    "    link_to_persons[0].click()\n",
    "```\n"
   ]
  },
  {
   "cell_type": "markdown",
   "metadata": {},
   "source": [
    "## Find ccs selector, xpath of an element\n",
    "1. Open the url in browser (private window to avoid relying on previous communication).\n",
    "2. Right click the element you want to identify\n",
    "3. choose \"inspect element\"\n",
    "4. Inside the inspector pane right click the marked area and choose copy.\n",
    "  - From here you can choose between \n",
    "      1. CSS Selector\n",
    "      2. CSS Path\n",
    "      3. XPath\n",
    "  \n",
    "![](images/inspector_copy.png)\n",
    "\n",
    "#### CSS selector\n",
    "If you choose this, you would get something like:\n",
    "`button.cqryLz:nth-child(2)` This MAY be unique on the page in which case it can be used with selenium like: `browser.find_elements(By.CSS_SELECTOR, selector_text)`\n",
    "\n",
    "#### CSS Path\n",
    "If you choose this, you would get something like:\n",
    "`html.krak body.firstPageBackground div#qc-cmp2-container.qc-cmp2-container div#qc-cmp2-main.qc-cmp2-main div.sc-VigVT.jzbnAW.qc-cmp-cleanslate div#qc-cmp2-ui.sc-bdVaJa.cNgWHs div.qc-cmp2-footer div.qc-cmp2-buttons-desktop button.sc-ifAKCX.cqryLz` which is the full path through the DOM tree. This will be unique, but also hard to read and much more brittle in terms of any small change to the html will break this path (So not so usefull in itself, but it can be broken up so you could use only the last part of it if you can identify the smallest necessary unique path.\n",
    "\n",
    "#### XPath\n",
    "If you choose this, it would look something like: `html.krak body.firstPageBackground div#qc-cmp2-container.qc-cmp2-container div#qc-cmp2-main.qc-cmp2-main div.sc-VigVT.jzbnAW.qc-cmp-cleanslate div#qc-cmp2-ui.sc-bdVaJa.eupTWg div.qc-cmp2-footer.qc-cmp2-footer-overlay.qc-cmp2-footer-scrolled div.qc-cmp2-summary-buttons button.sc-ifAKCX.kkoEyk`   \n",
    "\n",
    "This can also be split up (to find the smallest path that is still unique (eg. go from any element with an id)) and used like `browser.find_element(By.XPATH, \"div#qc-cmp2-ui.sc-bdVaJa.eupTWg div.qc-cmp2-footer.qc-cmp2-footer-overlay.qc-cmp2-footer-scrolled div.qc-cmp2-summary-buttons button.sc-ifAKCX.kkoEyk\")`"
   ]
  },
  {
   "cell_type": "markdown",
   "metadata": {
    "slideshow": {
     "slide_type": "slide"
    }
   },
   "source": [
    "### Filling Out and Submitting Forms\n",
    "Sending keystrokes to text fields on a web page is a matter of finding the `<input>` or `<textarea>` element for that text field and then calling the `send_keys()` method. \n",
    "\n",
    "\n",
    "```python\n",
    "    base_url = 'http://www.krak.dk'\n",
    "    browser = webdriver.Firefox() # or use driver = webdriver.PhantomJS() which will do the same without the overhead of a GUI. http://phantomjs.org/download.html\n",
    "    browser.implicitly_wait(3)\n",
    "\n",
    "    search_field = browser.find_element_by_name('searchQuery')\n",
    "    search_field.send_keys('Møller')\n",
    "    search_field.submit()\n",
    "```"
   ]
  },
  {
   "cell_type": "markdown",
   "metadata": {
    "slideshow": {
     "slide_type": "slide"
    }
   },
   "source": [
    "## Automatically Finding Names, addresses and numbers\n",
    "\n",
    "In the selenium_krak module script (in package: modules), you will observe, that it opens a Firefox window clicks the cookies aproval box, enters a search string (*\"Møller\"*), clicks the links *\"Personer\"* to search for persons only, and finally it prints the HTML sources of the page.\n",
    "\n",
    "## Headless mode in modules\n",
    "When running selenium in .py module files in a docker container we do not have a GUI. Therefor we use the browser in headless mode to run selenium without the graphical output. See the example [here](http://127.0.0.1:8888/edit/modules/selenium_krak.py)\n",
    "\n",
    "Omitting the headless mode without having a display produces this error: `WebDriverException: Message: invalid argument: can't kill an exited process`\n"
   ]
  },
  {
   "cell_type": "markdown",
   "metadata": {
    "slideshow": {
     "slide_type": "slide"
    }
   },
   "source": [
    "## Class exercise\n",
    "Find a web site to interact with and fill out a form to get some information back.  \n",
    "Examples could be https://www.jobindex.dk/,    \n",
    "https://google.com or   \n",
    "https://www.ikea.com/dk/da/"
   ]
  },
  {
   "cell_type": "code",
   "execution_count": null,
   "metadata": {},
   "outputs": [],
   "source": [
    "# headless is needed here because we do not have a GUI version of firefox\n",
    "options = Options()\n",
    "options.headless = True\n",
    "browser = webdriver.Firefox(service=Service(GeckoDriverManager().install()), options=options)\n",
    "\n",
    "browser.get(\"http://www.krak.dk\")"
   ]
  },
  {
   "cell_type": "code",
   "execution_count": null,
   "metadata": {},
   "outputs": [],
   "source": []
  }
 ],
 "metadata": {
  "celltoolbar": "Slideshow",
  "kernelspec": {
   "display_name": "Python 3.9.14 64-bit",
   "language": "python",
   "name": "python3"
  },
  "language_info": {
   "codemirror_mode": {
    "name": "ipython",
    "version": 3
   },
   "file_extension": ".py",
   "mimetype": "text/x-python",
   "name": "python",
   "nbconvert_exporter": "python",
   "pygments_lexer": "ipython3",
   "version": "3.9.14"
  },
  "varInspector": {
   "cols": {
    "lenName": 16,
    "lenType": 16,
    "lenVar": 40
   },
   "kernels_config": {
    "python": {
     "delete_cmd_postfix": "",
     "delete_cmd_prefix": "del ",
     "library": "var_list.py",
     "varRefreshCmd": "print(var_dic_list())"
    },
    "r": {
     "delete_cmd_postfix": ") ",
     "delete_cmd_prefix": "rm(",
     "library": "var_list.r",
     "varRefreshCmd": "cat(var_dic_list()) "
    }
   },
   "types_to_exclude": [
    "module",
    "function",
    "builtin_function_or_method",
    "instance",
    "_Feature"
   ],
   "window_display": false
  },
  "vscode": {
   "interpreter": {
    "hash": "a665b5d41d17b532ea9890333293a1b812fa0b73c9c25c950b3cedf1bebd0438"
   }
  }
 },
 "nbformat": 4,
 "nbformat_minor": 4
}
