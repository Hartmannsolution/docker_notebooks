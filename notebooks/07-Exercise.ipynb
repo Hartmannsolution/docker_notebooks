{
 "cells": [
  {
   "cell_type": "markdown",
   "metadata": {},
   "source": [
    "## Assignment 7\n",
    "\n",
    "This assignment requires you to work with selenium, BeautifullSoup and possibly regular expressions\n",
    "\n",
    "The next couple of weeks we are going to ask you: the students to create the assignment. The plan is for every group, to find a suitable website and create a a question to ask about the data on the site.\n",
    "These questions should be available to everyone thursday at 8:30 here: https://docs.google.com/spreadsheets/d/1UCOG-fTx9J5-kpFZ4zC9X8Cl8kiPbOoZpPWwUOopZxE/edit?usp=sharing\n",
    "\n",
    "Then for the weekly assignment you can choose between the different exercises presented on the specific week.\n",
    "\n",
    "### Fallback plan\n",
    "If this plan has some startup trouble, I have made a backup exercise below that you can choose if you cant find a suitable exercise on the google sheet. \n"
   ]
  },
  {
   "cell_type": "markdown",
   "metadata": {},
   "source": [
    "### Part 1: Preparing data\n",
    "\n",
    "- Use selenium to go to dba.dk with any search phrase\n",
    "- Find all products added today\n",
    "- Find only those from 'København og omegn'\n",
    "- create a .py file containing above function as a module that will return the browser page source.\n"
   ]
  },
  {
   "cell_type": "markdown",
   "metadata": {},
   "source": [
    "### Part 2: Extracting the data\n",
    "\n",
    "- Use BeautifulSoup to extract all the products in a different function in the module (see selenium_krak.py for example)\n",
    "- Make a list with tuples of description, year (if available), price, image url and url to details page.\n",
    "- Sort the products by price\n",
    "- Return an html table with all the data"
   ]
  },
  {
   "cell_type": "markdown",
   "metadata": {},
   "source": [
    "### Part 3:\n",
    "- Add functionality to get the phone number for each product."
   ]
  }
 ],
 "metadata": {
  "kernelspec": {
   "display_name": "Python 3 (ipykernel)",
   "language": "python",
   "name": "python3"
  },
  "language_info": {
   "codemirror_mode": {
    "name": "ipython",
    "version": 3
   },
   "file_extension": ".py",
   "mimetype": "text/x-python",
   "name": "python",
   "nbconvert_exporter": "python",
   "pygments_lexer": "ipython3",
   "version": "3.10.6"
  }
 },
 "nbformat": 4,
 "nbformat_minor": 2
}
