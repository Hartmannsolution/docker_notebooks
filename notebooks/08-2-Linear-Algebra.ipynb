{
 "cells": [
  {
   "cell_type": "markdown",
   "metadata": {},
   "source": [
    "## Linear algebra\n",
    "##### Linear algebra is the branch of mathematics that deals with vector spaces.\n",
    "Source: Data Science From Scratch, chapter 4.\n",
    "\n",
    "##### 7 important concepts we will work with are:\n",
    "1. **scalar values** a single value like 5 or 8\n",
    "2. **vectors** (List of (mostly) numbers. The four common types of atomic vector are logical, integer, double (sometimes called numeric), and character)\n",
    "  - Vectors can represent attributes of an entity (like age,weight,height of a person)\n",
    "  - vectors has magnitude (size of each attribute) and direction (coeficient of the line starting in 0,0,...)\n",
    "2. **matrices** (matrix in plural) 2 dimensional list of numbers (list of vectors) or (one-hot-encoded relationships between x and y axis)\n",
    "3. **vector space** (the n-dimensional coordinate system in which the vectors can move around)\n",
    "4. **vector arithmetics** (addition, substraction, division and multiplication of vectors with vectors and vectors with scalars)\n",
    "5. **dot products** sum of products of all elements of 2 vectors resulting in single value\n",
    "6. **matrix products** 2 matrices joined to one where each row element from one matrix multiplied by each column element in another matrix summed up in each cell of the resulting matrix\n"
   ]
  },
  {
   "cell_type": "markdown",
   "metadata": {},
   "source": [
    "## Basic math understanding\n",
    "This notebook is providing the necessary base understanding for working with **feature spaces in machine learning**"
   ]
  },
  {
   "cell_type": "markdown",
   "metadata": {
    "slideshow": {
     "slide_type": "slide"
    }
   },
   "source": [
    "## Vector operations\n",
    "\n",
    "The vectors we will use, are list of numbers, and you can do a number of things with them!\n"
   ]
  },
  {
   "cell_type": "code",
   "execution_count": 1,
   "metadata": {
    "slideshow": {
     "slide_type": "subslide"
    }
   },
   "outputs": [],
   "source": [
    "import numpy as np"
   ]
  },
  {
   "cell_type": "code",
   "execution_count": 2,
   "metadata": {
    "slideshow": {
     "slide_type": "fragment"
    }
   },
   "outputs": [],
   "source": [
    "scalar = 7\n",
    "\n",
    "v = np.array([1, 5, 8, -2, 6])"
   ]
  },
  {
   "cell_type": "code",
   "execution_count": 3,
   "metadata": {
    "slideshow": {
     "slide_type": "fragment"
    }
   },
   "outputs": [
    {
     "data": {
      "text/plain": [
       "(5,)"
      ]
     },
     "execution_count": 3,
     "metadata": {},
     "output_type": "execute_result"
    }
   ],
   "source": [
    "v.shape"
   ]
  },
  {
   "cell_type": "code",
   "execution_count": 4,
   "metadata": {},
   "outputs": [
    {
     "data": {
      "text/plain": [
       "(5, 1)"
      ]
     },
     "execution_count": 4,
     "metadata": {},
     "output_type": "execute_result"
    }
   ],
   "source": [
    "np.array([[1], [5], [8], [-2], [0]]).shape"
   ]
  },
  {
   "cell_type": "code",
   "execution_count": 5,
   "metadata": {},
   "outputs": [
    {
     "data": {
      "text/plain": [
       "(2,)"
      ]
     },
     "execution_count": 5,
     "metadata": {},
     "output_type": "execute_result"
    }
   ],
   "source": [
    "np.array([[1, 3], [0]]).shape"
   ]
  },
  {
   "cell_type": "code",
   "execution_count": 6,
   "metadata": {},
   "outputs": [
    {
     "data": {
      "text/plain": [
       "array([[1],\n",
       "       [2],\n",
       "       [3],\n",
       "       [4],\n",
       "       [5]])"
      ]
     },
     "execution_count": 6,
     "metadata": {},
     "output_type": "execute_result"
    }
   ],
   "source": [
    "np.array([1,2,3,4,5]).reshape(-1,1) # equals: np.array([1,2,3,4,5]).reshape(5,1)"
   ]
  },
  {
   "cell_type": "code",
   "execution_count": 7,
   "metadata": {
    "slideshow": {
     "slide_type": "subslide"
    }
   },
   "outputs": [
    {
     "data": {
      "text/plain": [
       "array([[ True],\n",
       "       [ True],\n",
       "       [ True],\n",
       "       [ True],\n",
       "       [ True]])"
      ]
     },
     "execution_count": 7,
     "metadata": {},
     "output_type": "execute_result"
    }
   ],
   "source": [
    "v.reshape(-1, 1) == v.reshape(5,1)"
   ]
  },
  {
   "cell_type": "markdown",
   "metadata": {
    "slideshow": {
     "slide_type": "subslide"
    }
   },
   "source": [
    "### Vector - scalar operations"
   ]
  },
  {
   "cell_type": "code",
   "execution_count": 8,
   "metadata": {
    "slideshow": {
     "slide_type": "fragment"
    }
   },
   "outputs": [
    {
     "data": {
      "text/plain": [
       "array([ 8, 12, 15,  5, 13])"
      ]
     },
     "execution_count": 8,
     "metadata": {},
     "output_type": "execute_result"
    }
   ],
   "source": [
    "# Addition\n",
    "v + scalar"
   ]
  },
  {
   "cell_type": "code",
   "execution_count": 9,
   "metadata": {
    "slideshow": {
     "slide_type": "fragment"
    }
   },
   "outputs": [
    {
     "data": {
      "text/plain": [
       "array([-6, -2,  1, -9, -1])"
      ]
     },
     "execution_count": 9,
     "metadata": {},
     "output_type": "execute_result"
    }
   ],
   "source": [
    "# Subtraction\n",
    "v - scalar"
   ]
  },
  {
   "cell_type": "code",
   "execution_count": 10,
   "metadata": {
    "slideshow": {
     "slide_type": "subslide"
    }
   },
   "outputs": [
    {
     "data": {
      "text/plain": [
       "array([ 0.14285714,  0.71428571,  1.14285714, -0.28571429,  0.85714286])"
      ]
     },
     "execution_count": 10,
     "metadata": {},
     "output_type": "execute_result"
    }
   ],
   "source": [
    "# Division\n",
    "v / scalar"
   ]
  },
  {
   "cell_type": "code",
   "execution_count": 11,
   "metadata": {
    "slideshow": {
     "slide_type": "fragment"
    }
   },
   "outputs": [
    {
     "data": {
      "text/plain": [
       "array([  7,  35,  56, -14,  42])"
      ]
     },
     "execution_count": 11,
     "metadata": {},
     "output_type": "execute_result"
    }
   ],
   "source": [
    "# Multiplication\n",
    "v * scalar"
   ]
  },
  {
   "cell_type": "markdown",
   "metadata": {
    "slideshow": {
     "slide_type": "subslide"
    }
   },
   "source": [
    "### Vector - vector operations"
   ]
  },
  {
   "cell_type": "code",
   "execution_count": 12,
   "metadata": {
    "slideshow": {
     "slide_type": "fragment"
    }
   },
   "outputs": [],
   "source": [
    "v = np.array([1, 5, 8, -2, 6])\n",
    "p = np.array([2, 1, -1])"
   ]
  },
  {
   "cell_type": "code",
   "execution_count": 13,
   "metadata": {
    "slideshow": {
     "slide_type": "fragment"
    }
   },
   "outputs": [
    {
     "data": {
      "text/plain": [
       "array([ 2, 10, 16, -4, 12])"
      ]
     },
     "execution_count": 13,
     "metadata": {},
     "output_type": "execute_result"
    }
   ],
   "source": [
    "v + v"
   ]
  },
  {
   "cell_type": "markdown",
   "metadata": {
    "slideshow": {
     "slide_type": "subslide"
    }
   },
   "source": [
    "## The vector is an object which has both the magnitude as well as direction\n",
    "![](images/vector_addition.svg)"
   ]
  },
  {
   "cell_type": "code",
   "execution_count": 14,
   "metadata": {
    "slideshow": {
     "slide_type": "fragment"
    }
   },
   "outputs": [
    {
     "name": "stdout",
     "output_type": "stream",
     "text": [
      "operands could not be broadcast together with shapes (5,) (3,) \n"
     ]
    }
   ],
   "source": [
    "# ValueError vectors of different dimensions can not be added together\n",
    "try:\n",
    "    v + p\n",
    "except Exception as e:\n",
    "    print(e)"
   ]
  },
  {
   "cell_type": "code",
   "execution_count": 15,
   "metadata": {
    "slideshow": {
     "slide_type": "subslide"
    }
   },
   "outputs": [
    {
     "data": {
      "text/plain": [
       "array([0, 0, 0, 0, 0])"
      ]
     },
     "execution_count": 15,
     "metadata": {},
     "output_type": "execute_result"
    }
   ],
   "source": [
    "v - v"
   ]
  },
  {
   "cell_type": "code",
   "execution_count": 16,
   "metadata": {
    "slideshow": {
     "slide_type": "fragment"
    }
   },
   "outputs": [
    {
     "data": {
      "text/plain": [
       "array([1., 1., 1., 1., 1.])"
      ]
     },
     "execution_count": 16,
     "metadata": {},
     "output_type": "execute_result"
    }
   ],
   "source": [
    "v / v"
   ]
  },
  {
   "cell_type": "code",
   "execution_count": 17,
   "metadata": {
    "slideshow": {
     "slide_type": "fragment"
    }
   },
   "outputs": [
    {
     "name": "stdout",
     "output_type": "stream",
     "text": [
      "operands could not be broadcast together with shapes (5,) (3,) \n"
     ]
    }
   ],
   "source": [
    "try:\n",
    "    v * p\n",
    "except Exception as e:\n",
    "    print(e)"
   ]
  },
  {
   "cell_type": "markdown",
   "metadata": {},
   "source": [
    "## Vector dot product\n",
    "See this [reference](https://www.mathsisfun.com/algebra/vectors-dot-product.html)\n",
    "\n",
    "### Magnitude of a vector \n",
    "The vector is an object which has both the magnitude as well as direction. To find the magnitude of a vector, we need to calculate the length of the vector.   \n",
    "\n",
    "This is calculated as squareroot of (the sum of each feature squared)\n",
    "$\\sqrt(\\sum(v1^2 + v2^2 + vn^2))$\n",
    "\n",
    "### Distance between 2 vectors\n",
    "is calculated as difference between each feature squared then summed and then the squareroot of that\n",
    "$\\sqrt((v1-w1)^2 + (v2-w2)^2 + (vn-wn)^2)$"
   ]
  },
  {
   "cell_type": "markdown",
   "metadata": {
    "slideshow": {
     "slide_type": "slide"
    }
   },
   "source": [
    "## Matrix \n",
    "A matrix is a 2 dimensional data structure like a list a of lists b where b are all of same length   \n",
    "One Matrix, Two Matrices\n",
    "A matrix can be thought of as a **list of vectors**\n",
    "In this respect it is very well suited for representing a feature space like a list of persons or a list of test runs on a new chemical compound etc."
   ]
  },
  {
   "cell_type": "markdown",
   "metadata": {},
   "source": [
    "##  Matrix operations:"
   ]
  },
  {
   "cell_type": "markdown",
   "metadata": {
    "slideshow": {
     "slide_type": "fragment"
    }
   },
   "source": [
    "Math: $v = \\begin{bmatrix} -2 & 0 & 1 \\\\ 5 & -4 & 2 \\\\ 7 & -1 & 3\\end{bmatrix}$\n",
    "\n",
    "Python:\n",
    "```python\n",
    "m = np.array([[-2, 0, 1], [5, -4, 2], [7, -1, 3]])\n",
    "```"
   ]
  },
  {
   "cell_type": "code",
   "execution_count": 18,
   "metadata": {
    "slideshow": {
     "slide_type": "subslide"
    }
   },
   "outputs": [
    {
     "name": "stdout",
     "output_type": "stream",
     "text": [
      "type of v <class 'numpy.ndarray'> \n",
      "type of m: <class 'numpy.ndarray'>\n",
      "7 \n",
      "vector: [ 2  0 -1] \n",
      "matrix:\n",
      " [[-2  0  1]\n",
      " [ 5 -4  2]\n",
      " [ 7 -1  3]]\n"
     ]
    }
   ],
   "source": [
    "import numpy as np\n",
    "scalar = 7\n",
    "v = np.array([2, 0, -1])\n",
    "\n",
    "m = np.array([[-2, 0, 1], [5, -4, 2], [7, -1, 3]])\n",
    "print('type of v',type(v),'\\ntype of m:',type(m))\n",
    "print(scalar,'\\nvector:',v,'\\nmatrix:\\n',m)"
   ]
  },
  {
   "cell_type": "code",
   "execution_count": 19,
   "metadata": {
    "slideshow": {
     "slide_type": "fragment"
    }
   },
   "outputs": [
    {
     "data": {
      "text/plain": [
       "(3, 3)"
      ]
     },
     "execution_count": 19,
     "metadata": {},
     "output_type": "execute_result"
    }
   ],
   "source": [
    "m.shape"
   ]
  },
  {
   "cell_type": "markdown",
   "metadata": {
    "slideshow": {
     "slide_type": "subslide"
    }
   },
   "source": [
    "### Matrix - scalar operations"
   ]
  },
  {
   "cell_type": "code",
   "execution_count": 20,
   "metadata": {},
   "outputs": [
    {
     "name": "stdout",
     "output_type": "stream",
     "text": [
      "Dimensions of a scalar:  0\n",
      "Dimensions of a vector:  1\n",
      "Dimensions of a matrix:  2\n"
     ]
    }
   ],
   "source": [
    "import numpy as np\n",
    "scalar_value = np.array(3)\n",
    "vector = np.array([3,4])\n",
    "matrix = np.array([[3,4],[4,5]])\n",
    "print('Dimensions of a scalar: ',scalar_value.ndim)\n",
    "print('Dimensions of a vector: ',vector.ndim)\n",
    "print('Dimensions of a matrix: ',matrix.ndim)"
   ]
  },
  {
   "cell_type": "code",
   "execution_count": 21,
   "metadata": {
    "slideshow": {
     "slide_type": "fragment"
    }
   },
   "outputs": [
    {
     "data": {
      "text/plain": [
       "array([[ 5,  7,  8],\n",
       "       [12,  3,  9],\n",
       "       [14,  6, 10]])"
      ]
     },
     "execution_count": 21,
     "metadata": {},
     "output_type": "execute_result"
    }
   ],
   "source": [
    "m + scalar # Addition"
   ]
  },
  {
   "cell_type": "code",
   "execution_count": 22,
   "metadata": {
    "slideshow": {
     "slide_type": "fragment"
    }
   },
   "outputs": [
    {
     "data": {
      "text/plain": [
       "array([[ -9,  -7,  -6],\n",
       "       [ -2, -11,  -5],\n",
       "       [  0,  -8,  -4]])"
      ]
     },
     "execution_count": 22,
     "metadata": {},
     "output_type": "execute_result"
    }
   ],
   "source": [
    "m - scalar # Subtraction"
   ]
  },
  {
   "cell_type": "code",
   "execution_count": 23,
   "metadata": {
    "slideshow": {
     "slide_type": "subslide"
    }
   },
   "outputs": [
    {
     "data": {
      "text/plain": [
       "array([[-0.28571429,  0.        ,  0.14285714],\n",
       "       [ 0.71428571, -0.57142857,  0.28571429],\n",
       "       [ 1.        , -0.14285714,  0.42857143]])"
      ]
     },
     "execution_count": 23,
     "metadata": {},
     "output_type": "execute_result"
    }
   ],
   "source": [
    "m / scalar # Division"
   ]
  },
  {
   "cell_type": "code",
   "execution_count": 24,
   "metadata": {
    "slideshow": {
     "slide_type": "fragment"
    }
   },
   "outputs": [
    {
     "data": {
      "text/plain": [
       "array([[-14,   0,   7],\n",
       "       [ 35, -28,  14],\n",
       "       [ 49,  -7,  21]])"
      ]
     },
     "execution_count": 24,
     "metadata": {},
     "output_type": "execute_result"
    }
   ],
   "source": [
    "m * scalar # Multiplication"
   ]
  },
  {
   "cell_type": "markdown",
   "metadata": {
    "slideshow": {
     "slide_type": "subslide"
    }
   },
   "source": [
    "### Matrix - vector operations"
   ]
  },
  {
   "cell_type": "code",
   "execution_count": 25,
   "metadata": {
    "slideshow": {
     "slide_type": "subslide"
    }
   },
   "outputs": [
    {
     "name": "stdout",
     "output_type": "stream",
     "text": [
      "Matrix: \n",
      " [[-2  0  1]\n",
      " [ 5 -4  2]\n",
      " [ 7 -1  3]]\n",
      "\n",
      "Vector: \n",
      " [ 2  0 -1]\n"
     ]
    }
   ],
   "source": [
    "print(\"Matrix: \\n\", m)\n",
    "print(\"\\nVector: \\n\", v)"
   ]
  },
  {
   "cell_type": "code",
   "execution_count": 26,
   "metadata": {},
   "outputs": [],
   "source": [
    "#v = np.array([2, 0, -1, 5]) # to provoce a ValueError: operands could not be broadcast together with shapes"
   ]
  },
  {
   "cell_type": "code",
   "execution_count": 27,
   "metadata": {
    "slideshow": {
     "slide_type": "fragment"
    }
   },
   "outputs": [
    {
     "data": {
      "text/plain": [
       "array([[ 0,  0,  0],\n",
       "       [ 7, -4,  1],\n",
       "       [ 9, -1,  2]])"
      ]
     },
     "execution_count": 27,
     "metadata": {},
     "output_type": "execute_result"
    }
   ],
   "source": [
    "m + v"
   ]
  },
  {
   "cell_type": "code",
   "execution_count": 28,
   "metadata": {
    "slideshow": {
     "slide_type": "fragment"
    }
   },
   "outputs": [
    {
     "data": {
      "text/plain": [
       "array([[-4,  0,  2],\n",
       "       [ 3, -4,  3],\n",
       "       [ 5, -1,  4]])"
      ]
     },
     "execution_count": 28,
     "metadata": {},
     "output_type": "execute_result"
    }
   ],
   "source": [
    "m - v"
   ]
  },
  {
   "cell_type": "code",
   "execution_count": 29,
   "metadata": {
    "slideshow": {
     "slide_type": "subslide"
    }
   },
   "outputs": [
    {
     "name": "stdout",
     "output_type": "stream",
     "text": [
      "Matrix: \n",
      " [[-2  0  1]\n",
      " [ 5 -4  2]\n",
      " [ 7 -1  3]]\n",
      "Vector:  [ 2  1 -1]\n"
     ]
    }
   ],
   "source": [
    "print(\"Matrix: \\n\", m)\n",
    "print(\"Vector: \", p)"
   ]
  },
  {
   "cell_type": "code",
   "execution_count": 30,
   "metadata": {
    "slideshow": {
     "slide_type": "fragment"
    }
   },
   "outputs": [
    {
     "data": {
      "text/plain": [
       "array([[-1. ,  0. , -1. ],\n",
       "       [ 2.5, -4. , -2. ],\n",
       "       [ 3.5, -1. , -3. ]])"
      ]
     },
     "execution_count": 30,
     "metadata": {},
     "output_type": "execute_result"
    }
   ],
   "source": [
    "m / p"
   ]
  },
  {
   "cell_type": "code",
   "execution_count": 31,
   "metadata": {
    "slideshow": {
     "slide_type": "fragment"
    }
   },
   "outputs": [
    {
     "data": {
      "text/plain": [
       "array([[-4,  0, -1],\n",
       "       [10, -4, -2],\n",
       "       [14, -1, -3]])"
      ]
     },
     "execution_count": 31,
     "metadata": {},
     "output_type": "execute_result"
    }
   ],
   "source": [
    "m * p # Note, this is NOT called matrix multiplication!!! Matrix multiplication is using the dot product see here: https://www.mathsisfun.com/algebra/matrix-multiplying.html"
   ]
  },
  {
   "cell_type": "code",
   "execution_count": 32,
   "metadata": {
    "slideshow": {
     "slide_type": "subslide"
    }
   },
   "outputs": [
    {
     "name": "stdout",
     "output_type": "stream",
     "text": [
      "Matrix: \n",
      " [[-2  0  1]\n",
      " [ 5 -4  2]\n",
      " [ 7 -1  3]]\n",
      "Vector:  [ 2  0 -1]\n"
     ]
    }
   ],
   "source": [
    "print(\"Matrix: \\n\", m)\n",
    "print(\"Vector: \", v)"
   ]
  },
  {
   "cell_type": "markdown",
   "metadata": {
    "slideshow": {
     "slide_type": "subslide"
    }
   },
   "source": [
    "### Matrix - matrix operations"
   ]
  },
  {
   "cell_type": "code",
   "execution_count": 33,
   "metadata": {
    "slideshow": {
     "slide_type": "subslide"
    }
   },
   "outputs": [],
   "source": [
    "m = np.array([[-2, 0, 1], [5, -4, 2], [7, -1, 3]])"
   ]
  },
  {
   "cell_type": "code",
   "execution_count": 34,
   "metadata": {
    "slideshow": {
     "slide_type": "fragment"
    }
   },
   "outputs": [
    {
     "data": {
      "text/plain": [
       "(3, 3)"
      ]
     },
     "execution_count": 34,
     "metadata": {},
     "output_type": "execute_result"
    }
   ],
   "source": [
    "m.shape"
   ]
  },
  {
   "cell_type": "code",
   "execution_count": 35,
   "metadata": {
    "slideshow": {
     "slide_type": "fragment"
    }
   },
   "outputs": [
    {
     "data": {
      "text/plain": [
       "array([[-4,  0,  2],\n",
       "       [10, -8,  4],\n",
       "       [14, -2,  6]])"
      ]
     },
     "execution_count": 35,
     "metadata": {},
     "output_type": "execute_result"
    }
   ],
   "source": [
    "m + m"
   ]
  },
  {
   "cell_type": "code",
   "execution_count": 36,
   "metadata": {
    "slideshow": {
     "slide_type": "fragment"
    }
   },
   "outputs": [
    {
     "data": {
      "text/plain": [
       "array([[0, 0, 0],\n",
       "       [0, 0, 0],\n",
       "       [0, 0, 0]])"
      ]
     },
     "execution_count": 36,
     "metadata": {},
     "output_type": "execute_result"
    }
   ],
   "source": [
    "m - m"
   ]
  },
  {
   "cell_type": "code",
   "execution_count": 37,
   "metadata": {
    "slideshow": {
     "slide_type": "subslide"
    }
   },
   "outputs": [
    {
     "name": "stderr",
     "output_type": "stream",
     "text": [
      "/opt/conda/lib/python3.7/site-packages/ipykernel_launcher.py:1: RuntimeWarning: invalid value encountered in true_divide\n",
      "  \"\"\"Entry point for launching an IPython kernel.\n"
     ]
    },
    {
     "data": {
      "text/plain": [
       "array([[ 1., nan,  1.],\n",
       "       [ 1.,  1.,  1.],\n",
       "       [ 1.,  1.,  1.]])"
      ]
     },
     "execution_count": 37,
     "metadata": {},
     "output_type": "execute_result"
    }
   ],
   "source": [
    "m / m"
   ]
  },
  {
   "cell_type": "code",
   "execution_count": 38,
   "metadata": {
    "slideshow": {
     "slide_type": "fragment"
    }
   },
   "outputs": [
    {
     "data": {
      "text/plain": [
       "array([[ 4,  0,  1],\n",
       "       [25, 16,  4],\n",
       "       [49,  1,  9]])"
      ]
     },
     "execution_count": 38,
     "metadata": {},
     "output_type": "execute_result"
    }
   ],
   "source": [
    "m * m # Note, this is NOT matrix multiplication"
   ]
  },
  {
   "cell_type": "markdown",
   "metadata": {
    "slideshow": {
     "slide_type": "subslide"
    }
   },
   "source": [
    "### Entry-wise product, Hadamard product\n",
    "Is not a matrix product (see further down)\n",
    "\n",
    "![](https://upload.wikimedia.org/wikipedia/commons/thumb/0/00/Hadamard_product_qtl1.svg/220px-Hadamard_product_qtl1.svg.png)"
   ]
  },
  {
   "cell_type": "code",
   "execution_count": 56,
   "metadata": {
    "slideshow": {
     "slide_type": "subslide"
    }
   },
   "outputs": [
    {
     "name": "stdout",
     "output_type": "stream",
     "text": [
      "m:\n",
      " [[-2  0  1]\n",
      " [ 5 -4  2]\n",
      " [ 7 -1  3]] \n",
      "q:\n",
      " [[ 0  7]\n",
      " [-3  2]\n",
      " [ 1  5]] \n",
      "m shape:  (3, 3) \n",
      "q shape:  (3, 2)\n"
     ]
    }
   ],
   "source": [
    "m = np.array([[-2, 0, 1], [5, -4, 2], [7, -1, 3]])\n",
    "q = np.array([[0, 7], [-3, 2], [1, 5]])\n",
    "print('m:\\n',m,'\\nq:\\n',q,'\\nm shape: ',m.shape,'\\nq shape: ',q.shape)"
   ]
  },
  {
   "cell_type": "code",
   "execution_count": 42,
   "metadata": {
    "slideshow": {
     "slide_type": "fragment"
    }
   },
   "outputs": [
    {
     "name": "stdout",
     "output_type": "stream",
     "text": [
      "operands could not be broadcast together with shapes (3,3) (3,2) \n"
     ]
    }
   ],
   "source": [
    "try:\n",
    "    m + q\n",
    "except Exception as e:\n",
    "    print(e)"
   ]
  },
  {
   "cell_type": "code",
   "execution_count": 43,
   "metadata": {
    "slideshow": {
     "slide_type": "fragment"
    }
   },
   "outputs": [
    {
     "name": "stdout",
     "output_type": "stream",
     "text": [
      "operands could not be broadcast together with shapes (3,3) (3,2) \n"
     ]
    }
   ],
   "source": [
    "try:\n",
    "    m * q\n",
    "except Exception as e:\n",
    "    print(e)"
   ]
  },
  {
   "cell_type": "code",
   "execution_count": 44,
   "metadata": {
    "slideshow": {
     "slide_type": "fragment"
    }
   },
   "outputs": [
    {
     "data": {
      "text/plain": [
       "array([[ 1, -9],\n",
       "       [14, 37],\n",
       "       [ 6, 62]])"
      ]
     },
     "execution_count": 44,
     "metadata": {},
     "output_type": "execute_result"
    }
   ],
   "source": [
    "np.matmul(m, q)"
   ]
  },
  {
   "cell_type": "markdown",
   "metadata": {
    "slideshow": {
     "slide_type": "subslide"
    }
   },
   "source": [
    "### Matrix multiplication\n",
    "**Requirement:** A's number of collumns equals to B's number of rows\n",
    "\n",
    "![](https://upload.wikimedia.org/wikipedia/commons/thumb/e/eb/Matrix_multiplication_diagram_2.svg/313px-Matrix_multiplication_diagram_2.svg.png)\n",
    "\n",
    "##### [matrix multiplication example](https://www.mathsisfun.com/algebra/matrix-multiplying.html)"
   ]
  },
  {
   "cell_type": "markdown",
   "metadata": {
    "slideshow": {
     "slide_type": "subslide"
    }
   },
   "source": [
    "## Exercise Matrix multiplication\n",
    "\n",
    "Multiply the following matrix `m.dot(q)` by hand:\n",
    "```python\n",
    "m = np.array([[-2, 0, 1], [5, -4, 2], [7, -1, 3]])\n",
    "q = np.array([[0, 7], [-3, 2], [1, 5]])\n",
    "```"
   ]
  },
  {
   "cell_type": "code",
   "execution_count": 45,
   "metadata": {},
   "outputs": [
    {
     "data": {
      "text/plain": [
       "array([[ 1, -9],\n",
       "       [14, 37],\n",
       "       [ 6, 62]])"
      ]
     },
     "execution_count": 45,
     "metadata": {},
     "output_type": "execute_result"
    }
   ],
   "source": [
    "m.dot(q)\n",
    "# q.dot(m) #ValueError: shapes (3,2) and (3,3) not aligned:"
   ]
  },
  {
   "cell_type": "code",
   "execution_count": 46,
   "metadata": {},
   "outputs": [
    {
     "name": "stdout",
     "output_type": "stream",
     "text": [
      "(3, 2)\n"
     ]
    },
    {
     "data": {
      "text/plain": [
       "(2, 3)"
      ]
     },
     "execution_count": 46,
     "metadata": {},
     "output_type": "execute_result"
    }
   ],
   "source": [
    "print(q.shape)\n",
    "q.T.shape"
   ]
  },
  {
   "cell_type": "markdown",
   "metadata": {
    "slideshow": {
     "slide_type": "subslide"
    }
   },
   "source": [
    "## Matrix transpose\n",
    "\n",
    "![](https://upload.wikimedia.org/wikipedia/commons/thumb/e/e4/Matrix_transpose.gif/200px-Matrix_transpose.gif)"
   ]
  },
  {
   "cell_type": "code",
   "execution_count": 47,
   "metadata": {},
   "outputs": [],
   "source": [
    "a = np.array([[-2, 5], [0, 4]])\n",
    "b = np.array([0, 7])"
   ]
  },
  {
   "cell_type": "code",
   "execution_count": 48,
   "metadata": {
    "slideshow": {
     "slide_type": "subslide"
    }
   },
   "outputs": [
    {
     "data": {
      "text/plain": [
       "array([[ 0,  4,  8],\n",
       "       [ 1,  5,  9],\n",
       "       [ 2,  6, 10],\n",
       "       [ 3,  7, 11]])"
      ]
     },
     "execution_count": 48,
     "metadata": {},
     "output_type": "execute_result"
    }
   ],
   "source": [
    "np.arange(12).reshape(3, 4).T"
   ]
  },
  {
   "cell_type": "code",
   "execution_count": 49,
   "metadata": {
    "slideshow": {
     "slide_type": "subslide"
    }
   },
   "outputs": [
    {
     "data": {
      "text/plain": [
       "array([[-2,  5,  7],\n",
       "       [ 0, -4, -1],\n",
       "       [ 1,  2,  3]])"
      ]
     },
     "execution_count": 49,
     "metadata": {},
     "output_type": "execute_result"
    }
   ],
   "source": [
    "m.T"
   ]
  },
  {
   "cell_type": "code",
   "execution_count": 50,
   "metadata": {
    "slideshow": {
     "slide_type": "subslide"
    }
   },
   "outputs": [],
   "source": [
    "q = np.array([[0, 7], [-3, 2], [1, 5]])"
   ]
  },
  {
   "cell_type": "code",
   "execution_count": 51,
   "metadata": {
    "slideshow": {
     "slide_type": "fragment"
    }
   },
   "outputs": [
    {
     "data": {
      "text/plain": [
       "(3, 2)"
      ]
     },
     "execution_count": 51,
     "metadata": {},
     "output_type": "execute_result"
    }
   ],
   "source": [
    "q.shape"
   ]
  },
  {
   "cell_type": "code",
   "execution_count": 52,
   "metadata": {
    "slideshow": {
     "slide_type": "fragment"
    }
   },
   "outputs": [
    {
     "data": {
      "text/plain": [
       "(2, 3)"
      ]
     },
     "execution_count": 52,
     "metadata": {},
     "output_type": "execute_result"
    }
   ],
   "source": [
    "q.T.shape"
   ]
  },
  {
   "cell_type": "markdown",
   "metadata": {},
   "source": [
    "## Real life example using the matrix multiplication\n",
    "Building on this source: https://www.mff.cuni.cz/veda/konference/wds/proc/pdf06/WDS06_106_m8_Ulrychova.pdf\n",
    "\n",
    "Three persons p1,p2,p3 wants to buy some apples, bananas, clementines and eggplants. Each person wants to buy differing amounts and can buy them in two different shops S1, S2.\n",
    "Which shop is the best for each person p1, p2, p3 to pay as little as possible?  \n",
    "The individual prices and desired quantities of the commodities are given in the following tables:\n",
    "\n",
    "**Needed fruits and veggies**  \n",
    "\n",
    "|person|apple|banana|clementine|eggplant|\n",
    "|--|--|--|--|--|\n",
    "|p1|6|5|3|1|\n",
    "|p2|3|6|2|2|\n",
    "|p3|3|4|3|1|\n",
    "\n",
    "**Prices in the 2 shops**  \n",
    "\n",
    "|merchandise|S1| S2|\n",
    "|--|--|--|\n",
    "|apples|1.50| 1.00|\n",
    "|bananas |2.00| 2.50|\n",
    "|clementines |5.00 |4.50|\n",
    "|eggplants |16.00 |17.00|\n",
    "\n",
    "For example, the amount spent by the **person p1** would be:  \n",
    "**Shop s1**: `6 · 1.50 + 5 · 2.00 + 3 · 5.00 + 1 · 16.00 = 50`  \n",
    "**Shop s2**: `6 · 1.00 + 5 · 2.50 + 3 · 4.50 + 1 · 17.00 = 49`\n",
    "\n",
    "**The 2 metrices would look like this:**\n",
    "\n",
    "```\n",
    "P = [[6,5,3,1],\n",
    "     [3,6,2,2],\n",
    "     [3,4,3,1]]\n",
    "``` \n",
    "and  \n",
    "```\n",
    "Q = [[1.50,  1.00],\n",
    "     [2.00,  2.50],\n",
    "     [5.00,  4.50],\n",
    "     [16.00, 17.00]]\n",
    "``` \n",
    "The matrix product looks like this\n",
    "```\n",
    "R = PQ = [[50.00, 49.00],\n",
    "          [58,50, 61.00],\n",
    "          [43.50, 43.50]]\n",
    "```\n",
    "|persons|shop 1 sum of prod|shop 2 sum of prod|\n",
    "|--|--|--|\n",
    "|p1|50.00|49.00|\n",
    "|p2|58.50|61.00|\n",
    "|p3|43.50|43.50|\n",
    "\n",
    "##### Conclusion:\n",
    "person 1 should go to shop 2  \n",
    "person 2 should go to shop 1 and  \n",
    "person 3 can go to either shop  \n"
   ]
  },
  {
   "cell_type": "code",
   "execution_count": 53,
   "metadata": {},
   "outputs": [
    {
     "data": {
      "text/plain": [
       "array([[50. , 49. ],\n",
       "       [58.5, 61. ],\n",
       "       [43.5, 43.5]])"
      ]
     },
     "execution_count": 53,
     "metadata": {},
     "output_type": "execute_result"
    }
   ],
   "source": [
    "# Above calculation done with numpy:\n",
    "\n",
    "import numpy as np\n",
    "P = np.array([[6,5,3,1],\n",
    "     [3,6,2,2],\n",
    "     [3,4,3,1]])\n",
    "Q = np.array([[1.50,  1.00],\n",
    "     [2.00,  2.50],\n",
    "     [5.00,  4.50],\n",
    "     [16.00, 17.00]])\n",
    "R = P.dot(Q)\n",
    "R"
   ]
  },
  {
   "cell_type": "markdown",
   "metadata": {},
   "source": [
    "## Class exercise\n",
    "Given the below dictionarys find out where each of the 4 people find the cheapest shopping according to their needs.\n",
    "```python\n",
    "shoppers = {\n",
    "'Paula':{'Is':4,'Juice':2,'Kakao':3,'Lagkager':2},\n",
    "'Peter':{'Is':2,'Juice':5,'Kakao':0, 'Lagkager':4},\n",
    "'Pandora':{'Is':5,'Juice':3, 'Kakao':4, 'Lagkager':5},\n",
    "'Pietro':{'Is':1,'Juice':8, 'Kakao':9, 'Lagkager':1}\n",
    "}\n",
    "shop_prices = {\n",
    "    'Netto': {'Is':10.50,'Juice':2.25,'Kakao':4.50,'Lagkager':33.50},\n",
    "    'Fakta': {'Is':4.00,'Juice':4.50,'Kakao':6.25,'Lagkager':20.00}\n",
    "}\n",
    "```\n",
    "Hint: you can use pandas and Transpose to create dataframe: `pd.DataFrame(shoppers).T` to get the necessary shape of the dataframe/matrix. Also use df.to_numpy() to changes a Pandas DataFrame df into a numpy ndarray with only the numeric data\n"
   ]
  }
 ],
 "metadata": {
  "celltoolbar": "Slideshow",
  "kernelspec": {
   "display_name": "Python 3 (ipykernel)",
   "language": "python",
   "name": "python3"
  },
  "language_info": {
   "codemirror_mode": {
    "name": "ipython",
    "version": 3
   },
   "file_extension": ".py",
   "mimetype": "text/x-python",
   "name": "python",
   "nbconvert_exporter": "python",
   "pygments_lexer": "ipython3",
   "version": "3.10.6"
  },
  "varInspector": {
   "cols": {
    "lenName": 16,
    "lenType": 16,
    "lenVar": 40
   },
   "kernels_config": {
    "python": {
     "delete_cmd_postfix": "",
     "delete_cmd_prefix": "del ",
     "library": "var_list.py",
     "varRefreshCmd": "print(var_dic_list())"
    },
    "r": {
     "delete_cmd_postfix": ") ",
     "delete_cmd_prefix": "rm(",
     "library": "var_list.r",
     "varRefreshCmd": "cat(var_dic_list()) "
    }
   },
   "types_to_exclude": [
    "module",
    "function",
    "builtin_function_or_method",
    "instance",
    "_Feature"
   ],
   "window_display": false
  }
 },
 "nbformat": 4,
 "nbformat_minor": 2
}
