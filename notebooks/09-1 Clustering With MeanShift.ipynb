{
 "cells": [
  {
   "cell_type": "markdown",
   "metadata": {
    "slideshow": {
     "slide_type": "subslide"
    }
   },
   "source": [
    "# Clustering data\n",
    "Clustering is one of the 3 machine learning types we are working with in this course. Clustering data samples is something we do when we want to learn something from data that is unsupervized (Doesnt have a label). The starting point is therefore a set of data samples, that we without any categorization (we know nothing about the data from the outset)\n",
    "\n",
    "When we have unlabeled data we must use unsupervised learning techniques for our models like clustering data samples to find patterns and similarities in sample sub groups.\n",
    "\n",
    "## How do we find clusters?\n",
    "<img src=\"images/clusters.png\" width=300>\n",
    "\n",
    "Humans are quite good in quickly finding clusters when looking at the data visualizations above. The problem is, how to make a machine find clusters.\n",
    "\n",
    "http://scikit-learn.org/stable/auto_examples/cluster/plot_mean_shift.html#sphx-glr-auto-examples-cluster-plot-mean-shift-py"
   ]
  },
  {
   "cell_type": "markdown",
   "metadata": {},
   "source": [
    "## Meanshift\n",
    "One algorithm for finding cluster in a dataset is meanshift from sklearn.cluster.Meanshift  \n",
    "A key tool in working with meanshift is the concept of bandwith.\n",
    "#### Bandwith is the size of the cirle within which we analyze the data\n",
    "And the size of the circle is important because all data covered by the circle is evaluated with respect to density (the distance between one data point and the others). The window moves around to find the highest density in its population.\n",
    "\n",
    "Below shows how a circle window is moving into the center of a cluster\n",
    "![](images/meanshift.gif)\n",
    "The cirle window above would be one of many windows that are distributed over the feature space.\n",
    "The circle moves towards the highest density of feature vectors. The mean of the distance to each neighbour is calculated and the circle is moved to the mean value. This happens over several iterations untill all windows are finished moving. Finally all windows on same location are merged and all features are moved to neares cluster.\n",
    "\n",
    "Choosing initial number of windows, size of windows, distance between neighbours etc. \n",
    "![](https://i.stack.imgur.com/A871k.jpg)\n"
   ]
  },
  {
   "cell_type": "code",
   "execution_count": 1,
   "metadata": {
    "slideshow": {
     "slide_type": "subslide"
    }
   },
   "outputs": [
    {
     "ename": "ModuleNotFoundError",
     "evalue": "No module named 'matplotlib'",
     "output_type": "error",
     "traceback": [
      "\u001B[0;31m---------------------------------------------------------------------------\u001B[0m",
      "\u001B[0;31mModuleNotFoundError\u001B[0m                       Traceback (most recent call last)",
      "Cell \u001B[0;32mIn [1], line 1\u001B[0m\n\u001B[0;32m----> 1\u001B[0m get_ipython()\u001B[38;5;241m.\u001B[39mrun_line_magic(\u001B[38;5;124m'\u001B[39m\u001B[38;5;124mpylab\u001B[39m\u001B[38;5;124m'\u001B[39m, \u001B[38;5;124m'\u001B[39m\u001B[38;5;124minline\u001B[39m\u001B[38;5;124m'\u001B[39m)\n\u001B[1;32m      2\u001B[0m \u001B[38;5;28;01mfrom\u001B[39;00m \u001B[38;5;21;01msklearn\u001B[39;00m\u001B[38;5;21;01m.\u001B[39;00m\u001B[38;5;21;01mcluster\u001B[39;00m \u001B[38;5;28;01mimport\u001B[39;00m MeanShift, estimate_bandwidth\n\u001B[1;32m      3\u001B[0m \u001B[38;5;66;03m# The bandwidth is the distance/size scale of the kernel function, i.e. \u001B[39;00m\n\u001B[1;32m      4\u001B[0m \u001B[38;5;66;03m# sklearn.cluster module offers an estimate_bandwith() function based on a nearest-neighbor analysis.\u001B[39;00m\n\u001B[1;32m      5\u001B[0m \u001B[38;5;66;03m# quantile should be between [0, 1] 0.5 means that the median of all pairwise distances is used\u001B[39;00m\n\u001B[1;32m      6\u001B[0m \u001B[38;5;66;03m# n_samples: default=None. The number of samples to use. If not given, all samples are used.\u001B[39;00m\n",
      "File \u001B[0;32m/Library/Python/3.9/site-packages/IPython/core/interactiveshell.py:2309\u001B[0m, in \u001B[0;36mInteractiveShell.run_line_magic\u001B[0;34m(self, magic_name, line, _stack_depth)\u001B[0m\n\u001B[1;32m   2307\u001B[0m     kwargs[\u001B[38;5;124m'\u001B[39m\u001B[38;5;124mlocal_ns\u001B[39m\u001B[38;5;124m'\u001B[39m] \u001B[38;5;241m=\u001B[39m \u001B[38;5;28mself\u001B[39m\u001B[38;5;241m.\u001B[39mget_local_scope(stack_depth)\n\u001B[1;32m   2308\u001B[0m \u001B[38;5;28;01mwith\u001B[39;00m \u001B[38;5;28mself\u001B[39m\u001B[38;5;241m.\u001B[39mbuiltin_trap:\n\u001B[0;32m-> 2309\u001B[0m     result \u001B[38;5;241m=\u001B[39m \u001B[43mfn\u001B[49m\u001B[43m(\u001B[49m\u001B[38;5;241;43m*\u001B[39;49m\u001B[43margs\u001B[49m\u001B[43m,\u001B[49m\u001B[43m \u001B[49m\u001B[38;5;241;43m*\u001B[39;49m\u001B[38;5;241;43m*\u001B[39;49m\u001B[43mkwargs\u001B[49m\u001B[43m)\u001B[49m\n\u001B[1;32m   2310\u001B[0m \u001B[38;5;28;01mreturn\u001B[39;00m result\n",
      "File \u001B[0;32m/Library/Python/3.9/site-packages/IPython/core/magics/pylab.py:155\u001B[0m, in \u001B[0;36mPylabMagics.pylab\u001B[0;34m(self, line)\u001B[0m\n\u001B[1;32m    151\u001B[0m \u001B[38;5;28;01melse\u001B[39;00m:\n\u001B[1;32m    152\u001B[0m     \u001B[38;5;66;03m# invert no-import flag\u001B[39;00m\n\u001B[1;32m    153\u001B[0m     import_all \u001B[38;5;241m=\u001B[39m \u001B[38;5;129;01mnot\u001B[39;00m args\u001B[38;5;241m.\u001B[39mno_import_all\n\u001B[0;32m--> 155\u001B[0m gui, backend, clobbered \u001B[38;5;241m=\u001B[39m \u001B[38;5;28;43mself\u001B[39;49m\u001B[38;5;241;43m.\u001B[39;49m\u001B[43mshell\u001B[49m\u001B[38;5;241;43m.\u001B[39;49m\u001B[43menable_pylab\u001B[49m\u001B[43m(\u001B[49m\u001B[43margs\u001B[49m\u001B[38;5;241;43m.\u001B[39;49m\u001B[43mgui\u001B[49m\u001B[43m,\u001B[49m\u001B[43m \u001B[49m\u001B[43mimport_all\u001B[49m\u001B[38;5;241;43m=\u001B[39;49m\u001B[43mimport_all\u001B[49m\u001B[43m)\u001B[49m\n\u001B[1;32m    156\u001B[0m \u001B[38;5;28mself\u001B[39m\u001B[38;5;241m.\u001B[39m_show_matplotlib_backend(args\u001B[38;5;241m.\u001B[39mgui, backend)\n\u001B[1;32m    157\u001B[0m \u001B[38;5;28mprint\u001B[39m(\n\u001B[1;32m    158\u001B[0m     \u001B[38;5;124m\"\u001B[39m\u001B[38;5;124m%\u001B[39m\u001B[38;5;124mpylab is deprecated, use \u001B[39m\u001B[38;5;124m%\u001B[39m\u001B[38;5;124mmatplotlib inline and import the required libraries.\u001B[39m\u001B[38;5;124m\"\u001B[39m\n\u001B[1;32m    159\u001B[0m )\n",
      "File \u001B[0;32m/Library/Python/3.9/site-packages/IPython/core/interactiveshell.py:3512\u001B[0m, in \u001B[0;36mInteractiveShell.enable_pylab\u001B[0;34m(self, gui, import_all, welcome_message)\u001B[0m\n\u001B[1;32m   3485\u001B[0m \u001B[38;5;124;03m\"\"\"Activate pylab support at runtime.\u001B[39;00m\n\u001B[1;32m   3486\u001B[0m \n\u001B[1;32m   3487\u001B[0m \u001B[38;5;124;03mThis turns on support for matplotlib, preloads into the interactive\u001B[39;00m\n\u001B[0;32m   (...)\u001B[0m\n\u001B[1;32m   3508\u001B[0m \u001B[38;5;124;03m    This argument is ignored, no welcome message will be displayed.\u001B[39;00m\n\u001B[1;32m   3509\u001B[0m \u001B[38;5;124;03m\"\"\"\u001B[39;00m\n\u001B[1;32m   3510\u001B[0m \u001B[38;5;28;01mfrom\u001B[39;00m \u001B[38;5;21;01mIPython\u001B[39;00m\u001B[38;5;21;01m.\u001B[39;00m\u001B[38;5;21;01mcore\u001B[39;00m\u001B[38;5;21;01m.\u001B[39;00m\u001B[38;5;21;01mpylabtools\u001B[39;00m \u001B[38;5;28;01mimport\u001B[39;00m import_pylab\n\u001B[0;32m-> 3512\u001B[0m gui, backend \u001B[38;5;241m=\u001B[39m \u001B[38;5;28;43mself\u001B[39;49m\u001B[38;5;241;43m.\u001B[39;49m\u001B[43menable_matplotlib\u001B[49m\u001B[43m(\u001B[49m\u001B[43mgui\u001B[49m\u001B[43m)\u001B[49m\n\u001B[1;32m   3514\u001B[0m \u001B[38;5;66;03m# We want to prevent the loading of pylab to pollute the user's\u001B[39;00m\n\u001B[1;32m   3515\u001B[0m \u001B[38;5;66;03m# namespace as shown by the %who* magics, so we execute the activation\u001B[39;00m\n\u001B[1;32m   3516\u001B[0m \u001B[38;5;66;03m# code in an empty namespace, and we update *both* user_ns and\u001B[39;00m\n\u001B[1;32m   3517\u001B[0m \u001B[38;5;66;03m# user_ns_hidden with this information.\u001B[39;00m\n\u001B[1;32m   3518\u001B[0m ns \u001B[38;5;241m=\u001B[39m {}\n",
      "File \u001B[0;32m/Library/Python/3.9/site-packages/IPython/core/interactiveshell.py:3458\u001B[0m, in \u001B[0;36mInteractiveShell.enable_matplotlib\u001B[0;34m(self, gui)\u001B[0m\n\u001B[1;32m   3437\u001B[0m \u001B[38;5;28;01mdef\u001B[39;00m \u001B[38;5;21menable_matplotlib\u001B[39m(\u001B[38;5;28mself\u001B[39m, gui\u001B[38;5;241m=\u001B[39m\u001B[38;5;28;01mNone\u001B[39;00m):\n\u001B[1;32m   3438\u001B[0m     \u001B[38;5;124;03m\"\"\"Enable interactive matplotlib and inline figure support.\u001B[39;00m\n\u001B[1;32m   3439\u001B[0m \n\u001B[1;32m   3440\u001B[0m \u001B[38;5;124;03m    This takes the following steps:\u001B[39;00m\n\u001B[0;32m   (...)\u001B[0m\n\u001B[1;32m   3456\u001B[0m \u001B[38;5;124;03m        display figures inline.\u001B[39;00m\n\u001B[1;32m   3457\u001B[0m \u001B[38;5;124;03m    \"\"\"\u001B[39;00m\n\u001B[0;32m-> 3458\u001B[0m     \u001B[38;5;28;01mfrom\u001B[39;00m \u001B[38;5;21;01mmatplotlib_inline\u001B[39;00m\u001B[38;5;21;01m.\u001B[39;00m\u001B[38;5;21;01mbackend_inline\u001B[39;00m \u001B[38;5;28;01mimport\u001B[39;00m configure_inline_support\n\u001B[1;32m   3460\u001B[0m     \u001B[38;5;28;01mfrom\u001B[39;00m \u001B[38;5;21;01mIPython\u001B[39;00m\u001B[38;5;21;01m.\u001B[39;00m\u001B[38;5;21;01mcore\u001B[39;00m \u001B[38;5;28;01mimport\u001B[39;00m pylabtools \u001B[38;5;28;01mas\u001B[39;00m pt\n\u001B[1;32m   3461\u001B[0m     gui, backend \u001B[38;5;241m=\u001B[39m pt\u001B[38;5;241m.\u001B[39mfind_gui_and_backend(gui, \u001B[38;5;28mself\u001B[39m\u001B[38;5;241m.\u001B[39mpylab_gui_select)\n",
      "File \u001B[0;32m/Library/Python/3.9/site-packages/matplotlib_inline/__init__.py:1\u001B[0m\n\u001B[0;32m----> 1\u001B[0m \u001B[38;5;28;01mfrom\u001B[39;00m \u001B[38;5;21;01m.\u001B[39;00m \u001B[38;5;28;01mimport\u001B[39;00m backend_inline, config  \u001B[38;5;66;03m# noqa\u001B[39;00m\n\u001B[1;32m      2\u001B[0m __version__ \u001B[38;5;241m=\u001B[39m \u001B[38;5;124m\"\u001B[39m\u001B[38;5;124m0.1.6\u001B[39m\u001B[38;5;124m\"\u001B[39m\n",
      "File \u001B[0;32m/Library/Python/3.9/site-packages/matplotlib_inline/backend_inline.py:6\u001B[0m\n\u001B[1;32m      1\u001B[0m \u001B[38;5;124;03m\"\"\"A matplotlib backend for publishing figures via display_data\"\"\"\u001B[39;00m\n\u001B[1;32m      3\u001B[0m \u001B[38;5;66;03m# Copyright (c) IPython Development Team.\u001B[39;00m\n\u001B[1;32m      4\u001B[0m \u001B[38;5;66;03m# Distributed under the terms of the BSD 3-Clause License.\u001B[39;00m\n\u001B[0;32m----> 6\u001B[0m \u001B[38;5;28;01mimport\u001B[39;00m \u001B[38;5;21;01mmatplotlib\u001B[39;00m\n\u001B[1;32m      7\u001B[0m \u001B[38;5;28;01mfrom\u001B[39;00m \u001B[38;5;21;01mmatplotlib\u001B[39;00m \u001B[38;5;28;01mimport\u001B[39;00m colors\n\u001B[1;32m      8\u001B[0m \u001B[38;5;28;01mfrom\u001B[39;00m \u001B[38;5;21;01mmatplotlib\u001B[39;00m\u001B[38;5;21;01m.\u001B[39;00m\u001B[38;5;21;01mbackends\u001B[39;00m \u001B[38;5;28;01mimport\u001B[39;00m backend_agg\n",
      "\u001B[0;31mModuleNotFoundError\u001B[0m: No module named 'matplotlib'"
     ]
    }
   ],
   "source": [
    "%pylab inline \n",
    "from sklearn.cluster import MeanShift, estimate_bandwidth\n",
    "# The bandwidth is the distance/size scale of the kernel function, i.e. \n",
    "# sklearn.cluster module offers an estimate_bandwith() function based on a nearest-neighbor analysis.\n",
    "# quantile should be between [0, 1] 0.5 means that the median of all pairwise distances is used\n",
    "# n_samples: default=None. The number of samples to use. If not given, all samples are used.\n",
    "\n",
    "\n",
    "def mean_shift(data, n_samples=1000):\n",
    "    bandwidth = estimate_bandwidth(data, quantile=0.2, \n",
    "                                   n_samples=n_samples)\n",
    "\n",
    "    ms = MeanShift(bandwidth=bandwidth) #, bin_seeding=True) # can be used to speed up process, since fewer kernels are created.\n",
    "    ms.fit(data)\n",
    "    labels = ms.labels_\n",
    "    cluster_centers = ms.cluster_centers_\n",
    "\n",
    "    labels_unique = np.unique(labels)\n",
    "    n_clusters = len(labels_unique)\n",
    "\n",
    "    print('Number of estimated clusters : {}'.format(n_clusters))\n",
    "    \n",
    "    return labels, cluster_centers, n_clusters"
   ]
  },
  {
   "cell_type": "markdown",
   "metadata": {},
   "source": [
    "## Create sample data for 2d and 3d feature spaces"
   ]
  },
  {
   "cell_type": "code",
   "execution_count": 2,
   "metadata": {
    "slideshow": {
     "slide_type": "subslide"
    }
   },
   "outputs": [
    {
     "ename": "ModuleNotFoundError",
     "evalue": "No module named 'matplotlib'",
     "output_type": "error",
     "traceback": [
      "\u001B[0;31m---------------------------------------------------------------------------\u001B[0m",
      "\u001B[0;31mModuleNotFoundError\u001B[0m                       Traceback (most recent call last)",
      "Cell \u001B[0;32mIn [2], line 1\u001B[0m\n\u001B[0;32m----> 1\u001B[0m get_ipython()\u001B[38;5;241m.\u001B[39mrun_line_magic(\u001B[38;5;124m'\u001B[39m\u001B[38;5;124mmatplotlib\u001B[39m\u001B[38;5;124m'\u001B[39m, \u001B[38;5;124m'\u001B[39m\u001B[38;5;124mnotebook\u001B[39m\u001B[38;5;124m'\u001B[39m)\n\u001B[1;32m      2\u001B[0m \u001B[38;5;66;03m# 2D data generated and meanshift used to find labels, cluster centers and amount of clusters\u001B[39;00m\n\u001B[1;32m      3\u001B[0m \u001B[38;5;28;01mfrom\u001B[39;00m \u001B[38;5;21;01mitertools\u001B[39;00m \u001B[38;5;28;01mimport\u001B[39;00m cycle\n",
      "File \u001B[0;32m/Library/Python/3.9/site-packages/IPython/core/interactiveshell.py:2309\u001B[0m, in \u001B[0;36mInteractiveShell.run_line_magic\u001B[0;34m(self, magic_name, line, _stack_depth)\u001B[0m\n\u001B[1;32m   2307\u001B[0m     kwargs[\u001B[38;5;124m'\u001B[39m\u001B[38;5;124mlocal_ns\u001B[39m\u001B[38;5;124m'\u001B[39m] \u001B[38;5;241m=\u001B[39m \u001B[38;5;28mself\u001B[39m\u001B[38;5;241m.\u001B[39mget_local_scope(stack_depth)\n\u001B[1;32m   2308\u001B[0m \u001B[38;5;28;01mwith\u001B[39;00m \u001B[38;5;28mself\u001B[39m\u001B[38;5;241m.\u001B[39mbuiltin_trap:\n\u001B[0;32m-> 2309\u001B[0m     result \u001B[38;5;241m=\u001B[39m \u001B[43mfn\u001B[49m\u001B[43m(\u001B[49m\u001B[38;5;241;43m*\u001B[39;49m\u001B[43margs\u001B[49m\u001B[43m,\u001B[49m\u001B[43m \u001B[49m\u001B[38;5;241;43m*\u001B[39;49m\u001B[38;5;241;43m*\u001B[39;49m\u001B[43mkwargs\u001B[49m\u001B[43m)\u001B[49m\n\u001B[1;32m   2310\u001B[0m \u001B[38;5;28;01mreturn\u001B[39;00m result\n",
      "File \u001B[0;32m/Library/Python/3.9/site-packages/IPython/core/magics/pylab.py:99\u001B[0m, in \u001B[0;36mPylabMagics.matplotlib\u001B[0;34m(self, line)\u001B[0m\n\u001B[1;32m     97\u001B[0m     \u001B[38;5;28mprint\u001B[39m(\u001B[38;5;124m\"\u001B[39m\u001B[38;5;124mAvailable matplotlib backends: \u001B[39m\u001B[38;5;132;01m%s\u001B[39;00m\u001B[38;5;124m\"\u001B[39m \u001B[38;5;241m%\u001B[39m backends_list)\n\u001B[1;32m     98\u001B[0m \u001B[38;5;28;01melse\u001B[39;00m:\n\u001B[0;32m---> 99\u001B[0m     gui, backend \u001B[38;5;241m=\u001B[39m \u001B[38;5;28;43mself\u001B[39;49m\u001B[38;5;241;43m.\u001B[39;49m\u001B[43mshell\u001B[49m\u001B[38;5;241;43m.\u001B[39;49m\u001B[43menable_matplotlib\u001B[49m\u001B[43m(\u001B[49m\u001B[43margs\u001B[49m\u001B[38;5;241;43m.\u001B[39;49m\u001B[43mgui\u001B[49m\u001B[38;5;241;43m.\u001B[39;49m\u001B[43mlower\u001B[49m\u001B[43m(\u001B[49m\u001B[43m)\u001B[49m\u001B[43m \u001B[49m\u001B[38;5;28;43;01mif\u001B[39;49;00m\u001B[43m \u001B[49m\u001B[38;5;28;43misinstance\u001B[39;49m\u001B[43m(\u001B[49m\u001B[43margs\u001B[49m\u001B[38;5;241;43m.\u001B[39;49m\u001B[43mgui\u001B[49m\u001B[43m,\u001B[49m\u001B[43m \u001B[49m\u001B[38;5;28;43mstr\u001B[39;49m\u001B[43m)\u001B[49m\u001B[43m \u001B[49m\u001B[38;5;28;43;01melse\u001B[39;49;00m\u001B[43m \u001B[49m\u001B[43margs\u001B[49m\u001B[38;5;241;43m.\u001B[39;49m\u001B[43mgui\u001B[49m\u001B[43m)\u001B[49m\n\u001B[1;32m    100\u001B[0m     \u001B[38;5;28mself\u001B[39m\u001B[38;5;241m.\u001B[39m_show_matplotlib_backend(args\u001B[38;5;241m.\u001B[39mgui, backend)\n",
      "File \u001B[0;32m/Library/Python/3.9/site-packages/IPython/core/interactiveshell.py:3458\u001B[0m, in \u001B[0;36mInteractiveShell.enable_matplotlib\u001B[0;34m(self, gui)\u001B[0m\n\u001B[1;32m   3437\u001B[0m \u001B[38;5;28;01mdef\u001B[39;00m \u001B[38;5;21menable_matplotlib\u001B[39m(\u001B[38;5;28mself\u001B[39m, gui\u001B[38;5;241m=\u001B[39m\u001B[38;5;28;01mNone\u001B[39;00m):\n\u001B[1;32m   3438\u001B[0m     \u001B[38;5;124;03m\"\"\"Enable interactive matplotlib and inline figure support.\u001B[39;00m\n\u001B[1;32m   3439\u001B[0m \n\u001B[1;32m   3440\u001B[0m \u001B[38;5;124;03m    This takes the following steps:\u001B[39;00m\n\u001B[0;32m   (...)\u001B[0m\n\u001B[1;32m   3456\u001B[0m \u001B[38;5;124;03m        display figures inline.\u001B[39;00m\n\u001B[1;32m   3457\u001B[0m \u001B[38;5;124;03m    \"\"\"\u001B[39;00m\n\u001B[0;32m-> 3458\u001B[0m     \u001B[38;5;28;01mfrom\u001B[39;00m \u001B[38;5;21;01mmatplotlib_inline\u001B[39;00m\u001B[38;5;21;01m.\u001B[39;00m\u001B[38;5;21;01mbackend_inline\u001B[39;00m \u001B[38;5;28;01mimport\u001B[39;00m configure_inline_support\n\u001B[1;32m   3460\u001B[0m     \u001B[38;5;28;01mfrom\u001B[39;00m \u001B[38;5;21;01mIPython\u001B[39;00m\u001B[38;5;21;01m.\u001B[39;00m\u001B[38;5;21;01mcore\u001B[39;00m \u001B[38;5;28;01mimport\u001B[39;00m pylabtools \u001B[38;5;28;01mas\u001B[39;00m pt\n\u001B[1;32m   3461\u001B[0m     gui, backend \u001B[38;5;241m=\u001B[39m pt\u001B[38;5;241m.\u001B[39mfind_gui_and_backend(gui, \u001B[38;5;28mself\u001B[39m\u001B[38;5;241m.\u001B[39mpylab_gui_select)\n",
      "File \u001B[0;32m/Library/Python/3.9/site-packages/matplotlib_inline/__init__.py:1\u001B[0m\n\u001B[0;32m----> 1\u001B[0m \u001B[38;5;28;01mfrom\u001B[39;00m \u001B[38;5;21;01m.\u001B[39;00m \u001B[38;5;28;01mimport\u001B[39;00m backend_inline, config  \u001B[38;5;66;03m# noqa\u001B[39;00m\n\u001B[1;32m      2\u001B[0m __version__ \u001B[38;5;241m=\u001B[39m \u001B[38;5;124m\"\u001B[39m\u001B[38;5;124m0.1.6\u001B[39m\u001B[38;5;124m\"\u001B[39m\n",
      "File \u001B[0;32m/Library/Python/3.9/site-packages/matplotlib_inline/backend_inline.py:6\u001B[0m\n\u001B[1;32m      1\u001B[0m \u001B[38;5;124;03m\"\"\"A matplotlib backend for publishing figures via display_data\"\"\"\u001B[39;00m\n\u001B[1;32m      3\u001B[0m \u001B[38;5;66;03m# Copyright (c) IPython Development Team.\u001B[39;00m\n\u001B[1;32m      4\u001B[0m \u001B[38;5;66;03m# Distributed under the terms of the BSD 3-Clause License.\u001B[39;00m\n\u001B[0;32m----> 6\u001B[0m \u001B[38;5;28;01mimport\u001B[39;00m \u001B[38;5;21;01mmatplotlib\u001B[39;00m\n\u001B[1;32m      7\u001B[0m \u001B[38;5;28;01mfrom\u001B[39;00m \u001B[38;5;21;01mmatplotlib\u001B[39;00m \u001B[38;5;28;01mimport\u001B[39;00m colors\n\u001B[1;32m      8\u001B[0m \u001B[38;5;28;01mfrom\u001B[39;00m \u001B[38;5;21;01mmatplotlib\u001B[39;00m\u001B[38;5;21;01m.\u001B[39;00m\u001B[38;5;21;01mbackends\u001B[39;00m \u001B[38;5;28;01mimport\u001B[39;00m backend_agg\n",
      "\u001B[0;31mModuleNotFoundError\u001B[0m: No module named 'matplotlib'"
     ]
    }
   ],
   "source": [
    "%matplotlib notebook\n",
    "# 2D data generated and meanshift used to find labels, cluster centers and amount of clusters\n",
    "from itertools import cycle\n",
    "from sklearn.datasets import make_blobs\n",
    "\n",
    "centers = [[2, 1], [0, 0], [1, -1]] # centers are now 2-d\n",
    "data_2d, _ = make_blobs(n_samples=2500, centers=centers, cluster_std=0.1)\n",
    "\n",
    "labels, cluster_centers, n_clusters = mean_shift(data_2d)\n",
    "\n",
    "# Plot the clusters in different colors\n",
    "fig = plt.figure()\n",
    "ax = fig.add_subplot(111)\n",
    "\n",
    "colors = cycle('bgrcmy')\n",
    "print(list(zip(range(3),colors)))\n",
    "for k, col in zip(range(n_clusters), colors):\n",
    "    my_members = (labels == k)\n",
    "    cluster_center = cluster_centers[k]\n",
    "    \n",
    "    x, y = data_2d[my_members,0], data_2d[my_members,1]\n",
    "    ax.scatter(x, y, c=col, linewidth=0.2)\n",
    "    ax.scatter(cluster_center[0], cluster_center[1], c='k', s=50, linewidth=0.2)\n",
    "    \n",
    "plt.title('Estimated number of clusters: {}'.format(n_clusters))"
   ]
  },
  {
   "cell_type": "code",
   "execution_count": null,
   "metadata": {
    "scrolled": false,
    "slideshow": {
     "slide_type": "subslide"
    }
   },
   "outputs": [],
   "source": [
    "%matplotlib notebook\n",
    "from itertools import cycle\n",
    "from mpl_toolkits.mplot3d import Axes3D\n",
    "\n",
    "# Same example with 3D data\n",
    "centers = [[2, 1, 0], [0, -1, -1], [1, -1, 3]]\n",
    "data_3d, _ = make_blobs(n_samples=2500, centers=centers, cluster_std=0.37)\n",
    "\n",
    "labels, cluster_centers, n_clusters = mean_shift(data_3d)\n",
    "\n",
    "fig = plt.figure()\n",
    "ax = fig.add_subplot(111, projection='3d')\n",
    "\n",
    "colors = cycle('bgrcmy')\n",
    "for k, col in zip(range(n_clusters), colors):\n",
    "    my_members = (labels == k)\n",
    "    cluster_center = cluster_centers[k]\n",
    "    \n",
    "    x, y, z = data_3d[my_members,0], data_3d[my_members,1], data_3d[my_members,2]\n",
    "    ax.scatter(x, y, z, c=col,  linewidth=0.2, alpha=0.1)\n",
    "    ax.scatter(cluster_center[0], cluster_center[1], cluster_center[2], s=150, c='k')\n",
    "    \n",
    "plt.title('Estimated number of clusters: {}'.format(n_clusters))\n",
    "plt.show()"
   ]
  },
  {
   "cell_type": "markdown",
   "metadata": {},
   "source": [
    "## The 3 iris flowers\n",
    "**Iris Setosa**\n",
    "<img src=\"https://upload.wikimedia.org/wikipedia/commons/thumb/5/56/Kosaciec_szczecinkowaty_Iris_setosa.jpg/440px-Kosaciec_szczecinkowaty_Iris_setosa.jpg\" alt=\"drawing\" width=\"200\"/>\n",
    "\n",
    "**Iris Versicolor**\n",
    "<img src=\"https://upload.wikimedia.org/wikipedia/commons/thumb/4/41/Iris_versicolor_3.jpg/440px-Iris_versicolor_3.jpg\" alt=\"drawing\" width=\"200\"/>\n",
    "**Iris Virginica**\n",
    "<img src=\"https://upload.wikimedia.org/wikipedia/commons/thumb/9/9f/Iris_virginica.jpg/440px-Iris_virginica.jpg\" alt=\"drawing\" width=\"200\"/>\n",
    "**Petals and Sepals**\n",
    "<img src=\"https://sebastianraschka.com/images/blog/2014/linear-discriminant-analysis/iris_petal_sepal.png\" alt=\"drawing\" width=\"200\"/>"
   ]
  },
  {
   "cell_type": "code",
   "execution_count": 1,
   "metadata": {},
   "outputs": [
    {
     "name": "stdout",
     "output_type": "stream",
     "text": [
      "Features: ['sepal length (cm)', 'sepal width (cm)', 'petal length (cm)', 'petal width (cm)']\n",
      "Data example:\n",
      "[[5.1 3.5 1.4 0.2]\n",
      " [4.9 3.  1.4 0.2]\n",
      " [4.7 3.2 1.3 0.2]]\n"
     ]
    }
   ],
   "source": [
    "# The data for the following exercise comes from sklearn.\n",
    "from sklearn import datasets\n",
    "iris = datasets.load_iris()\n",
    "data = iris.data\n",
    "target = iris.target\n",
    "flower_types = iris.target_names\n",
    "features = iris.feature_names\n",
    "print(f'Features: {features}\\nData example:\\n{data[:3]}')"
   ]
  },
  {
   "cell_type": "code",
   "execution_count": 2,
   "metadata": {},
   "outputs": [
    {
     "name": "stdout",
     "output_type": "stream",
     "text": [
      "Sepal length,Sepal width,Petal length,Petal width,Species\r\n",
      "\"5,10\",\"3,50\",\"1,40\",\"0,20\",I. setosa\r\n",
      "\"4,90\",\"3,00\",\"1,40\",\"0,20\",I. setosa\r\n",
      "\"4,70\",\"3,20\",\"1,30\",\"0,20\",I. setosa\r\n",
      "\"4,60\",\"3,10\",\"1,50\",\"0,20\",I. setosa\r\n",
      "\"5,00\",\"3,60\",\"1,40\",\"0,20\",I. setosa\r\n",
      "\"5,40\",\"3,90\",\"1,70\",\"0,40\",I. setosa\r\n",
      "\"4,60\",\"3,40\",\"1,40\",\"0,30\",I. setosa\r\n",
      "\"5,00\",\"3,40\",\"1,50\",\"0,20\",I. setosa\r\n",
      "\"4,40\",\"2,90\",\"1,40\",\"0,20\",I. setosa\r\n",
      "\"4,90\",\"3,10\",\"1,50\",\"0,10\",I. setosa\r\n",
      "\"5,40\",\"3,70\",\"1,50\",\"0,20\",I. setosa\r\n",
      "\"4,80\",\"3,40\",\"1,60\",\"0,20\",I. setosa\r\n",
      "\"4,80\",\"3,00\",\"1,40\",\"0,10\",I. setosa\r\n",
      "\"4,30\",\"3,00\",\"1,10\",\"0,10\",I. setosa\r\n",
      "\"5,80\",\"4,00\",\"1,20\",\"0,20\",I. setosa\r\n",
      "\"5,70\",\"4,40\",\"1,50\",\"0,40\",I. setosa\r\n",
      "\"5,40\",\"3,90\",\"1,30\",\"0,40\",I. setosa\r\n",
      "\"5,10\",\"3,50\",\"1,40\",\"0,30\",I. setosa\r\n",
      "\"5,70\",\"3,80\",\"1,70\",\"0,30\",I. setosa\r\n",
      "\"5,10\",\"3,80\",\"1,50\",\"0,30\",I. setosa\r\n",
      "\"5,40\",\"3,40\",\"1,70\",\"0,20\",I. setosa\r\n",
      "\"5,10\",\"3,70\",\"1,50\",\"0,40\",I. setosa\r\n",
      "\"4,60\",\"3,60\",\"1,00\",\"0,20\",I. setosa\r\n",
      "\"5,10\",\"3,30\",\"1,70\",\"0,50\",I. setosa\r\n",
      "\"4,80\",\"3,40\",\"1,90\",\"0,20\",I. setosa\r\n",
      "\"5,00\",\"3,00\",\"1,60\",\"0,20\",I. setosa\r\n",
      "\"5,00\",\"3,40\",\"1,60\",\"0,40\",I. setosa\r\n",
      "\"5,20\",\"3,50\",\"1,50\",\"0,20\",I. setosa\r\n",
      "\"5,20\",\"3,40\",\"1,40\",\"0,20\",I. setosa\r\n",
      "\"4,70\",\"3,20\",\"1,60\",\"0,20\",I. setosa\r\n",
      "\"4,80\",\"3,10\",\"1,60\",\"0,20\",I. setosa\r\n",
      "\"5,40\",\"3,40\",\"1,50\",\"0,40\",I. setosa\r\n",
      "\"5,20\",\"4,10\",\"1,50\",\"0,10\",I. setosa\r\n",
      "\"5,50\",\"4,20\",\"1,40\",\"0,20\",I. setosa\r\n",
      "\"4,90\",\"3,10\",\"1,50\",\"0,20\",I. setosa\r\n",
      "\"5,00\",\"3,20\",\"1,20\",\"0,20\",I. setosa\r\n",
      "\"5,50\",\"3,50\",\"1,30\",\"0,20\",I. setosa\r\n",
      "\"4,90\",\"3,60\",\"1,40\",\"0,10\",I. setosa\r\n",
      "\"4,40\",\"3,00\",\"1,30\",\"0,20\",I. setosa\r\n",
      "\"5,10\",\"3,40\",\"1,50\",\"0,20\",I. setosa\r\n",
      "\"5,00\",\"3,50\",\"1,30\",\"0,30\",I. setosa\r\n",
      "\"4,50\",\"2,30\",\"1,30\",\"0,30\",I. setosa\r\n",
      "\"4,40\",\"3,20\",\"1,30\",\"0,20\",I. setosa\r\n",
      "\"5,00\",\"3,50\",\"1,60\",\"0,60\",I. setosa\r\n",
      "\"5,10\",\"3,80\",\"1,90\",\"0,40\",I. setosa\r\n",
      "\"4,80\",\"3,00\",\"1,40\",\"0,30\",I. setosa\r\n",
      "\"5,10\",\"3,80\",\"1,60\",\"0,20\",I. setosa\r\n",
      "\"4,60\",\"3,20\",\"1,40\",\"0,20\",I. setosa\r\n",
      "\"5,30\",\"3,70\",\"1,50\",\"0,20\",I. setosa\r\n",
      "\"5,00\",\"3,30\",\"1,40\",\"0,20\",I. setosa\r\n",
      "\"7,00\",\"3,20\",\"4,70\",\"1,40\",I. versicolor\r\n",
      "\"6,40\",\"3,20\",\"4,50\",\"1,50\",I. versicolor\r\n",
      "\"6,90\",\"3,10\",\"4,90\",\"1,50\",I. versicolor\r\n",
      "\"5,50\",\"2,30\",\"4,00\",\"1,30\",I. versicolor\r\n",
      "\"6,50\",\"2,80\",\"4,60\",\"1,50\",I. versicolor\r\n",
      "\"5,70\",\"2,80\",\"4,50\",\"1,30\",I. versicolor\r\n",
      "\"6,30\",\"3,30\",\"4,70\",\"1,60\",I. versicolor\r\n",
      "\"4,90\",\"2,40\",\"3,30\",\"1,00\",I. versicolor\r\n",
      "\"6,60\",\"2,90\",\"4,60\",\"1,30\",I. versicolor\r\n",
      "\"5,20\",\"2,70\",\"3,90\",\"1,40\",I. versicolor\r\n",
      "\"5,00\",\"2,00\",\"3,50\",\"1,00\",I. versicolor\r\n",
      "\"5,90\",\"3,00\",\"4,20\",\"1,50\",I. versicolor\r\n",
      "\"6,00\",\"2,20\",\"4,00\",\"1,00\",I. versicolor\r\n",
      "\"6,10\",\"2,90\",\"4,70\",\"1,40\",I. versicolor\r\n",
      "\"5,60\",\"2,90\",\"3,60\",\"1,30\",I. versicolor\r\n",
      "\"6,70\",\"3,10\",\"4,40\",\"1,40\",I. versicolor\r\n",
      "\"5,60\",\"3,00\",\"4,50\",\"1,50\",I. versicolor\r\n",
      "\"5,80\",\"2,70\",\"4,10\",\"1,00\",I. versicolor\r\n",
      "\"6,20\",\"2,20\",\"4,50\",\"1,50\",I. versicolor\r\n",
      "\"5,60\",\"2,50\",\"3,90\",\"1,10\",I. versicolor\r\n",
      "\"5,90\",\"3,20\",\"4,80\",\"1,80\",I. versicolor\r\n",
      "\"6,10\",\"2,80\",\"4,00\",\"1,30\",I. versicolor\r\n",
      "\"6,30\",\"2,50\",\"4,90\",\"1,50\",I. versicolor\r\n",
      "\"6,10\",\"2,80\",\"4,70\",\"1,20\",I. versicolor\r\n",
      "\"6,40\",\"2,90\",\"4,30\",\"1,30\",I. versicolor\r\n",
      "\"6,60\",\"3,00\",\"4,40\",\"1,40\",I. versicolor\r\n",
      "\"6,80\",\"2,80\",\"4,80\",\"1,40\",I. versicolor\r\n",
      "\"6,70\",\"3,00\",\"5,00\",\"1,70\",I. versicolor\r\n",
      "\"6,00\",\"2,90\",\"4,50\",\"1,50\",I. versicolor\r\n",
      "\"5,70\",\"2,60\",\"3,50\",\"1,00\",I. versicolor\r\n",
      "\"5,50\",\"2,40\",\"3,80\",\"1,10\",I. versicolor\r\n",
      "\"5,50\",\"2,40\",\"3,70\",\"1,00\",I. versicolor\r\n",
      "\"5,80\",\"2,70\",\"3,90\",\"1,20\",I. versicolor\r\n",
      "\"6,00\",\"2,70\",\"5,10\",\"1,60\",I. versicolor\r\n",
      "\"5,40\",\"3,00\",\"4,50\",\"1,50\",I. versicolor\r\n",
      "\"6,00\",\"3,40\",\"4,50\",\"1,60\",I. versicolor\r\n",
      "\"6,70\",\"3,10\",\"4,70\",\"1,50\",I. versicolor\r\n",
      "\"6,30\",\"2,30\",\"4,40\",\"1,30\",I. versicolor\r\n",
      "\"5,60\",\"3,00\",\"4,10\",\"1,30\",I. versicolor\r\n",
      "\"5,50\",\"2,50\",\"4,00\",\"1,30\",I. versicolor\r\n",
      "\"5,50\",\"2,60\",\"4,40\",\"1,20\",I. versicolor\r\n",
      "\"6,10\",\"3,00\",\"4,60\",\"1,40\",I. versicolor\r\n",
      "\"5,80\",\"2,60\",\"4,00\",\"1,20\",I. versicolor\r\n",
      "\"5,00\",\"2,30\",\"3,30\",\"1,00\",I. versicolor\r\n",
      "\"5,60\",\"2,70\",\"4,20\",\"1,30\",I. versicolor\r\n",
      "\"5,70\",\"3,00\",\"4,20\",\"1,20\",I. versicolor\r\n",
      "\"5,70\",\"2,90\",\"4,20\",\"1,30\",I. versicolor\r\n",
      "\"6,20\",\"2,90\",\"4,30\",\"1,30\",I. versicolor\r\n",
      "\"5,10\",\"2,50\",\"3,00\",\"1,10\",I. versicolor\r\n",
      "\"5,70\",\"2,80\",\"4,10\",\"1,30\",I. versicolor\r\n",
      "\"6,30\",\"3,30\",\"6,00\",\"2,50\",I. virginica\r\n",
      "\"5,80\",\"2,70\",\"5,10\",\"1,90\",I. virginica\r\n",
      "\"7,10\",\"3,00\",\"5,90\",\"2,10\",I. virginica\r\n",
      "\"6,30\",\"2,90\",\"5,60\",\"1,80\",I. virginica\r\n",
      "\"6,50\",\"3,00\",\"5,80\",\"2,20\",I. virginica\r\n",
      "\"7,60\",\"3,00\",\"6,60\",\"2,10\",I. virginica\r\n",
      "\"4,90\",\"2,50\",\"4,50\",\"1,70\",I. virginica\r\n",
      "\"7,30\",\"2,90\",\"6,30\",\"1,80\",I. virginica\r\n",
      "\"6,70\",\"2,50\",\"5,80\",\"1,80\",I. virginica\r\n",
      "\"7,20\",\"3,60\",\"6,10\",\"2,50\",I. virginica\r\n",
      "\"6,50\",\"3,20\",\"5,10\",\"2,00\",I. virginica\r\n",
      "\"6,40\",\"2,70\",\"5,30\",\"1,90\",I. virginica\r\n",
      "\"6,80\",\"3,00\",\"5,50\",\"2,10\",I. virginica\r\n",
      "\"5,70\",\"2,50\",\"5,00\",\"2,00\",I. virginica\r\n",
      "\"5,80\",\"2,80\",\"5,10\",\"2,40\",I. virginica\r\n",
      "\"6,40\",\"3,20\",\"5,30\",\"2,30\",I. virginica\r\n",
      "\"6,50\",\"3,00\",\"5,50\",\"1,80\",I. virginica\r\n",
      "\"7,70\",\"3,80\",\"6,70\",\"2,20\",I. virginica\r\n",
      "\"7,70\",\"2,60\",\"6,90\",\"2,30\",I. virginica\r\n",
      "\"6,00\",\"2,20\",\"5,00\",\"1,50\",I. virginica\r\n",
      "\"6,90\",\"3,20\",\"5,70\",\"2,30\",I. virginica\r\n",
      "\"5,60\",\"2,80\",\"4,90\",\"2,00\",I. virginica\r\n",
      "\"7,70\",\"2,80\",\"6,70\",\"2,00\",I. virginica\r\n",
      "\"6,30\",\"2,70\",\"4,90\",\"1,80\",I. virginica\r\n",
      "\"6,70\",\"3,30\",\"5,70\",\"2,10\",I. virginica\r\n",
      "\"7,20\",\"3,20\",\"6,00\",\"1,80\",I. virginica\r\n",
      "\"6,20\",\"2,80\",\"4,80\",\"1,80\",I. virginica\r\n",
      "\"6,10\",\"3,00\",\"4,90\",\"1,80\",I. virginica\r\n",
      "\"6,40\",\"2,80\",\"5,60\",\"2,10\",I. virginica\r\n",
      "\"7,20\",\"3,00\",\"5,80\",\"1,60\",I. virginica\r\n",
      "\"7,40\",\"2,80\",\"6,10\",\"1,90\",I. virginica\r\n",
      "\"7,90\",\"3,80\",\"6,40\",\"2,00\",I. virginica\r\n",
      "\"6,40\",\"2,80\",\"5,60\",\"2,20\",I. virginica\r\n",
      "\"6,30\",\"2,80\",\"5,10\",\"1,50\",I. virginica\r\n",
      "\"6,10\",\"2,60\",\"5,60\",\"1,40\",I. virginica\r\n",
      "\"7,70\",\"3,00\",\"6,10\",\"2,30\",I. virginica\r\n",
      "\"6,30\",\"3,40\",\"5,60\",\"2,40\",I. virginica\r\n",
      "\"6,40\",\"3,10\",\"5,50\",\"1,80\",I. virginica\r\n",
      "\"6,00\",\"3,00\",\"4,80\",\"1,80\",I. virginica\r\n",
      "\"6,90\",\"3,10\",\"5,40\",\"2,10\",I. virginica\r\n",
      "\"6,70\",\"3,10\",\"5,60\",\"2,40\",I. virginica\r\n",
      "\"6,90\",\"3,10\",\"5,10\",\"2,30\",I. virginica\r\n",
      "\"5,80\",\"2,70\",\"5,10\",\"1,90\",I. virginica\r\n",
      "\"6,80\",\"3,20\",\"5,90\",\"2,30\",I. virginica\r\n",
      "\"6,70\",\"3,30\",\"5,70\",\"2,50\",I. virginica\r\n",
      "\"6,70\",\"3,00\",\"5,20\",\"2,30\",I. virginica\r\n",
      "\"6,30\",\"2,50\",\"5,00\",\"1,90\",I. virginica\r\n",
      "\"6,50\",\"3,00\",\"5,20\",\"2,00\",I. virginica\r\n",
      "\"6,20\",\"3,40\",\"5,40\",\"2,30\",I. virginica\r\n",
      "\"5,90\",\"3,00\",\"5,10\",\"1,80\",I. virginica\r\n"
     ]
    }
   ],
   "source": [
    "!cat data/iris_data.csv"
   ]
  },
  {
   "cell_type": "code",
   "execution_count": 3,
   "metadata": {},
   "outputs": [
    {
     "data": {
      "text/html": [
       "<div>\n",
       "<style scoped>\n",
       "    .dataframe tbody tr th:only-of-type {\n",
       "        vertical-align: middle;\n",
       "    }\n",
       "\n",
       "    .dataframe tbody tr th {\n",
       "        vertical-align: top;\n",
       "    }\n",
       "\n",
       "    .dataframe thead th {\n",
       "        text-align: right;\n",
       "    }\n",
       "</style>\n",
       "<table border=\"1\" class=\"dataframe\">\n",
       "  <thead>\n",
       "    <tr style=\"text-align: right;\">\n",
       "      <th></th>\n",
       "      <th>Sepal length</th>\n",
       "      <th>Sepal width</th>\n",
       "      <th>Petal length</th>\n",
       "      <th>Petal width</th>\n",
       "      <th>Species</th>\n",
       "    </tr>\n",
       "  </thead>\n",
       "  <tbody>\n",
       "    <tr>\n",
       "      <th>0</th>\n",
       "      <td>5,10</td>\n",
       "      <td>3,50</td>\n",
       "      <td>1,40</td>\n",
       "      <td>0,20</td>\n",
       "      <td>I. setosa</td>\n",
       "    </tr>\n",
       "    <tr>\n",
       "      <th>1</th>\n",
       "      <td>4,90</td>\n",
       "      <td>3,00</td>\n",
       "      <td>1,40</td>\n",
       "      <td>0,20</td>\n",
       "      <td>I. setosa</td>\n",
       "    </tr>\n",
       "    <tr>\n",
       "      <th>2</th>\n",
       "      <td>4,70</td>\n",
       "      <td>3,20</td>\n",
       "      <td>1,30</td>\n",
       "      <td>0,20</td>\n",
       "      <td>I. setosa</td>\n",
       "    </tr>\n",
       "    <tr>\n",
       "      <th>3</th>\n",
       "      <td>4,60</td>\n",
       "      <td>3,10</td>\n",
       "      <td>1,50</td>\n",
       "      <td>0,20</td>\n",
       "      <td>I. setosa</td>\n",
       "    </tr>\n",
       "    <tr>\n",
       "      <th>4</th>\n",
       "      <td>5,00</td>\n",
       "      <td>3,60</td>\n",
       "      <td>1,40</td>\n",
       "      <td>0,20</td>\n",
       "      <td>I. setosa</td>\n",
       "    </tr>\n",
       "  </tbody>\n",
       "</table>\n",
       "</div>"
      ],
      "text/plain": [
       "  Sepal length Sepal width Petal length Petal width    Species\n",
       "0         5,10        3,50         1,40        0,20  I. setosa\n",
       "1         4,90        3,00         1,40        0,20  I. setosa\n",
       "2         4,70        3,20         1,30        0,20  I. setosa\n",
       "3         4,60        3,10         1,50        0,20  I. setosa\n",
       "4         5,00        3,60         1,40        0,20  I. setosa"
      ]
     },
     "execution_count": 3,
     "metadata": {},
     "output_type": "execute_result"
    }
   ],
   "source": [
    "import pandas as pd\n",
    "iris = pd.read_csv('data/iris_data.csv')\n",
    "iris.head()"
   ]
  },
  {
   "attachments": {
    "image.png": {
     "image/png": "[encoded data removed]"
    }
   },
   "cell_type": "markdown",
   "metadata": {},
   "source": [
    "## Exercise meanshift\n",
    "1. load 'data/iris_data.csv' into a dataframe (use decimal=',') and remove the 2 `Petal` columns. Now we are left with a 2D feature space\n",
    "2. get unique labels (Species column)\n",
    "3. plot with a scatter plot each iris flower sample colored by label (3 different colors)\n",
    "![image.png](attachment:image.png)\n",
    "4. use: `MeanShift` and `estimate_bandwidth` from `sklearn.cluster` to first estimate bandwidth and then get the clusters (HINT: estimate_bandwidth() takes an argument: `quantile` set it to `0.2` for best result)\n",
    "5. print out labels, cluster centers and number of clusters (as returned from the MeanShift function)\n",
    "5. create a new scatter plot where each flower is colored according to cluster label\n",
    "6. add a dot for the cluster centers\n",
    "7. Compare the 2 plots (colored by actual labels vs. colored by cluster label)\n",
    "8. Try changing the 'quantile' argument to 0.15 and see what happens to your cluster plot."
   ]
  },
  {
   "cell_type": "markdown",
   "metadata": {
    "slideshow": {
     "slide_type": "subslide"
    }
   },
   "source": [
    "## Self study - image segmentation\n",
    "\n",
    "Image segmentation is typically used to locate objects and boundaries (lines, curves, etc.) in images. More precisely, image segmentation is the process of assigning a label to every pixel in an image such that pixels with the same label share certain characteristics. [Source]()https://en.wikipedia.org/wiki/Image_segmentation"
   ]
  },
  {
   "cell_type": "code",
   "execution_count": null,
   "metadata": {
    "slideshow": {
     "slide_type": "subslide"
    }
   },
   "outputs": [],
   "source": [
    "%matplotlib notebook\n",
    "import os\n",
    "import cv2\n",
    "from modules import webget\n",
    "\n",
    "# url = 'https://github.com/opencv/opencv/raw/master/samples/data/rubberwhale2.png'\n",
    "url = 'https://github.com/opencv/opencv/raw/master/samples/data/baboon.jpg'\n",
    "# url = 'https://github.com/mattnedrich/MeanShift_py/raw/master/sample_images/mean_shift_image.jpg'\n",
    "webget.download(url,'data/baboon.jpg')\n",
    "\n",
    "#img = cv2.imread(os.path.basename(url))\n",
    "img = cv2.imread('data/baboon.jpg')\n",
    "print(img)\n",
    "img = cv2.cvtColor(img, cv2.COLOR_BGR2RGB)\n",
    "height, width = img.shape[:2]\n",
    "\n",
    "plt.imshow(img, interpolation='none')"
   ]
  },
  {
   "cell_type": "markdown",
   "metadata": {},
   "source": [
    "![](data/baboon.jpg)"
   ]
  },
  {
   "cell_type": "code",
   "execution_count": null,
   "metadata": {
    "slideshow": {
     "slide_type": "subslide"
    }
   },
   "outputs": [],
   "source": [
    "# Using meanshift to cluster pixels in color image\n",
    "lab_image = cv2.cvtColor(img, cv2.COLOR_RGB2Lab)\n",
    "img = cv2.medianBlur(lab_image, 5)\n",
    "    \n",
    "img_lst = img.reshape((img.shape[0] * img.shape[1], 3))\n",
    "img_lst_orig = np.copy(img_lst) \n",
    "\n",
    "labels, cluster_centers, n_clusters = mean_shift(img_lst)\n",
    "\n",
    "label_img = labels.reshape(height, width)\n",
    "for l in range(n_clusters):\n",
    "    img[label_img == l] = cluster_centers[l]\n",
    "\n",
    "rgb_segments = cv2.cvtColor(img, cv2.COLOR_Lab2RGB)"
   ]
  },
  {
   "cell_type": "code",
   "execution_count": null,
   "metadata": {},
   "outputs": [],
   "source": [
    "plt.figure() \n",
    "plt.imshow(rgb_segments, interpolation='none')"
   ]
  },
  {
   "cell_type": "code",
   "execution_count": null,
   "metadata": {
    "slideshow": {
     "slide_type": "subslide"
    }
   },
   "outputs": [],
   "source": [
    "# Plot the segmentet pixel clusters\n",
    "from itertools import cycle\n",
    "\n",
    "labels, cluster_centers, n_clusters = mean_shift(img_lst_orig)\n",
    "\n",
    "fig = plt.figure()\n",
    "ax = fig.add_subplot(111, projection='3d')\n",
    "\n",
    "colors = cycle('cmybgr')\n",
    "for k, col in zip(range(n_clusters), colors):\n",
    "    my_members = (labels == k)\n",
    "    cluster_center = cluster_centers[k]\n",
    "    \n",
    "    x, y, z = img_lst_orig[my_members,0], img_lst_orig[my_members,1], img_lst_orig[my_members,2]\n",
    "    ax.scatter(x, y, z, c=col,  linewidth=0.2, alpha=0.1)\n",
    "    ax.scatter(cluster_center[0], cluster_center[1], cluster_center[2], s=150, c='k')\n",
    "    \n",
    "plt.title('Estimated number of clusters: {}'.format(n_clusters))\n",
    "plt.show()"
   ]
  },
  {
   "cell_type": "code",
   "execution_count": null,
   "metadata": {
    "slideshow": {
     "slide_type": "subslide"
    }
   },
   "outputs": [],
   "source": [
    "print(cluster_centers)"
   ]
  },
  {
   "cell_type": "markdown",
   "metadata": {
    "slideshow": {
     "slide_type": "subslide"
    }
   },
   "source": [
    "# Self study on meanshift\n",
    "\n",
    "  * http://stackoverflow.com/a/17912660\n",
    "  * http://www.chioka.in/meanshift-algorithm-for-the-rest-of-us-python/\n",
    "  * https://en.wikipedia.org/wiki/Mean_shift\n",
    "  * https://github.com/mattnedrich/MeanShift_py\n",
    "\n",
    "```bash\n",
    "git clone https://github.com/mattnedrich/MeanShift_py.git\n",
    "```\n",
    "\n",
    "http://stackoverflow.com/a/17912660 explaining the mean shift algorithm."
   ]
  }
 ],
 "metadata": {
  "celltoolbar": "Slideshow",
  "kernelspec": {
   "display_name": "Python 3",
   "language": "python",
   "name": "python3"
  },
  "language_info": {
   "codemirror_mode": {
    "name": "ipython",
    "version": 3
   },
   "file_extension": ".py",
   "mimetype": "text/x-python",
   "name": "python",
   "nbconvert_exporter": "python",
   "pygments_lexer": "ipython3",
   "version": "3.7.6"
  },
  "varInspector": {
   "cols": {
    "lenName": 16,
    "lenType": 16,
    "lenVar": 40
   },
   "kernels_config": {
    "python": {
     "delete_cmd_postfix": "",
     "delete_cmd_prefix": "del ",
     "library": "var_list.py",
     "varRefreshCmd": "print(var_dic_list())"
    },
    "r": {
     "delete_cmd_postfix": ") ",
     "delete_cmd_prefix": "rm(",
     "library": "var_list.r",
     "varRefreshCmd": "cat(var_dic_list()) "
    }
   },
   "types_to_exclude": [
    "module",
    "function",
    "builtin_function_or_method",
    "instance",
    "_Feature"
   ],
   "window_display": false
  }
 },
 "nbformat": 4,
 "nbformat_minor": 2
}
