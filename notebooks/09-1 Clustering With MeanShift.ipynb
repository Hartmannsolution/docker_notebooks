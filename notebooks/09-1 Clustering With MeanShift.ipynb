{
 "cells": [
  {
   "cell_type": "markdown",
   "metadata": {
    "slideshow": {
     "slide_type": "subslide"
    }
   },
   "source": [
    "# Clustering data\n",
    "Clustering is one of the 3 machine learning types we are working with in this course. Clustering data samples is something we do when we want to learn something from data that is unsupervized (Doesnt have a label). The starting point is therefore a set of data samples, that we without any categorization (we know nothing about the data from the outset)\n",
    "\n",
    "When we have unlabeled data we must use unsupervised learning techniques for our models like clustering data samples to find patterns and similarities in sample sub groups.\n",
    "\n",
    "## How do we find clusters?\n",
    "<img src=\"images/clusters.png\" width=300>\n",
    "\n",
    "Humans are quite good in quickly finding clusters when looking at the data visualizations above. The problem is, how to make a machine find clusters.\n",
    "\n",
    "http://scikit-learn.org/stable/auto_examples/cluster/plot_mean_shift.html#sphx-glr-auto-examples-cluster-plot-mean-shift-py"
   ]
  },
  {
   "cell_type": "markdown",
   "metadata": {},
   "source": [
    "## Meanshift\n",
    "One algorithm for finding cluster in a dataset is meanshift from sklearn.cluster.Meanshift  \n",
    "A key tool in working with meanshift is the concept of bandwith.\n",
    "#### Bandwith is the size of the cirle within which we analyze the data\n",
    "And the size of the circle is important because all data covered by the circle is evaluated with respect to density (the distance between one data point and the others). The window moves around to find the highest density in its population.\n",
    "\n",
    "Below shows how a circle window is moving into the center of a cluster\n",
    "![](images/meanshift.gif)\n",
    "The cirle window above would be one of many windows that are distributed over the feature space.\n",
    "The circle moves towards the highest density of feature vectors. The mean of the distance to each neighbour is calculated and the circle is moved to the mean value. This happens over several iterations untill all windows are finished moving. Finally all windows on same location are merged and all features are moved to neares cluster.\n",
    "\n",
    "Choosing initial number of windows, size of windows, distance between neighbours etc. \n",
    "![](https://i.stack.imgur.com/A871k.jpg)\n"
   ]
  },
  {
   "cell_type": "code",
   "execution_count": 1,
   "metadata": {
    "slideshow": {
     "slide_type": "subslide"
    }
   },
   "outputs": [
    {
     "name": "stdout",
     "output_type": "stream",
     "text": [
      "%pylab is deprecated, use %matplotlib inline and import the required libraries.\n",
      "Populating the interactive namespace from numpy and matplotlib\n"
     ]
    }
   ],
   "source": [
    "%pylab inline \n",
    "from sklearn.cluster import MeanShift, estimate_bandwidth\n",
    "# The bandwidth is the distance/size scale of the kernel function, i.e. \n",
    "# sklearn.cluster module offers an estimate_bandwith() function based on a nearest-neighbor analysis.\n",
    "# quantile should be between [0, 1] 0.5 means that the median of all pairwise distances is used\n",
    "# n_samples: default=None. The number of samples to use. If not given, all samples are used.\n",
    "\n",
    "\n",
    "def mean_shift(data, n_samples=1000):\n",
    "    bandwidth = estimate_bandwidth(data, quantile=0.2, \n",
    "                                   n_samples=n_samples)\n",
    "\n",
    "    ms = MeanShift(bandwidth=bandwidth) #, bin_seeding=True) # can be used to speed up process, since fewer kernels are created.\n",
    "    ms.fit(data)\n",
    "    labels = ms.labels_\n",
    "    cluster_centers = ms.cluster_centers_\n",
    "\n",
    "    labels_unique = np.unique(labels)\n",
    "    n_clusters = len(labels_unique)\n",
    "\n",
    "    print('Number of estimated clusters : {}'.format(n_clusters))\n",
    "    \n",
    "    return labels, cluster_centers, n_clusters"
   ]
  },
  {
   "cell_type": "markdown",
   "metadata": {},
   "source": [
    "## Create sample data for 2d and 3d feature spaces"
   ]
  },
  {
   "cell_type": "code",
   "execution_count": 3,
   "metadata": {
    "slideshow": {
     "slide_type": "subslide"
    }
   },
   "outputs": [
    {
     "name": "stdout",
     "output_type": "stream",
     "text": [
      "Number of estimated clusters : 3\n"
     ]
    },
    {
     "data": {
      "text/plain": "<IPython.core.display.Javascript object>",
      "application/javascript": "/* Put everything inside the global mpl namespace */\n/* global mpl */\nwindow.mpl = {};\n\nmpl.get_websocket_type = function () {\n    if (typeof WebSocket !== 'undefined') {\n        return WebSocket;\n    } else if (typeof MozWebSocket !== 'undefined') {\n        return MozWebSocket;\n    } else {\n        alert(\n            'Your browser does not have WebSocket support. ' +\n                'Please try Chrome, Safari or Firefox ≥ 6. ' +\n                'Firefox 4 and 5 are also supported but you ' +\n                'have to enable WebSockets in about:config.'\n        );\n    }\n};\n\nmpl.figure = function (figure_id, websocket, ondownload, parent_element) {\n    this.id = figure_id;\n\n    this.ws = websocket;\n\n    this.supports_binary = this.ws.binaryType !== undefined;\n\n    if (!this.supports_binary) {\n        var warnings = document.getElementById('mpl-warnings');\n        if (warnings) {\n            warnings.style.display = 'block';\n            warnings.textContent =\n                'This browser does not support binary websocket messages. ' +\n                'Performance may be slow.';\n        }\n    }\n\n    this.imageObj = new Image();\n\n    this.context = undefined;\n    this.message = undefined;\n    this.canvas = undefined;\n    this.rubberband_canvas = undefined;\n    this.rubberband_context = undefined;\n    this.format_dropdown = undefined;\n\n    this.image_mode = 'full';\n\n    this.root = document.createElement('div');\n    this.root.setAttribute('style', 'display: inline-block');\n    this._root_extra_style(this.root);\n\n    parent_element.appendChild(this.root);\n\n    this._init_header(this);\n    this._init_canvas(this);\n    this._init_toolbar(this);\n\n    var fig = this;\n\n    this.waiting = false;\n\n    this.ws.onopen = function () {\n        fig.send_message('supports_binary', { value: fig.supports_binary });\n        fig.send_message('send_image_mode', {});\n        if (fig.ratio !== 1) {\n            fig.send_message('set_device_pixel_ratio', {\n                device_pixel_ratio: fig.ratio,\n            });\n        }\n        fig.send_message('refresh', {});\n    };\n\n    this.imageObj.onload = function () {\n        if (fig.image_mode === 'full') {\n            // Full images could contain transparency (where diff images\n            // almost always do), so we need to clear the canvas so that\n            // there is no ghosting.\n            fig.context.clearRect(0, 0, fig.canvas.width, fig.canvas.height);\n        }\n        fig.context.drawImage(fig.imageObj, 0, 0);\n    };\n\n    this.imageObj.onunload = function () {\n        fig.ws.close();\n    };\n\n    this.ws.onmessage = this._make_on_message_function(this);\n\n    this.ondownload = ondownload;\n};\n\nmpl.figure.prototype._init_header = function () {\n    var titlebar = document.createElement('div');\n    titlebar.classList =\n        'ui-dialog-titlebar ui-widget-header ui-corner-all ui-helper-clearfix';\n    var titletext = document.createElement('div');\n    titletext.classList = 'ui-dialog-title';\n    titletext.setAttribute(\n        'style',\n        'width: 100%; text-align: center; padding: 3px;'\n    );\n    titlebar.appendChild(titletext);\n    this.root.appendChild(titlebar);\n    this.header = titletext;\n};\n\nmpl.figure.prototype._canvas_extra_style = function (_canvas_div) {};\n\nmpl.figure.prototype._root_extra_style = function (_canvas_div) {};\n\nmpl.figure.prototype._init_canvas = function () {\n    var fig = this;\n\n    var canvas_div = (this.canvas_div = document.createElement('div'));\n    canvas_div.setAttribute(\n        'style',\n        'border: 1px solid #ddd;' +\n            'box-sizing: content-box;' +\n            'clear: both;' +\n            'min-height: 1px;' +\n            'min-width: 1px;' +\n            'outline: 0;' +\n            'overflow: hidden;' +\n            'position: relative;' +\n            'resize: both;'\n    );\n\n    function on_keyboard_event_closure(name) {\n        return function (event) {\n            return fig.key_event(event, name);\n        };\n    }\n\n    canvas_div.addEventListener(\n        'keydown',\n        on_keyboard_event_closure('key_press')\n    );\n    canvas_div.addEventListener(\n        'keyup',\n        on_keyboard_event_closure('key_release')\n    );\n\n    this._canvas_extra_style(canvas_div);\n    this.root.appendChild(canvas_div);\n\n    var canvas = (this.canvas = document.createElement('canvas'));\n    canvas.classList.add('mpl-canvas');\n    canvas.setAttribute('style', 'box-sizing: content-box;');\n\n    this.context = canvas.getContext('2d');\n\n    var backingStore =\n        this.context.backingStorePixelRatio ||\n        this.context.webkitBackingStorePixelRatio ||\n        this.context.mozBackingStorePixelRatio ||\n        this.context.msBackingStorePixelRatio ||\n        this.context.oBackingStorePixelRatio ||\n        this.context.backingStorePixelRatio ||\n        1;\n\n    this.ratio = (window.devicePixelRatio || 1) / backingStore;\n\n    var rubberband_canvas = (this.rubberband_canvas = document.createElement(\n        'canvas'\n    ));\n    rubberband_canvas.setAttribute(\n        'style',\n        'box-sizing: content-box; position: absolute; left: 0; top: 0; z-index: 1;'\n    );\n\n    // Apply a ponyfill if ResizeObserver is not implemented by browser.\n    if (this.ResizeObserver === undefined) {\n        if (window.ResizeObserver !== undefined) {\n            this.ResizeObserver = window.ResizeObserver;\n        } else {\n            var obs = _JSXTOOLS_RESIZE_OBSERVER({});\n            this.ResizeObserver = obs.ResizeObserver;\n        }\n    }\n\n    this.resizeObserverInstance = new this.ResizeObserver(function (entries) {\n        var nentries = entries.length;\n        for (var i = 0; i < nentries; i++) {\n            var entry = entries[i];\n            var width, height;\n            if (entry.contentBoxSize) {\n                if (entry.contentBoxSize instanceof Array) {\n                    // Chrome 84 implements new version of spec.\n                    width = entry.contentBoxSize[0].inlineSize;\n                    height = entry.contentBoxSize[0].blockSize;\n                } else {\n                    // Firefox implements old version of spec.\n                    width = entry.contentBoxSize.inlineSize;\n                    height = entry.contentBoxSize.blockSize;\n                }\n            } else {\n                // Chrome <84 implements even older version of spec.\n                width = entry.contentRect.width;\n                height = entry.contentRect.height;\n            }\n\n            // Keep the size of the canvas and rubber band canvas in sync with\n            // the canvas container.\n            if (entry.devicePixelContentBoxSize) {\n                // Chrome 84 implements new version of spec.\n                canvas.setAttribute(\n                    'width',\n                    entry.devicePixelContentBoxSize[0].inlineSize\n                );\n                canvas.setAttribute(\n                    'height',\n                    entry.devicePixelContentBoxSize[0].blockSize\n                );\n            } else {\n                canvas.setAttribute('width', width * fig.ratio);\n                canvas.setAttribute('height', height * fig.ratio);\n            }\n            canvas.setAttribute(\n                'style',\n                'width: ' + width + 'px; height: ' + height + 'px;'\n            );\n\n            rubberband_canvas.setAttribute('width', width);\n            rubberband_canvas.setAttribute('height', height);\n\n            // And update the size in Python. We ignore the initial 0/0 size\n            // that occurs as the element is placed into the DOM, which should\n            // otherwise not happen due to the minimum size styling.\n            if (fig.ws.readyState == 1 && width != 0 && height != 0) {\n                fig.request_resize(width, height);\n            }\n        }\n    });\n    this.resizeObserverInstance.observe(canvas_div);\n\n    function on_mouse_event_closure(name) {\n        return function (event) {\n            return fig.mouse_event(event, name);\n        };\n    }\n\n    rubberband_canvas.addEventListener(\n        'mousedown',\n        on_mouse_event_closure('button_press')\n    );\n    rubberband_canvas.addEventListener(\n        'mouseup',\n        on_mouse_event_closure('button_release')\n    );\n    rubberband_canvas.addEventListener(\n        'dblclick',\n        on_mouse_event_closure('dblclick')\n    );\n    // Throttle sequential mouse events to 1 every 20ms.\n    rubberband_canvas.addEventListener(\n        'mousemove',\n        on_mouse_event_closure('motion_notify')\n    );\n\n    rubberband_canvas.addEventListener(\n        'mouseenter',\n        on_mouse_event_closure('figure_enter')\n    );\n    rubberband_canvas.addEventListener(\n        'mouseleave',\n        on_mouse_event_closure('figure_leave')\n    );\n\n    canvas_div.addEventListener('wheel', function (event) {\n        if (event.deltaY < 0) {\n            event.step = 1;\n        } else {\n            event.step = -1;\n        }\n        on_mouse_event_closure('scroll')(event);\n    });\n\n    canvas_div.appendChild(canvas);\n    canvas_div.appendChild(rubberband_canvas);\n\n    this.rubberband_context = rubberband_canvas.getContext('2d');\n    this.rubberband_context.strokeStyle = '#000000';\n\n    this._resize_canvas = function (width, height, forward) {\n        if (forward) {\n            canvas_div.style.width = width + 'px';\n            canvas_div.style.height = height + 'px';\n        }\n    };\n\n    // Disable right mouse context menu.\n    this.rubberband_canvas.addEventListener('contextmenu', function (_e) {\n        event.preventDefault();\n        return false;\n    });\n\n    function set_focus() {\n        canvas.focus();\n        canvas_div.focus();\n    }\n\n    window.setTimeout(set_focus, 100);\n};\n\nmpl.figure.prototype._init_toolbar = function () {\n    var fig = this;\n\n    var toolbar = document.createElement('div');\n    toolbar.classList = 'mpl-toolbar';\n    this.root.appendChild(toolbar);\n\n    function on_click_closure(name) {\n        return function (_event) {\n            return fig.toolbar_button_onclick(name);\n        };\n    }\n\n    function on_mouseover_closure(tooltip) {\n        return function (event) {\n            if (!event.currentTarget.disabled) {\n                return fig.toolbar_button_onmouseover(tooltip);\n            }\n        };\n    }\n\n    fig.buttons = {};\n    var buttonGroup = document.createElement('div');\n    buttonGroup.classList = 'mpl-button-group';\n    for (var toolbar_ind in mpl.toolbar_items) {\n        var name = mpl.toolbar_items[toolbar_ind][0];\n        var tooltip = mpl.toolbar_items[toolbar_ind][1];\n        var image = mpl.toolbar_items[toolbar_ind][2];\n        var method_name = mpl.toolbar_items[toolbar_ind][3];\n\n        if (!name) {\n            /* Instead of a spacer, we start a new button group. */\n            if (buttonGroup.hasChildNodes()) {\n                toolbar.appendChild(buttonGroup);\n            }\n            buttonGroup = document.createElement('div');\n            buttonGroup.classList = 'mpl-button-group';\n            continue;\n        }\n\n        var button = (fig.buttons[name] = document.createElement('button'));\n        button.classList = 'mpl-widget';\n        button.setAttribute('role', 'button');\n        button.setAttribute('aria-disabled', 'false');\n        button.addEventListener('click', on_click_closure(method_name));\n        button.addEventListener('mouseover', on_mouseover_closure(tooltip));\n\n        var icon_img = document.createElement('img');\n        icon_img.src = '_images/' + image + '.png';\n        icon_img.srcset = '_images/' + image + '_large.png 2x';\n        icon_img.alt = tooltip;\n        button.appendChild(icon_img);\n\n        buttonGroup.appendChild(button);\n    }\n\n    if (buttonGroup.hasChildNodes()) {\n        toolbar.appendChild(buttonGroup);\n    }\n\n    var fmt_picker = document.createElement('select');\n    fmt_picker.classList = 'mpl-widget';\n    toolbar.appendChild(fmt_picker);\n    this.format_dropdown = fmt_picker;\n\n    for (var ind in mpl.extensions) {\n        var fmt = mpl.extensions[ind];\n        var option = document.createElement('option');\n        option.selected = fmt === mpl.default_extension;\n        option.innerHTML = fmt;\n        fmt_picker.appendChild(option);\n    }\n\n    var status_bar = document.createElement('span');\n    status_bar.classList = 'mpl-message';\n    toolbar.appendChild(status_bar);\n    this.message = status_bar;\n};\n\nmpl.figure.prototype.request_resize = function (x_pixels, y_pixels) {\n    // Request matplotlib to resize the figure. Matplotlib will then trigger a resize in the client,\n    // which will in turn request a refresh of the image.\n    this.send_message('resize', { width: x_pixels, height: y_pixels });\n};\n\nmpl.figure.prototype.send_message = function (type, properties) {\n    properties['type'] = type;\n    properties['figure_id'] = this.id;\n    this.ws.send(JSON.stringify(properties));\n};\n\nmpl.figure.prototype.send_draw_message = function () {\n    if (!this.waiting) {\n        this.waiting = true;\n        this.ws.send(JSON.stringify({ type: 'draw', figure_id: this.id }));\n    }\n};\n\nmpl.figure.prototype.handle_save = function (fig, _msg) {\n    var format_dropdown = fig.format_dropdown;\n    var format = format_dropdown.options[format_dropdown.selectedIndex].value;\n    fig.ondownload(fig, format);\n};\n\nmpl.figure.prototype.handle_resize = function (fig, msg) {\n    var size = msg['size'];\n    if (size[0] !== fig.canvas.width || size[1] !== fig.canvas.height) {\n        fig._resize_canvas(size[0], size[1], msg['forward']);\n        fig.send_message('refresh', {});\n    }\n};\n\nmpl.figure.prototype.handle_rubberband = function (fig, msg) {\n    var x0 = msg['x0'] / fig.ratio;\n    var y0 = (fig.canvas.height - msg['y0']) / fig.ratio;\n    var x1 = msg['x1'] / fig.ratio;\n    var y1 = (fig.canvas.height - msg['y1']) / fig.ratio;\n    x0 = Math.floor(x0) + 0.5;\n    y0 = Math.floor(y0) + 0.5;\n    x1 = Math.floor(x1) + 0.5;\n    y1 = Math.floor(y1) + 0.5;\n    var min_x = Math.min(x0, x1);\n    var min_y = Math.min(y0, y1);\n    var width = Math.abs(x1 - x0);\n    var height = Math.abs(y1 - y0);\n\n    fig.rubberband_context.clearRect(\n        0,\n        0,\n        fig.canvas.width / fig.ratio,\n        fig.canvas.height / fig.ratio\n    );\n\n    fig.rubberband_context.strokeRect(min_x, min_y, width, height);\n};\n\nmpl.figure.prototype.handle_figure_label = function (fig, msg) {\n    // Updates the figure title.\n    fig.header.textContent = msg['label'];\n};\n\nmpl.figure.prototype.handle_cursor = function (fig, msg) {\n    fig.rubberband_canvas.style.cursor = msg['cursor'];\n};\n\nmpl.figure.prototype.handle_message = function (fig, msg) {\n    fig.message.textContent = msg['message'];\n};\n\nmpl.figure.prototype.handle_draw = function (fig, _msg) {\n    // Request the server to send over a new figure.\n    fig.send_draw_message();\n};\n\nmpl.figure.prototype.handle_image_mode = function (fig, msg) {\n    fig.image_mode = msg['mode'];\n};\n\nmpl.figure.prototype.handle_history_buttons = function (fig, msg) {\n    for (var key in msg) {\n        if (!(key in fig.buttons)) {\n            continue;\n        }\n        fig.buttons[key].disabled = !msg[key];\n        fig.buttons[key].setAttribute('aria-disabled', !msg[key]);\n    }\n};\n\nmpl.figure.prototype.handle_navigate_mode = function (fig, msg) {\n    if (msg['mode'] === 'PAN') {\n        fig.buttons['Pan'].classList.add('active');\n        fig.buttons['Zoom'].classList.remove('active');\n    } else if (msg['mode'] === 'ZOOM') {\n        fig.buttons['Pan'].classList.remove('active');\n        fig.buttons['Zoom'].classList.add('active');\n    } else {\n        fig.buttons['Pan'].classList.remove('active');\n        fig.buttons['Zoom'].classList.remove('active');\n    }\n};\n\nmpl.figure.prototype.updated_canvas_event = function () {\n    // Called whenever the canvas gets updated.\n    this.send_message('ack', {});\n};\n\n// A function to construct a web socket function for onmessage handling.\n// Called in the figure constructor.\nmpl.figure.prototype._make_on_message_function = function (fig) {\n    return function socket_on_message(evt) {\n        if (evt.data instanceof Blob) {\n            var img = evt.data;\n            if (img.type !== 'image/png') {\n                /* FIXME: We get \"Resource interpreted as Image but\n                 * transferred with MIME type text/plain:\" errors on\n                 * Chrome.  But how to set the MIME type?  It doesn't seem\n                 * to be part of the websocket stream */\n                img.type = 'image/png';\n            }\n\n            /* Free the memory for the previous frames */\n            if (fig.imageObj.src) {\n                (window.URL || window.webkitURL).revokeObjectURL(\n                    fig.imageObj.src\n                );\n            }\n\n            fig.imageObj.src = (window.URL || window.webkitURL).createObjectURL(\n                img\n            );\n            fig.updated_canvas_event();\n            fig.waiting = false;\n            return;\n        } else if (\n            typeof evt.data === 'string' &&\n            evt.data.slice(0, 21) === 'data:image/png;base64'\n        ) {\n            fig.imageObj.src = evt.data;\n            fig.updated_canvas_event();\n            fig.waiting = false;\n            return;\n        }\n\n        var msg = JSON.parse(evt.data);\n        var msg_type = msg['type'];\n\n        // Call the  \"handle_{type}\" callback, which takes\n        // the figure and JSON message as its only arguments.\n        try {\n            var callback = fig['handle_' + msg_type];\n        } catch (e) {\n            console.log(\n                \"No handler for the '\" + msg_type + \"' message type: \",\n                msg\n            );\n            return;\n        }\n\n        if (callback) {\n            try {\n                // console.log(\"Handling '\" + msg_type + \"' message: \", msg);\n                callback(fig, msg);\n            } catch (e) {\n                console.log(\n                    \"Exception inside the 'handler_\" + msg_type + \"' callback:\",\n                    e,\n                    e.stack,\n                    msg\n                );\n            }\n        }\n    };\n};\n\n// from https://stackoverflow.com/questions/1114465/getting-mouse-location-in-canvas\nmpl.findpos = function (e) {\n    //this section is from http://www.quirksmode.org/js/events_properties.html\n    var targ;\n    if (!e) {\n        e = window.event;\n    }\n    if (e.target) {\n        targ = e.target;\n    } else if (e.srcElement) {\n        targ = e.srcElement;\n    }\n    if (targ.nodeType === 3) {\n        // defeat Safari bug\n        targ = targ.parentNode;\n    }\n\n    // pageX,Y are the mouse positions relative to the document\n    var boundingRect = targ.getBoundingClientRect();\n    var x = e.pageX - (boundingRect.left + document.body.scrollLeft);\n    var y = e.pageY - (boundingRect.top + document.body.scrollTop);\n\n    return { x: x, y: y };\n};\n\n/*\n * return a copy of an object with only non-object keys\n * we need this to avoid circular references\n * https://stackoverflow.com/a/24161582/3208463\n */\nfunction simpleKeys(original) {\n    return Object.keys(original).reduce(function (obj, key) {\n        if (typeof original[key] !== 'object') {\n            obj[key] = original[key];\n        }\n        return obj;\n    }, {});\n}\n\nmpl.figure.prototype.mouse_event = function (event, name) {\n    var canvas_pos = mpl.findpos(event);\n\n    if (name === 'button_press') {\n        this.canvas.focus();\n        this.canvas_div.focus();\n    }\n\n    var x = canvas_pos.x * this.ratio;\n    var y = canvas_pos.y * this.ratio;\n\n    this.send_message(name, {\n        x: x,\n        y: y,\n        button: event.button,\n        step: event.step,\n        guiEvent: simpleKeys(event),\n    });\n\n    /* This prevents the web browser from automatically changing to\n     * the text insertion cursor when the button is pressed.  We want\n     * to control all of the cursor setting manually through the\n     * 'cursor' event from matplotlib */\n    event.preventDefault();\n    return false;\n};\n\nmpl.figure.prototype._key_event_extra = function (_event, _name) {\n    // Handle any extra behaviour associated with a key event\n};\n\nmpl.figure.prototype.key_event = function (event, name) {\n    // Prevent repeat events\n    if (name === 'key_press') {\n        if (event.key === this._key) {\n            return;\n        } else {\n            this._key = event.key;\n        }\n    }\n    if (name === 'key_release') {\n        this._key = null;\n    }\n\n    var value = '';\n    if (event.ctrlKey && event.key !== 'Control') {\n        value += 'ctrl+';\n    }\n    else if (event.altKey && event.key !== 'Alt') {\n        value += 'alt+';\n    }\n    else if (event.shiftKey && event.key !== 'Shift') {\n        value += 'shift+';\n    }\n\n    value += 'k' + event.key;\n\n    this._key_event_extra(event, name);\n\n    this.send_message(name, { key: value, guiEvent: simpleKeys(event) });\n    return false;\n};\n\nmpl.figure.prototype.toolbar_button_onclick = function (name) {\n    if (name === 'download') {\n        this.handle_save(this, null);\n    } else {\n        this.send_message('toolbar_button', { name: name });\n    }\n};\n\nmpl.figure.prototype.toolbar_button_onmouseover = function (tooltip) {\n    this.message.textContent = tooltip;\n};\n\n///////////////// REMAINING CONTENT GENERATED BY embed_js.py /////////////////\n// prettier-ignore\nvar _JSXTOOLS_RESIZE_OBSERVER=function(A){var t,i=new WeakMap,n=new WeakMap,a=new WeakMap,r=new WeakMap,o=new Set;function s(e){if(!(this instanceof s))throw new TypeError(\"Constructor requires 'new' operator\");i.set(this,e)}function h(){throw new TypeError(\"Function is not a constructor\")}function c(e,t,i,n){e=0 in arguments?Number(arguments[0]):0,t=1 in arguments?Number(arguments[1]):0,i=2 in arguments?Number(arguments[2]):0,n=3 in arguments?Number(arguments[3]):0,this.right=(this.x=this.left=e)+(this.width=i),this.bottom=(this.y=this.top=t)+(this.height=n),Object.freeze(this)}function d(){t=requestAnimationFrame(d);var s=new WeakMap,p=new Set;o.forEach((function(t){r.get(t).forEach((function(i){var r=t instanceof window.SVGElement,o=a.get(t),d=r?0:parseFloat(o.paddingTop),f=r?0:parseFloat(o.paddingRight),l=r?0:parseFloat(o.paddingBottom),u=r?0:parseFloat(o.paddingLeft),g=r?0:parseFloat(o.borderTopWidth),m=r?0:parseFloat(o.borderRightWidth),w=r?0:parseFloat(o.borderBottomWidth),b=u+f,F=d+l,v=(r?0:parseFloat(o.borderLeftWidth))+m,W=g+w,y=r?0:t.offsetHeight-W-t.clientHeight,E=r?0:t.offsetWidth-v-t.clientWidth,R=b+v,z=F+W,M=r?t.width:parseFloat(o.width)-R-E,O=r?t.height:parseFloat(o.height)-z-y;if(n.has(t)){var k=n.get(t);if(k[0]===M&&k[1]===O)return}n.set(t,[M,O]);var S=Object.create(h.prototype);S.target=t,S.contentRect=new c(u,d,M,O),s.has(i)||(s.set(i,[]),p.add(i)),s.get(i).push(S)}))})),p.forEach((function(e){i.get(e).call(e,s.get(e),e)}))}return s.prototype.observe=function(i){if(i instanceof window.Element){r.has(i)||(r.set(i,new Set),o.add(i),a.set(i,window.getComputedStyle(i)));var n=r.get(i);n.has(this)||n.add(this),cancelAnimationFrame(t),t=requestAnimationFrame(d)}},s.prototype.unobserve=function(i){if(i instanceof window.Element&&r.has(i)){var n=r.get(i);n.has(this)&&(n.delete(this),n.size||(r.delete(i),o.delete(i))),n.size||r.delete(i),o.size||cancelAnimationFrame(t)}},A.DOMRectReadOnly=c,A.ResizeObserver=s,A.ResizeObserverEntry=h,A}; // eslint-disable-line\nmpl.toolbar_items = [[\"Home\", \"Reset original view\", \"fa fa-home\", \"home\"], [\"Back\", \"Back to previous view\", \"fa fa-arrow-left\", \"back\"], [\"Forward\", \"Forward to next view\", \"fa fa-arrow-right\", \"forward\"], [\"\", \"\", \"\", \"\"], [\"Pan\", \"Left button pans, Right button zooms\\nx/y fixes axis, CTRL fixes aspect\", \"fa fa-arrows\", \"pan\"], [\"Zoom\", \"Zoom to rectangle\\nx/y fixes axis\", \"fa fa-square-o\", \"zoom\"], [\"\", \"\", \"\", \"\"], [\"Download\", \"Download plot\", \"fa fa-floppy-o\", \"download\"]];\n\nmpl.extensions = [\"eps\", \"jpeg\", \"pgf\", \"pdf\", \"png\", \"ps\", \"raw\", \"svg\", \"tif\", \"webp\"];\n\nmpl.default_extension = \"png\";/* global mpl */\n\nvar comm_websocket_adapter = function (comm) {\n    // Create a \"websocket\"-like object which calls the given IPython comm\n    // object with the appropriate methods. Currently this is a non binary\n    // socket, so there is still some room for performance tuning.\n    var ws = {};\n\n    ws.binaryType = comm.kernel.ws.binaryType;\n    ws.readyState = comm.kernel.ws.readyState;\n    function updateReadyState(_event) {\n        if (comm.kernel.ws) {\n            ws.readyState = comm.kernel.ws.readyState;\n        } else {\n            ws.readyState = 3; // Closed state.\n        }\n    }\n    comm.kernel.ws.addEventListener('open', updateReadyState);\n    comm.kernel.ws.addEventListener('close', updateReadyState);\n    comm.kernel.ws.addEventListener('error', updateReadyState);\n\n    ws.close = function () {\n        comm.close();\n    };\n    ws.send = function (m) {\n        //console.log('sending', m);\n        comm.send(m);\n    };\n    // Register the callback with on_msg.\n    comm.on_msg(function (msg) {\n        //console.log('receiving', msg['content']['data'], msg);\n        var data = msg['content']['data'];\n        if (data['blob'] !== undefined) {\n            data = {\n                data: new Blob(msg['buffers'], { type: data['blob'] }),\n            };\n        }\n        // Pass the mpl event to the overridden (by mpl) onmessage function.\n        ws.onmessage(data);\n    });\n    return ws;\n};\n\nmpl.mpl_figure_comm = function (comm, msg) {\n    // This is the function which gets called when the mpl process\n    // starts-up an IPython Comm through the \"matplotlib\" channel.\n\n    var id = msg.content.data.id;\n    // Get hold of the div created by the display call when the Comm\n    // socket was opened in Python.\n    var element = document.getElementById(id);\n    var ws_proxy = comm_websocket_adapter(comm);\n\n    function ondownload(figure, _format) {\n        window.open(figure.canvas.toDataURL());\n    }\n\n    var fig = new mpl.figure(id, ws_proxy, ondownload, element);\n\n    // Call onopen now - mpl needs it, as it is assuming we've passed it a real\n    // web socket which is closed, not our websocket->open comm proxy.\n    ws_proxy.onopen();\n\n    fig.parent_element = element;\n    fig.cell_info = mpl.find_output_cell(\"<div id='\" + id + \"'></div>\");\n    if (!fig.cell_info) {\n        console.error('Failed to find cell for figure', id, fig);\n        return;\n    }\n    fig.cell_info[0].output_area.element.on(\n        'cleared',\n        { fig: fig },\n        fig._remove_fig_handler\n    );\n};\n\nmpl.figure.prototype.handle_close = function (fig, msg) {\n    var width = fig.canvas.width / fig.ratio;\n    fig.cell_info[0].output_area.element.off(\n        'cleared',\n        fig._remove_fig_handler\n    );\n    fig.resizeObserverInstance.unobserve(fig.canvas_div);\n\n    // Update the output cell to use the data from the current canvas.\n    fig.push_to_output();\n    var dataURL = fig.canvas.toDataURL();\n    // Re-enable the keyboard manager in IPython - without this line, in FF,\n    // the notebook keyboard shortcuts fail.\n    IPython.keyboard_manager.enable();\n    fig.parent_element.innerHTML =\n        '<img src=\"' + dataURL + '\" width=\"' + width + '\">';\n    fig.close_ws(fig, msg);\n};\n\nmpl.figure.prototype.close_ws = function (fig, msg) {\n    fig.send_message('closing', msg);\n    // fig.ws.close()\n};\n\nmpl.figure.prototype.push_to_output = function (_remove_interactive) {\n    // Turn the data on the canvas into data in the output cell.\n    var width = this.canvas.width / this.ratio;\n    var dataURL = this.canvas.toDataURL();\n    this.cell_info[1]['text/html'] =\n        '<img src=\"' + dataURL + '\" width=\"' + width + '\">';\n};\n\nmpl.figure.prototype.updated_canvas_event = function () {\n    // Tell IPython that the notebook contents must change.\n    IPython.notebook.set_dirty(true);\n    this.send_message('ack', {});\n    var fig = this;\n    // Wait a second, then push the new image to the DOM so\n    // that it is saved nicely (might be nice to debounce this).\n    setTimeout(function () {\n        fig.push_to_output();\n    }, 1000);\n};\n\nmpl.figure.prototype._init_toolbar = function () {\n    var fig = this;\n\n    var toolbar = document.createElement('div');\n    toolbar.classList = 'btn-toolbar';\n    this.root.appendChild(toolbar);\n\n    function on_click_closure(name) {\n        return function (_event) {\n            return fig.toolbar_button_onclick(name);\n        };\n    }\n\n    function on_mouseover_closure(tooltip) {\n        return function (event) {\n            if (!event.currentTarget.disabled) {\n                return fig.toolbar_button_onmouseover(tooltip);\n            }\n        };\n    }\n\n    fig.buttons = {};\n    var buttonGroup = document.createElement('div');\n    buttonGroup.classList = 'btn-group';\n    var button;\n    for (var toolbar_ind in mpl.toolbar_items) {\n        var name = mpl.toolbar_items[toolbar_ind][0];\n        var tooltip = mpl.toolbar_items[toolbar_ind][1];\n        var image = mpl.toolbar_items[toolbar_ind][2];\n        var method_name = mpl.toolbar_items[toolbar_ind][3];\n\n        if (!name) {\n            /* Instead of a spacer, we start a new button group. */\n            if (buttonGroup.hasChildNodes()) {\n                toolbar.appendChild(buttonGroup);\n            }\n            buttonGroup = document.createElement('div');\n            buttonGroup.classList = 'btn-group';\n            continue;\n        }\n\n        button = fig.buttons[name] = document.createElement('button');\n        button.classList = 'btn btn-default';\n        button.href = '#';\n        button.title = name;\n        button.innerHTML = '<i class=\"fa ' + image + ' fa-lg\"></i>';\n        button.addEventListener('click', on_click_closure(method_name));\n        button.addEventListener('mouseover', on_mouseover_closure(tooltip));\n        buttonGroup.appendChild(button);\n    }\n\n    if (buttonGroup.hasChildNodes()) {\n        toolbar.appendChild(buttonGroup);\n    }\n\n    // Add the status bar.\n    var status_bar = document.createElement('span');\n    status_bar.classList = 'mpl-message pull-right';\n    toolbar.appendChild(status_bar);\n    this.message = status_bar;\n\n    // Add the close button to the window.\n    var buttongrp = document.createElement('div');\n    buttongrp.classList = 'btn-group inline pull-right';\n    button = document.createElement('button');\n    button.classList = 'btn btn-mini btn-primary';\n    button.href = '#';\n    button.title = 'Stop Interaction';\n    button.innerHTML = '<i class=\"fa fa-power-off icon-remove icon-large\"></i>';\n    button.addEventListener('click', function (_evt) {\n        fig.handle_close(fig, {});\n    });\n    button.addEventListener(\n        'mouseover',\n        on_mouseover_closure('Stop Interaction')\n    );\n    buttongrp.appendChild(button);\n    var titlebar = this.root.querySelector('.ui-dialog-titlebar');\n    titlebar.insertBefore(buttongrp, titlebar.firstChild);\n};\n\nmpl.figure.prototype._remove_fig_handler = function (event) {\n    var fig = event.data.fig;\n    if (event.target !== this) {\n        // Ignore bubbled events from children.\n        return;\n    }\n    fig.close_ws(fig, {});\n};\n\nmpl.figure.prototype._root_extra_style = function (el) {\n    el.style.boxSizing = 'content-box'; // override notebook setting of border-box.\n};\n\nmpl.figure.prototype._canvas_extra_style = function (el) {\n    // this is important to make the div 'focusable\n    el.setAttribute('tabindex', 0);\n    // reach out to IPython and tell the keyboard manager to turn it's self\n    // off when our div gets focus\n\n    // location in version 3\n    if (IPython.notebook.keyboard_manager) {\n        IPython.notebook.keyboard_manager.register_events(el);\n    } else {\n        // location in version 2\n        IPython.keyboard_manager.register_events(el);\n    }\n};\n\nmpl.figure.prototype._key_event_extra = function (event, _name) {\n    // Check for shift+enter\n    if (event.shiftKey && event.which === 13) {\n        this.canvas_div.blur();\n        // select the cell after this one\n        var index = IPython.notebook.find_cell_index(this.cell_info[0]);\n        IPython.notebook.select(index + 1);\n    }\n};\n\nmpl.figure.prototype.handle_save = function (fig, _msg) {\n    fig.ondownload(fig, null);\n};\n\nmpl.find_output_cell = function (html_output) {\n    // Return the cell and output element which can be found *uniquely* in the notebook.\n    // Note - this is a bit hacky, but it is done because the \"notebook_saving.Notebook\"\n    // IPython event is triggered only after the cells have been serialised, which for\n    // our purposes (turning an active figure into a static one), is too late.\n    var cells = IPython.notebook.get_cells();\n    var ncells = cells.length;\n    for (var i = 0; i < ncells; i++) {\n        var cell = cells[i];\n        if (cell.cell_type === 'code') {\n            for (var j = 0; j < cell.output_area.outputs.length; j++) {\n                var data = cell.output_area.outputs[j];\n                if (data.data) {\n                    // IPython >= 3 moved mimebundle to data attribute of output\n                    data = data.data;\n                }\n                if (data['text/html'] === html_output) {\n                    return [cell, data, j];\n                }\n            }\n        }\n    }\n};\n\n// Register the function which deals with the matplotlib target/channel.\n// The kernel may be null if the page has been refreshed.\nif (IPython.notebook.kernel !== null) {\n    IPython.notebook.kernel.comm_manager.register_target(\n        'matplotlib',\n        mpl.mpl_figure_comm\n    );\n}\n"
     },
     "metadata": {},
     "output_type": "display_data"
    },
    {
     "data": {
      "text/plain": "<IPython.core.display.HTML object>",
      "text/html": "<div id='8aaee056-1ec8-4f36-959f-c4d41c1a4d72'></div>"
     },
     "metadata": {},
     "output_type": "display_data"
    },
    {
     "name": "stdout",
     "output_type": "stream",
     "text": [
      "[(0, 'b'), (1, 'g'), (2, 'r')]\n"
     ]
    },
    {
     "data": {
      "text/plain": "Text(0.5, 1.0, 'Estimated number of clusters: 3')"
     },
     "execution_count": 3,
     "metadata": {},
     "output_type": "execute_result"
    }
   ],
   "source": [
    "from matplotlib import pyplot as plt\n",
    "%matplotlib notebook\n",
    "# 2D data generated and meanshift used to find labels, cluster centers and amount of clusters\n",
    "from itertools import cycle\n",
    "from sklearn.datasets import make_blobs\n",
    "\n",
    "centers = [[2, 1], [0, 0], [1, -1]] # centers are now 2-d\n",
    "data_2d, _ = make_blobs(n_samples=2500, centers=centers, cluster_std=0.1)\n",
    "\n",
    "labels, cluster_centers, n_clusters = mean_shift(data_2d)\n",
    "\n",
    "# Plot the clusters in different colors\n",
    "fig = plt.figure()\n",
    "ax = fig.add_subplot(111)\n",
    "\n",
    "colors = cycle('bgrcmy')\n",
    "print(list(zip(range(3),colors)))\n",
    "for k, col in zip(range(n_clusters), colors):\n",
    "    my_members = (labels == k)\n",
    "    cluster_center = cluster_centers[k]\n",
    "    \n",
    "    x, y = data_2d[my_members,0], data_2d[my_members,1]\n",
    "    ax.scatter(x, y, c=col, linewidth=0.2)\n",
    "    ax.scatter(cluster_center[0], cluster_center[1], c='k', s=50, linewidth=0.2)\n",
    "    \n",
    "plt.title('Estimated number of clusters: {}'.format(n_clusters))"
   ]
  },
  {
   "cell_type": "code",
   "execution_count": null,
   "metadata": {
    "scrolled": false,
    "slideshow": {
     "slide_type": "subslide"
    }
   },
   "outputs": [],
   "source": [
    "%matplotlib notebook\n",
    "from itertools import cycle\n",
    "from mpl_toolkits.mplot3d import Axes3D\n",
    "\n",
    "# Same example with 3D data\n",
    "centers = [[2, 1, 0], [0, -1, -1], [1, -1, 3]]\n",
    "data_3d, _ = make_blobs(n_samples=2500, centers=centers, cluster_std=0.37)\n",
    "\n",
    "labels, cluster_centers, n_clusters = mean_shift(data_3d)\n",
    "\n",
    "fig = plt.figure()\n",
    "ax = fig.add_subplot(111, projection='3d')\n",
    "\n",
    "colors = cycle('bgrcmy')\n",
    "for k, col in zip(range(n_clusters), colors):\n",
    "    my_members = (labels == k)\n",
    "    cluster_center = cluster_centers[k]\n",
    "    \n",
    "    x, y, z = data_3d[my_members,0], data_3d[my_members,1], data_3d[my_members,2]\n",
    "    ax.scatter(x, y, z, c=col,  linewidth=0.2, alpha=0.1)\n",
    "    ax.scatter(cluster_center[0], cluster_center[1], cluster_center[2], s=150, c='k')\n",
    "    \n",
    "plt.title('Estimated number of clusters: {}'.format(n_clusters))\n",
    "plt.show()"
   ]
  },
  {
   "cell_type": "markdown",
   "metadata": {},
   "source": [
    "## The 3 iris flowers\n",
    "**Iris Setosa**\n",
    "<img src=\"https://upload.wikimedia.org/wikipedia/commons/thumb/5/56/Kosaciec_szczecinkowaty_Iris_setosa.jpg/440px-Kosaciec_szczecinkowaty_Iris_setosa.jpg\" alt=\"drawing\" width=\"200\"/>\n",
    "\n",
    "**Iris Versicolor**\n",
    "<img src=\"https://upload.wikimedia.org/wikipedia/commons/thumb/4/41/Iris_versicolor_3.jpg/440px-Iris_versicolor_3.jpg\" alt=\"drawing\" width=\"200\"/>\n",
    "**Iris Virginica**\n",
    "<img src=\"https://upload.wikimedia.org/wikipedia/commons/thumb/9/9f/Iris_virginica.jpg/440px-Iris_virginica.jpg\" alt=\"drawing\" width=\"200\"/>\n",
    "**Petals and Sepals**\n",
    "<img src=\"https://sebastianraschka.com/images/blog/2014/linear-discriminant-analysis/iris_petal_sepal.png\" alt=\"drawing\" width=\"200\"/>"
   ]
  },
  {
   "cell_type": "code",
   "execution_count": 1,
   "metadata": {},
   "outputs": [
    {
     "name": "stdout",
     "output_type": "stream",
     "text": [
      "Features: ['sepal length (cm)', 'sepal width (cm)', 'petal length (cm)', 'petal width (cm)']\n",
      "Data example:\n",
      "[[5.1 3.5 1.4 0.2]\n",
      " [4.9 3.  1.4 0.2]\n",
      " [4.7 3.2 1.3 0.2]]\n"
     ]
    }
   ],
   "source": [
    "# The data for the following exercise comes from sklearn.\n",
    "from sklearn import datasets\n",
    "iris = datasets.load_iris()\n",
    "data = iris.data\n",
    "target = iris.target\n",
    "flower_types = iris.target_names\n",
    "features = iris.feature_names\n",
    "print(f'Features: {features}\\nData example:\\n{data[:3]}')"
   ]
  },
  {
   "cell_type": "code",
   "execution_count": 2,
   "metadata": {},
   "outputs": [
    {
     "name": "stdout",
     "output_type": "stream",
     "text": [
      "Sepal length,Sepal width,Petal length,Petal width,Species\r\n",
      "\"5,10\",\"3,50\",\"1,40\",\"0,20\",I. setosa\r\n",
      "\"4,90\",\"3,00\",\"1,40\",\"0,20\",I. setosa\r\n",
      "\"4,70\",\"3,20\",\"1,30\",\"0,20\",I. setosa\r\n",
      "\"4,60\",\"3,10\",\"1,50\",\"0,20\",I. setosa\r\n",
      "\"5,00\",\"3,60\",\"1,40\",\"0,20\",I. setosa\r\n",
      "\"5,40\",\"3,90\",\"1,70\",\"0,40\",I. setosa\r\n",
      "\"4,60\",\"3,40\",\"1,40\",\"0,30\",I. setosa\r\n",
      "\"5,00\",\"3,40\",\"1,50\",\"0,20\",I. setosa\r\n",
      "\"4,40\",\"2,90\",\"1,40\",\"0,20\",I. setosa\r\n",
      "\"4,90\",\"3,10\",\"1,50\",\"0,10\",I. setosa\r\n",
      "\"5,40\",\"3,70\",\"1,50\",\"0,20\",I. setosa\r\n",
      "\"4,80\",\"3,40\",\"1,60\",\"0,20\",I. setosa\r\n",
      "\"4,80\",\"3,00\",\"1,40\",\"0,10\",I. setosa\r\n",
      "\"4,30\",\"3,00\",\"1,10\",\"0,10\",I. setosa\r\n",
      "\"5,80\",\"4,00\",\"1,20\",\"0,20\",I. setosa\r\n",
      "\"5,70\",\"4,40\",\"1,50\",\"0,40\",I. setosa\r\n",
      "\"5,40\",\"3,90\",\"1,30\",\"0,40\",I. setosa\r\n",
      "\"5,10\",\"3,50\",\"1,40\",\"0,30\",I. setosa\r\n",
      "\"5,70\",\"3,80\",\"1,70\",\"0,30\",I. setosa\r\n",
      "\"5,10\",\"3,80\",\"1,50\",\"0,30\",I. setosa\r\n",
      "\"5,40\",\"3,40\",\"1,70\",\"0,20\",I. setosa\r\n",
      "\"5,10\",\"3,70\",\"1,50\",\"0,40\",I. setosa\r\n",
      "\"4,60\",\"3,60\",\"1,00\",\"0,20\",I. setosa\r\n",
      "\"5,10\",\"3,30\",\"1,70\",\"0,50\",I. setosa\r\n",
      "\"4,80\",\"3,40\",\"1,90\",\"0,20\",I. setosa\r\n",
      "\"5,00\",\"3,00\",\"1,60\",\"0,20\",I. setosa\r\n",
      "\"5,00\",\"3,40\",\"1,60\",\"0,40\",I. setosa\r\n",
      "\"5,20\",\"3,50\",\"1,50\",\"0,20\",I. setosa\r\n",
      "\"5,20\",\"3,40\",\"1,40\",\"0,20\",I. setosa\r\n",
      "\"4,70\",\"3,20\",\"1,60\",\"0,20\",I. setosa\r\n",
      "\"4,80\",\"3,10\",\"1,60\",\"0,20\",I. setosa\r\n",
      "\"5,40\",\"3,40\",\"1,50\",\"0,40\",I. setosa\r\n",
      "\"5,20\",\"4,10\",\"1,50\",\"0,10\",I. setosa\r\n",
      "\"5,50\",\"4,20\",\"1,40\",\"0,20\",I. setosa\r\n",
      "\"4,90\",\"3,10\",\"1,50\",\"0,20\",I. setosa\r\n",
      "\"5,00\",\"3,20\",\"1,20\",\"0,20\",I. setosa\r\n",
      "\"5,50\",\"3,50\",\"1,30\",\"0,20\",I. setosa\r\n",
      "\"4,90\",\"3,60\",\"1,40\",\"0,10\",I. setosa\r\n",
      "\"4,40\",\"3,00\",\"1,30\",\"0,20\",I. setosa\r\n",
      "\"5,10\",\"3,40\",\"1,50\",\"0,20\",I. setosa\r\n",
      "\"5,00\",\"3,50\",\"1,30\",\"0,30\",I. setosa\r\n",
      "\"4,50\",\"2,30\",\"1,30\",\"0,30\",I. setosa\r\n",
      "\"4,40\",\"3,20\",\"1,30\",\"0,20\",I. setosa\r\n",
      "\"5,00\",\"3,50\",\"1,60\",\"0,60\",I. setosa\r\n",
      "\"5,10\",\"3,80\",\"1,90\",\"0,40\",I. setosa\r\n",
      "\"4,80\",\"3,00\",\"1,40\",\"0,30\",I. setosa\r\n",
      "\"5,10\",\"3,80\",\"1,60\",\"0,20\",I. setosa\r\n",
      "\"4,60\",\"3,20\",\"1,40\",\"0,20\",I. setosa\r\n",
      "\"5,30\",\"3,70\",\"1,50\",\"0,20\",I. setosa\r\n",
      "\"5,00\",\"3,30\",\"1,40\",\"0,20\",I. setosa\r\n",
      "\"7,00\",\"3,20\",\"4,70\",\"1,40\",I. versicolor\r\n",
      "\"6,40\",\"3,20\",\"4,50\",\"1,50\",I. versicolor\r\n",
      "\"6,90\",\"3,10\",\"4,90\",\"1,50\",I. versicolor\r\n",
      "\"5,50\",\"2,30\",\"4,00\",\"1,30\",I. versicolor\r\n",
      "\"6,50\",\"2,80\",\"4,60\",\"1,50\",I. versicolor\r\n",
      "\"5,70\",\"2,80\",\"4,50\",\"1,30\",I. versicolor\r\n",
      "\"6,30\",\"3,30\",\"4,70\",\"1,60\",I. versicolor\r\n",
      "\"4,90\",\"2,40\",\"3,30\",\"1,00\",I. versicolor\r\n",
      "\"6,60\",\"2,90\",\"4,60\",\"1,30\",I. versicolor\r\n",
      "\"5,20\",\"2,70\",\"3,90\",\"1,40\",I. versicolor\r\n",
      "\"5,00\",\"2,00\",\"3,50\",\"1,00\",I. versicolor\r\n",
      "\"5,90\",\"3,00\",\"4,20\",\"1,50\",I. versicolor\r\n",
      "\"6,00\",\"2,20\",\"4,00\",\"1,00\",I. versicolor\r\n",
      "\"6,10\",\"2,90\",\"4,70\",\"1,40\",I. versicolor\r\n",
      "\"5,60\",\"2,90\",\"3,60\",\"1,30\",I. versicolor\r\n",
      "\"6,70\",\"3,10\",\"4,40\",\"1,40\",I. versicolor\r\n",
      "\"5,60\",\"3,00\",\"4,50\",\"1,50\",I. versicolor\r\n",
      "\"5,80\",\"2,70\",\"4,10\",\"1,00\",I. versicolor\r\n",
      "\"6,20\",\"2,20\",\"4,50\",\"1,50\",I. versicolor\r\n",
      "\"5,60\",\"2,50\",\"3,90\",\"1,10\",I. versicolor\r\n",
      "\"5,90\",\"3,20\",\"4,80\",\"1,80\",I. versicolor\r\n",
      "\"6,10\",\"2,80\",\"4,00\",\"1,30\",I. versicolor\r\n",
      "\"6,30\",\"2,50\",\"4,90\",\"1,50\",I. versicolor\r\n",
      "\"6,10\",\"2,80\",\"4,70\",\"1,20\",I. versicolor\r\n",
      "\"6,40\",\"2,90\",\"4,30\",\"1,30\",I. versicolor\r\n",
      "\"6,60\",\"3,00\",\"4,40\",\"1,40\",I. versicolor\r\n",
      "\"6,80\",\"2,80\",\"4,80\",\"1,40\",I. versicolor\r\n",
      "\"6,70\",\"3,00\",\"5,00\",\"1,70\",I. versicolor\r\n",
      "\"6,00\",\"2,90\",\"4,50\",\"1,50\",I. versicolor\r\n",
      "\"5,70\",\"2,60\",\"3,50\",\"1,00\",I. versicolor\r\n",
      "\"5,50\",\"2,40\",\"3,80\",\"1,10\",I. versicolor\r\n",
      "\"5,50\",\"2,40\",\"3,70\",\"1,00\",I. versicolor\r\n",
      "\"5,80\",\"2,70\",\"3,90\",\"1,20\",I. versicolor\r\n",
      "\"6,00\",\"2,70\",\"5,10\",\"1,60\",I. versicolor\r\n",
      "\"5,40\",\"3,00\",\"4,50\",\"1,50\",I. versicolor\r\n",
      "\"6,00\",\"3,40\",\"4,50\",\"1,60\",I. versicolor\r\n",
      "\"6,70\",\"3,10\",\"4,70\",\"1,50\",I. versicolor\r\n",
      "\"6,30\",\"2,30\",\"4,40\",\"1,30\",I. versicolor\r\n",
      "\"5,60\",\"3,00\",\"4,10\",\"1,30\",I. versicolor\r\n",
      "\"5,50\",\"2,50\",\"4,00\",\"1,30\",I. versicolor\r\n",
      "\"5,50\",\"2,60\",\"4,40\",\"1,20\",I. versicolor\r\n",
      "\"6,10\",\"3,00\",\"4,60\",\"1,40\",I. versicolor\r\n",
      "\"5,80\",\"2,60\",\"4,00\",\"1,20\",I. versicolor\r\n",
      "\"5,00\",\"2,30\",\"3,30\",\"1,00\",I. versicolor\r\n",
      "\"5,60\",\"2,70\",\"4,20\",\"1,30\",I. versicolor\r\n",
      "\"5,70\",\"3,00\",\"4,20\",\"1,20\",I. versicolor\r\n",
      "\"5,70\",\"2,90\",\"4,20\",\"1,30\",I. versicolor\r\n",
      "\"6,20\",\"2,90\",\"4,30\",\"1,30\",I. versicolor\r\n",
      "\"5,10\",\"2,50\",\"3,00\",\"1,10\",I. versicolor\r\n",
      "\"5,70\",\"2,80\",\"4,10\",\"1,30\",I. versicolor\r\n",
      "\"6,30\",\"3,30\",\"6,00\",\"2,50\",I. virginica\r\n",
      "\"5,80\",\"2,70\",\"5,10\",\"1,90\",I. virginica\r\n",
      "\"7,10\",\"3,00\",\"5,90\",\"2,10\",I. virginica\r\n",
      "\"6,30\",\"2,90\",\"5,60\",\"1,80\",I. virginica\r\n",
      "\"6,50\",\"3,00\",\"5,80\",\"2,20\",I. virginica\r\n",
      "\"7,60\",\"3,00\",\"6,60\",\"2,10\",I. virginica\r\n",
      "\"4,90\",\"2,50\",\"4,50\",\"1,70\",I. virginica\r\n",
      "\"7,30\",\"2,90\",\"6,30\",\"1,80\",I. virginica\r\n",
      "\"6,70\",\"2,50\",\"5,80\",\"1,80\",I. virginica\r\n",
      "\"7,20\",\"3,60\",\"6,10\",\"2,50\",I. virginica\r\n",
      "\"6,50\",\"3,20\",\"5,10\",\"2,00\",I. virginica\r\n",
      "\"6,40\",\"2,70\",\"5,30\",\"1,90\",I. virginica\r\n",
      "\"6,80\",\"3,00\",\"5,50\",\"2,10\",I. virginica\r\n",
      "\"5,70\",\"2,50\",\"5,00\",\"2,00\",I. virginica\r\n",
      "\"5,80\",\"2,80\",\"5,10\",\"2,40\",I. virginica\r\n",
      "\"6,40\",\"3,20\",\"5,30\",\"2,30\",I. virginica\r\n",
      "\"6,50\",\"3,00\",\"5,50\",\"1,80\",I. virginica\r\n",
      "\"7,70\",\"3,80\",\"6,70\",\"2,20\",I. virginica\r\n",
      "\"7,70\",\"2,60\",\"6,90\",\"2,30\",I. virginica\r\n",
      "\"6,00\",\"2,20\",\"5,00\",\"1,50\",I. virginica\r\n",
      "\"6,90\",\"3,20\",\"5,70\",\"2,30\",I. virginica\r\n",
      "\"5,60\",\"2,80\",\"4,90\",\"2,00\",I. virginica\r\n",
      "\"7,70\",\"2,80\",\"6,70\",\"2,00\",I. virginica\r\n",
      "\"6,30\",\"2,70\",\"4,90\",\"1,80\",I. virginica\r\n",
      "\"6,70\",\"3,30\",\"5,70\",\"2,10\",I. virginica\r\n",
      "\"7,20\",\"3,20\",\"6,00\",\"1,80\",I. virginica\r\n",
      "\"6,20\",\"2,80\",\"4,80\",\"1,80\",I. virginica\r\n",
      "\"6,10\",\"3,00\",\"4,90\",\"1,80\",I. virginica\r\n",
      "\"6,40\",\"2,80\",\"5,60\",\"2,10\",I. virginica\r\n",
      "\"7,20\",\"3,00\",\"5,80\",\"1,60\",I. virginica\r\n",
      "\"7,40\",\"2,80\",\"6,10\",\"1,90\",I. virginica\r\n",
      "\"7,90\",\"3,80\",\"6,40\",\"2,00\",I. virginica\r\n",
      "\"6,40\",\"2,80\",\"5,60\",\"2,20\",I. virginica\r\n",
      "\"6,30\",\"2,80\",\"5,10\",\"1,50\",I. virginica\r\n",
      "\"6,10\",\"2,60\",\"5,60\",\"1,40\",I. virginica\r\n",
      "\"7,70\",\"3,00\",\"6,10\",\"2,30\",I. virginica\r\n",
      "\"6,30\",\"3,40\",\"5,60\",\"2,40\",I. virginica\r\n",
      "\"6,40\",\"3,10\",\"5,50\",\"1,80\",I. virginica\r\n",
      "\"6,00\",\"3,00\",\"4,80\",\"1,80\",I. virginica\r\n",
      "\"6,90\",\"3,10\",\"5,40\",\"2,10\",I. virginica\r\n",
      "\"6,70\",\"3,10\",\"5,60\",\"2,40\",I. virginica\r\n",
      "\"6,90\",\"3,10\",\"5,10\",\"2,30\",I. virginica\r\n",
      "\"5,80\",\"2,70\",\"5,10\",\"1,90\",I. virginica\r\n",
      "\"6,80\",\"3,20\",\"5,90\",\"2,30\",I. virginica\r\n",
      "\"6,70\",\"3,30\",\"5,70\",\"2,50\",I. virginica\r\n",
      "\"6,70\",\"3,00\",\"5,20\",\"2,30\",I. virginica\r\n",
      "\"6,30\",\"2,50\",\"5,00\",\"1,90\",I. virginica\r\n",
      "\"6,50\",\"3,00\",\"5,20\",\"2,00\",I. virginica\r\n",
      "\"6,20\",\"3,40\",\"5,40\",\"2,30\",I. virginica\r\n",
      "\"5,90\",\"3,00\",\"5,10\",\"1,80\",I. virginica\r\n"
     ]
    }
   ],
   "source": [
    "!cat data/iris_data.csv"
   ]
  },
  {
   "cell_type": "code",
   "execution_count": 3,
   "metadata": {},
   "outputs": [
    {
     "data": {
      "text/html": [
       "<div>\n",
       "<style scoped>\n",
       "    .dataframe tbody tr th:only-of-type {\n",
       "        vertical-align: middle;\n",
       "    }\n",
       "\n",
       "    .dataframe tbody tr th {\n",
       "        vertical-align: top;\n",
       "    }\n",
       "\n",
       "    .dataframe thead th {\n",
       "        text-align: right;\n",
       "    }\n",
       "</style>\n",
       "<table border=\"1\" class=\"dataframe\">\n",
       "  <thead>\n",
       "    <tr style=\"text-align: right;\">\n",
       "      <th></th>\n",
       "      <th>Sepal length</th>\n",
       "      <th>Sepal width</th>\n",
       "      <th>Petal length</th>\n",
       "      <th>Petal width</th>\n",
       "      <th>Species</th>\n",
       "    </tr>\n",
       "  </thead>\n",
       "  <tbody>\n",
       "    <tr>\n",
       "      <th>0</th>\n",
       "      <td>5,10</td>\n",
       "      <td>3,50</td>\n",
       "      <td>1,40</td>\n",
       "      <td>0,20</td>\n",
       "      <td>I. setosa</td>\n",
       "    </tr>\n",
       "    <tr>\n",
       "      <th>1</th>\n",
       "      <td>4,90</td>\n",
       "      <td>3,00</td>\n",
       "      <td>1,40</td>\n",
       "      <td>0,20</td>\n",
       "      <td>I. setosa</td>\n",
       "    </tr>\n",
       "    <tr>\n",
       "      <th>2</th>\n",
       "      <td>4,70</td>\n",
       "      <td>3,20</td>\n",
       "      <td>1,30</td>\n",
       "      <td>0,20</td>\n",
       "      <td>I. setosa</td>\n",
       "    </tr>\n",
       "    <tr>\n",
       "      <th>3</th>\n",
       "      <td>4,60</td>\n",
       "      <td>3,10</td>\n",
       "      <td>1,50</td>\n",
       "      <td>0,20</td>\n",
       "      <td>I. setosa</td>\n",
       "    </tr>\n",
       "    <tr>\n",
       "      <th>4</th>\n",
       "      <td>5,00</td>\n",
       "      <td>3,60</td>\n",
       "      <td>1,40</td>\n",
       "      <td>0,20</td>\n",
       "      <td>I. setosa</td>\n",
       "    </tr>\n",
       "  </tbody>\n",
       "</table>\n",
       "</div>"
      ],
      "text/plain": [
       "  Sepal length Sepal width Petal length Petal width    Species\n",
       "0         5,10        3,50         1,40        0,20  I. setosa\n",
       "1         4,90        3,00         1,40        0,20  I. setosa\n",
       "2         4,70        3,20         1,30        0,20  I. setosa\n",
       "3         4,60        3,10         1,50        0,20  I. setosa\n",
       "4         5,00        3,60         1,40        0,20  I. setosa"
      ]
     },
     "execution_count": 3,
     "metadata": {},
     "output_type": "execute_result"
    }
   ],
   "source": [
    "import pandas as pd\n",
    "iris = pd.read_csv('data/iris_data.csv')\n",
    "iris.head()"
   ]
  },
  {
   "attachments": {
    "image.png": {
     "image/png": "[encoded data removed]"
    }
   },
   "cell_type": "markdown",
   "metadata": {},
   "source": [
    "## Exercise meanshift\n",
    "1. load 'data/iris_data.csv' into a dataframe (use decimal=',') and remove the 2 `Petal` columns. Now we are left with a 2D feature space\n",
    "2. get unique labels (Species column)\n",
    "3. plot with a scatter plot each iris flower sample colored by label (3 different colors)\n",
    "![image.png](attachment:image.png)\n",
    "4. use: `MeanShift` and `estimate_bandwidth` from `sklearn.cluster` to first estimate bandwidth and then get the clusters (HINT: estimate_bandwidth() takes an argument: `quantile` set it to `0.2` for best result)\n",
    "5. print out labels, cluster centers and number of clusters (as returned from the MeanShift function)\n",
    "5. create a new scatter plot where each flower is colored according to cluster label\n",
    "6. add a dot for the cluster centers\n",
    "7. Compare the 2 plots (colored by actual labels vs. colored by cluster label)\n",
    "8. Try changing the 'quantile' argument to 0.15 and see what happens to your cluster plot."
   ]
  },
  {
   "cell_type": "markdown",
   "metadata": {
    "slideshow": {
     "slide_type": "subslide"
    }
   },
   "source": [
    "## Self study - image segmentation\n",
    "\n",
    "Image segmentation is typically used to locate objects and boundaries (lines, curves, etc.) in images. More precisely, image segmentation is the process of assigning a label to every pixel in an image such that pixels with the same label share certain characteristics. [Source]()https://en.wikipedia.org/wiki/Image_segmentation"
   ]
  },
  {
   "cell_type": "code",
   "execution_count": null,
   "metadata": {
    "slideshow": {
     "slide_type": "subslide"
    }
   },
   "outputs": [],
   "source": [
    "%matplotlib notebook\n",
    "import os\n",
    "import cv2\n",
    "from modules import webget\n",
    "\n",
    "# url = 'https://github.com/opencv/opencv/raw/master/samples/data/rubberwhale2.png'\n",
    "url = 'https://github.com/opencv/opencv/raw/master/samples/data/baboon.jpg'\n",
    "# url = 'https://github.com/mattnedrich/MeanShift_py/raw/master/sample_images/mean_shift_image.jpg'\n",
    "webget.download(url,'data/baboon.jpg')\n",
    "\n",
    "#img = cv2.imread(os.path.basename(url))\n",
    "img = cv2.imread('data/baboon.jpg')\n",
    "print(img)\n",
    "img = cv2.cvtColor(img, cv2.COLOR_BGR2RGB)\n",
    "height, width = img.shape[:2]\n",
    "\n",
    "plt.imshow(img, interpolation='none')"
   ]
  },
  {
   "cell_type": "markdown",
   "metadata": {},
   "source": [
    "![](data/baboon.jpg)"
   ]
  },
  {
   "cell_type": "code",
   "execution_count": null,
   "metadata": {
    "slideshow": {
     "slide_type": "subslide"
    }
   },
   "outputs": [],
   "source": [
    "# Using meanshift to cluster pixels in color image\n",
    "lab_image = cv2.cvtColor(img, cv2.COLOR_RGB2Lab)\n",
    "img = cv2.medianBlur(lab_image, 5)\n",
    "    \n",
    "img_lst = img.reshape((img.shape[0] * img.shape[1], 3))\n",
    "img_lst_orig = np.copy(img_lst) \n",
    "\n",
    "labels, cluster_centers, n_clusters = mean_shift(img_lst)\n",
    "\n",
    "label_img = labels.reshape(height, width)\n",
    "for l in range(n_clusters):\n",
    "    img[label_img == l] = cluster_centers[l]\n",
    "\n",
    "rgb_segments = cv2.cvtColor(img, cv2.COLOR_Lab2RGB)"
   ]
  },
  {
   "cell_type": "code",
   "execution_count": null,
   "metadata": {},
   "outputs": [],
   "source": [
    "plt.figure() \n",
    "plt.imshow(rgb_segments, interpolation='none')"
   ]
  },
  {
   "cell_type": "code",
   "execution_count": null,
   "metadata": {
    "slideshow": {
     "slide_type": "subslide"
    }
   },
   "outputs": [],
   "source": [
    "# Plot the segmentet pixel clusters\n",
    "from itertools import cycle\n",
    "\n",
    "labels, cluster_centers, n_clusters = mean_shift(img_lst_orig)\n",
    "\n",
    "fig = plt.figure()\n",
    "ax = fig.add_subplot(111, projection='3d')\n",
    "\n",
    "colors = cycle('cmybgr')\n",
    "for k, col in zip(range(n_clusters), colors):\n",
    "    my_members = (labels == k)\n",
    "    cluster_center = cluster_centers[k]\n",
    "    \n",
    "    x, y, z = img_lst_orig[my_members,0], img_lst_orig[my_members,1], img_lst_orig[my_members,2]\n",
    "    ax.scatter(x, y, z, c=col,  linewidth=0.2, alpha=0.1)\n",
    "    ax.scatter(cluster_center[0], cluster_center[1], cluster_center[2], s=150, c='k')\n",
    "    \n",
    "plt.title('Estimated number of clusters: {}'.format(n_clusters))\n",
    "plt.show()"
   ]
  },
  {
   "cell_type": "code",
   "execution_count": null,
   "metadata": {
    "slideshow": {
     "slide_type": "subslide"
    }
   },
   "outputs": [],
   "source": [
    "print(cluster_centers)"
   ]
  },
  {
   "cell_type": "markdown",
   "metadata": {
    "slideshow": {
     "slide_type": "subslide"
    }
   },
   "source": [
    "# Self study on meanshift\n",
    "\n",
    "  * http://stackoverflow.com/a/17912660\n",
    "  * http://www.chioka.in/meanshift-algorithm-for-the-rest-of-us-python/\n",
    "  * https://en.wikipedia.org/wiki/Mean_shift\n",
    "  * https://github.com/mattnedrich/MeanShift_py\n",
    "\n",
    "```bash\n",
    "git clone https://github.com/mattnedrich/MeanShift_py.git\n",
    "```\n",
    "\n",
    "http://stackoverflow.com/a/17912660 explaining the mean shift algorithm."
   ]
  }
 ],
 "metadata": {
  "celltoolbar": "Slideshow",
  "kernelspec": {
   "display_name": "Python 3",
   "language": "python",
   "name": "python3"
  },
  "language_info": {
   "codemirror_mode": {
    "name": "ipython",
    "version": 3
   },
   "file_extension": ".py",
   "mimetype": "text/x-python",
   "name": "python",
   "nbconvert_exporter": "python",
   "pygments_lexer": "ipython3",
   "version": "3.7.6"
  },
  "varInspector": {
   "cols": {
    "lenName": 16,
    "lenType": 16,
    "lenVar": 40
   },
   "kernels_config": {
    "python": {
     "delete_cmd_postfix": "",
     "delete_cmd_prefix": "del ",
     "library": "var_list.py",
     "varRefreshCmd": "print(var_dic_list())"
    },
    "r": {
     "delete_cmd_postfix": ") ",
     "delete_cmd_prefix": "rm(",
     "library": "var_list.r",
     "varRefreshCmd": "cat(var_dic_list()) "
    }
   },
   "types_to_exclude": [
    "module",
    "function",
    "builtin_function_or_method",
    "instance",
    "_Feature"
   ],
   "window_display": false
  }
 },
 "nbformat": 4,
 "nbformat_minor": 2
}
