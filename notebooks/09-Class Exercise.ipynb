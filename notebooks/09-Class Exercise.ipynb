{
 "cells": [
  {
   "cell_type": "markdown",
   "id": "2fd306df",
   "metadata": {},
   "source": [
    "# Clustering\n",
    "[Source](https://scikit-learn.org/stable/modules/clustering.html)\n",
    "### Many different algortihms with very different results\n",
    "![](https://scikit-learn.org/stable/_images/sphx_glr_plot_cluster_comparison_001.png)\n",
    "\n",
    "### Part 1\n",
    "##### When doing these exercises print your data often to see what you get from the algorithms\n",
    "1. Create a synthetic dataset with sklearn.datasets.make_classification\n",
    "  - `X, y = make_classification(n_samples=1000, n_features=2, n_informative=2, n_redundant=0, n_clusters_per_class=1, random_state=4)`\n",
    "  - X represents the 2 features in a list\n",
    "  - y represents the classification label for each feature set\n",
    "2. Based on the labels scatter plot each of the 1000 entries in one of 2 different colors\n",
    "3. Now without knowing the labels (we do know them ofcourse) we will try different algorithms on the data\n",
    "    - import AffinityPropagation from sklearn.cluster \n",
    "    - Create a model: `model = AffinityPropagation(damping=0.7)`\n",
    "    - Fit the model with the data from the features (X): `model.fit(X)`\n",
    "    - And assign cluster to each sample: `p=model.predict(X)`\n",
    "    - Find the unique clusters with `np.unique()` method\n",
    "    - Scatterplot each sample, colored by its cluster\n",
    "    - Compare with the scatterplot of the actual classifications\n",
    "4. Try with cluster algorithm: [DBSCAN](https://scikit-learn.org/stable/modules/generated/sklearn.cluster.DBSCAN.html)\n",
    "    - Use the documentation to create DBSCAN clusters for the feature samples\n",
    "    - Scatter plot the result\n",
    "5. Do the same with [MeanShift](https://scikit-learn.org/stable/modules/generated/sklearn.cluster.MeanShift.html)\n",
    "6. Finally do it with the the [Birch algortihm](https://scikit-learn.org/stable/modules/generated/sklearn.cluster.Birch.html)\n",
    "    - You could try to with the [Gaussian Mixture algorithm](https://scikit-learn.org/stable/modules/generated/sklearn.mixture.GaussianMixture.html)\n",
    "\n",
    "### Part 2\n",
    "Code along and follow the steps in [this tutorial](https://programminghistorian.org/en/lessons/clustering-with-scikit-learn-in-python#1-loading-the-dataset--exploratory-data-analysis) to use DBSCAN clustering algorithm on articles to try and categorise them into topics. HINT: Install Spacy with following command `!pip install -U pip setuptools wheel && pip install -U spacy && python -m spacy download en_core_web_sm`\n",
    "\n",
    "[Find more about NLP with Spacy here](https://spacy.io/usage/spacy-101)\n",
    "\n",
    "**What is Lemmatization? Assigning the base forms of words. For example, the lemma of “was” is “be”, and the lemma of “rats” is “rat”.**\n",
    "\n",
    "For PCA use this import: `from sklearn.decomposition import PCA` (dimensionality reduction)\n",
    "For K-Means clustering algorithm: `from sklearn.cluster import KMeans, DBSCAN`\n",
    "\n",
    "Create a function that can take a cluster number and return all titles in that cluster. Do you see any pattern?"
   ]
  }
 ],
 "metadata": {
  "kernelspec": {
   "display_name": "Python 3 (ipykernel)",
   "language": "python",
   "name": "python3"
  },
  "language_info": {
   "codemirror_mode": {
    "name": "ipython",
    "version": 3
   },
   "file_extension": ".py",
   "mimetype": "text/x-python",
   "name": "python",
   "nbconvert_exporter": "python",
   "pygments_lexer": "ipython3",
   "version": "3.10.6"
  }
 },
 "nbformat": 4,
 "nbformat_minor": 5
}
