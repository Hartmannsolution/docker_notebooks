{
 "cells": [
  {
   "cell_type": "markdown",
   "id": "6ef08a08",
   "metadata": {},
   "source": [
    "## Exercise meanshift\n",
    "1. load 'data/iris_data.csv' into a dataframe (use decimal=',') and remove the 2 `Petal` columns. Now we are left with a 2D feature space\n",
    "2. get unique labels (Species column)\n",
    "3. plot with a scatter plot each iris flower sample colored by label (3 different colors)\n",
    "![image.png](attachment:image.png)\n",
    "4. use: `MeanShift` and `estimate_bandwidth` from `sklearn.cluster` to first estimate bandwidth and then get the clusters (HINT: estimate_bandwidth() takes an argument: `quantile` set it to `0.2` for best result)\n",
    "5. print out labels, cluster centers and number of clusters (as returned from the MeanShift function)\n",
    "5. create a new scatter plot where each flower is colored according to cluster label\n",
    "6. add a dot for the cluster centers\n",
    "7. Compare the 2 plots (colored by actual labels vs. colored by cluster label)\n",
    "8. Try changing the 'quantile' argument to 0.15 and see what happens to your cluster plot."
   ]
  }
 ],
 "metadata": {
  "kernelspec": {
   "display_name": "Python 3 (ipykernel)",
   "language": "python",
   "name": "python3"
  },
  "language_info": {
   "codemirror_mode": {
    "name": "ipython",
    "version": 3
   },
   "file_extension": ".py",
   "mimetype": "text/x-python",
   "name": "python",
   "nbconvert_exporter": "python",
   "pygments_lexer": "ipython3",
   "version": "3.10.6"
  }
 },
 "nbformat": 4,
 "nbformat_minor": 5
}
