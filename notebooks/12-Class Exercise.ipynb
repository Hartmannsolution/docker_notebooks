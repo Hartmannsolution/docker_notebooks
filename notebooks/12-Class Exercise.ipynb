{
 "cells": [
  {
   "cell_type": "markdown",
   "id": "0b2aa623",
   "metadata": {},
   "source": [
    "# Class exercise 12 - working with text"
   ]
  },
  {
   "cell_type": "markdown",
   "id": "3531b797",
   "metadata": {},
   "source": [
    "# steps\n",
    "\n",
    "### Part 1\n",
    "1. Get data from: \"https://en.wikisource.org/wiki/Portal:State_of_the_Union_Speeches_by_United_States_Presidents\"\n",
    "2. Using BeatifullSoup get all the speeches from 1900-2022\n",
    "3. Load all speech urls into a dictionary with year as key\n",
    "4. Loop through dictionary and save content of each speech in [year].txt files\n",
    "\n",
    "### Part 2\n",
    "1. Install nltk: `pip install nltk`\n",
    "2. From the data/gdp.csv file create a dataframe with year and GDP\n",
    "3. From the data/US presidents.csv file create a dataframe with year, president and party\n",
    "4. From the developed text files in part 1, create a dictionary with year:speech\n",
    "5. Clean text by change all to lowercase and remove '\\n'\n",
    "6. Get words from texts (from nltk.tokenize import word_tokenize). Clean text by removing stop words (from nltk.corpus import stopwords) and all non-alphabetic characters (including , and .)\n",
    "7. Use from nltk.stem import WordNetLemmatizer to lemmatize all texts\n",
    "\n",
    "### Part 3\n",
    "**[TextBlob](https://textblob.readthedocs.io/en/dev/quickstart.html)** returns polarity and subjectivity of a sentence. Polarity lies between [-1,1], -1 defines a negative sentiment and 1 defines a positive sentiment. Subjectivity quantifies the amount of personal opinion and factual information contained in the text. The higher subjectivity means that the text contains personal opinion rather than factual information\n",
    "1. Install both textblob for sentiment analysis and wordclouds (pip install textblob wordclouds)\n",
    "2. Find the polarity and subjectivity of each text (Hint: `TextBlob(text).sentiment`)\n",
    "3. Is there a correlation between negativity and recession years?\n",
    "4. Create a word cloud for the cleaned up speeches of both Trump and Obama. What can be learned from the word clouds?"
   ]
  },
  {
   "cell_type": "code",
   "execution_count": 1,
   "id": "6dadf1a6",
   "metadata": {},
   "outputs": [],
   "source": [
    "import requests\n",
    "import pandas as pd\n",
    "from bs4 import BeautifulSoup\n",
    "import lxml\n",
    "import re\n",
    "import pandas as pd"
   ]
  }
 ],
 "metadata": {
  "kernelspec": {
   "display_name": "Python 3 (ipykernel)",
   "language": "python",
   "name": "python3"
  },
  "language_info": {
   "codemirror_mode": {
    "name": "ipython",
    "version": 3
   },
   "file_extension": ".py",
   "mimetype": "text/x-python",
   "name": "python",
   "nbconvert_exporter": "python",
   "pygments_lexer": "ipython3",
   "version": "3.10.6"
  }
 },
 "nbformat": 4,
 "nbformat_minor": 5
}
