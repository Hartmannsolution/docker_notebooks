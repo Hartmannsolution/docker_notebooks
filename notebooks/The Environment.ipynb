{
 "cells": [
  {
   "cell_type": "markdown",
   "id": "7cacc4d1",
   "metadata": {},
   "source": [
    "# How to use the setup"
   ]
  },
  {
   "cell_type": "markdown",
   "id": "bd5432a8",
   "metadata": {},
   "source": [
    "## Jupyter notebooks\n",
    "- Kernel\n",
    "  - Reload kernel to load modules changes.\n",
    "  - Dont override the list and other types.\n",
    "- Shortcuts\n",
    "  - dd: delete cell\n",
    "  - a: new cell above\n",
    "  - b: new cell below\n",
    "  - ctrl (or shift) + enter: run the cell\n",
    "  - write `!` at beginning of cell to run terminal commands\n",
    "  - "
   ]
  },
  {
   "cell_type": "markdown",
   "id": "52ab1f9c",
   "metadata": {},
   "source": [
    "## VS Code\n",
    "- Attach to container\n",
    "  - Run notebook cells in container with the benefit of code completion\n",
    "- `docker exec -it notebookserver bash`\n",
    "- "
   ]
  },
  {
   "cell_type": "code",
   "execution_count": null,
   "id": "eda2f5af",
   "metadata": {},
   "outputs": [],
   "source": [
    "k"
   ]
  }
 ],
 "metadata": {
  "kernelspec": {
   "display_name": "Python 3 (ipykernel)",
   "language": "python",
   "name": "python3"
  },
  "language_info": {
   "codemirror_mode": {
    "name": "ipython",
    "version": 3
   },
   "file_extension": ".py",
   "mimetype": "text/x-python",
   "name": "python",
   "nbconvert_exporter": "python",
   "pygments_lexer": "ipython3",
   "version": "3.10.6"
  }
 },
 "nbformat": 4,
 "nbformat_minor": 5
}
